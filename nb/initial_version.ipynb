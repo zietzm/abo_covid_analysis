{
 "cells": [
  {
   "cell_type": "markdown",
   "metadata": {},
   "source": [
    "# ABO"
   ]
  },
  {
   "cell_type": "code",
   "execution_count": 1,
   "metadata": {},
   "outputs": [
    {
     "name": "stderr",
     "output_type": "stream",
     "text": [
      "\n",
      "Attaching package: ‘lubridate’\n",
      "\n",
      "The following object is masked from ‘package:base’:\n",
      "\n",
      "    date\n",
      "\n"
     ]
    }
   ],
   "source": [
    "options(readr.num_columns = 0, tidyverse.quiet = T)\n",
    "\n",
    "library(lubridate)\n",
    "library(tidyverse)"
   ]
  },
  {
   "cell_type": "code",
   "execution_count": 2,
   "metadata": {},
   "outputs": [
    {
     "name": "stderr",
     "output_type": "stream",
     "text": [
      "Warning message in .local(conn, statement, ...):\n",
      "“unrecognized MySQL field type 7 in column 4 imported as character”Warning message in .local(conn, statement, ...):\n",
      "“unrecognized MySQL field type 7 in column 6 imported as character”Warning message in .local(conn, statement, ...):\n",
      "“unrecognized MySQL field type 7 in column 4 imported as character”Warning message in .local(conn, statement, ...):\n",
      "“Decimal MySQL column 8 imported as numeric”Warning message in .local(conn, statement, ...):\n",
      "“Decimal MySQL column 11 imported as numeric”Warning message in .local(conn, statement, ...):\n",
      "“Decimal MySQL column 12 imported as numeric”Warning message in .local(conn, statement, ...):\n",
      "“Unsigned INTEGER in col 0 imported as numeric”Warning message in .local(conn, statement, ...):\n",
      "“Unsigned INTEGER in col 0 imported as numeric”"
     ]
    }
   ],
   "source": [
    "con <- DBI::dbConnect(\n",
    "    RMySQL::MySQL(), \n",
    "    host = \"localhost\",\n",
    "    user = \"mnz2108\",\n",
    "    dbname = \"clinical_merge_v5_240919\",\n",
    "    password = read_file('../mysql_password.txt') %>% str_replace('\\n', '')\n",
    ")\n",
    "\n",
    "# DBI::dbListTables(con)\n",
    "\n",
    "date = '2020-04-05'\n",
    "\n",
    "covid_test_results <- con %>% tbl(\"1_covid_test_results_cuimc\") %>%\n",
    "    filter(date_retrieved == date)\n",
    "\n",
    "condition <- con %>% tbl(\"condition_occurrence\")\n",
    "measurement <- con %>% tbl(\"measurement\")\n",
    "\n",
    "concept_ancestor <- con %>% tbl(\"concept_ancestor\")\n",
    "concept <- con %>% tbl(\"concept\")\n",
    "\n",
    "covid_nyp_person <- con %>% tbl(\"1_covid_patients_noname\") %>% \n",
    "    filter(date_retrieved == date)\n",
    "covid_person <- con %>% tbl(\"1_covid_persons\")\n",
    "\n",
    "covid_nyp_measurements <- con %>% tbl(\"1_covid_measurements_noname\") %>% \n",
    "    filter(date_retrieved == date)\n",
    "\n",
    "covid_nyp_intubation <- con %>% tbl(\"1_covid_intubation_orders_noname\") %>% \n",
    "    filter(date_retrieved == date)\n",
    "\n",
    "covid_nyp_test_results <- con %>% tbl(\"1_covid_labs_noname\") %>% \n",
    "    filter(date_retrieved == date)\n",
    "\n",
    "covid_p2p <- con %>% tbl(\"1_covid_patient2person\")\n",
    "cumc_map <- con %>% tbl(\"cumc_patient_mappings\")"
   ]
  },
  {
   "cell_type": "markdown",
   "metadata": {},
   "source": [
    "# Subsetting all NYP data\n",
    "\n",
    "## COVID infection test results"
   ]
  },
  {
   "cell_type": "code",
   "execution_count": 3,
   "metadata": {},
   "outputs": [],
   "source": [
    "covid_test_formatted <- covid_nyp_test_results %>% \n",
    "    filter(comment_id == 36072) %>%\n",
    "    select(pat_mrn_id, sex, birth_date, death_date, \n",
    "           covid_result_datetime = result_datetime, covid_result = ord_value)    \n",
    "#     filter(comment_id == 36195 | comment_id == 36074) # <- these others have only 2 pts per."
   ]
  },
  {
   "cell_type": "markdown",
   "metadata": {},
   "source": [
    "## Intubated individuals (all NYP data)"
   ]
  },
  {
   "cell_type": "code",
   "execution_count": 4,
   "metadata": {},
   "outputs": [],
   "source": [
    "covid_intubation_formatted <- covid_nyp_intubation %>%\n",
    "    select(pat_mrn_id, intubation_order_date = order_date, \n",
    "           intubation_description = description, intubation_display_name = display_name)"
   ]
  },
  {
   "cell_type": "markdown",
   "metadata": {},
   "source": [
    "## Assign blood types\n",
    "\n",
    "Can use data from both `measurement` table (up to 2019 CUIMC data) and `1_covid_measurements_noname`, COVID-specific measurements from all NYP.\n",
    "\n",
    "measurement_concept_id = 3045765 (http://athena.ohdsi.org/search-terms/terms/3045765)"
   ]
  },
  {
   "cell_type": "code",
   "execution_count": 5,
   "metadata": {},
   "outputs": [],
   "source": [
    "covid_blood_type_formatted <- union_all(\n",
    "    # Blood types from COVID NYP table (Only January 2020 and later)\n",
    "    covid_nyp_measurements %>%\n",
    "        filter(component_name %>% str_detect('ABORH') & ord_value != 'Invalid') %>%\n",
    "        select(pat_mrn_id, blood_type_value = ord_value) %>%\n",
    "        distinct(),\n",
    "    \n",
    "    # Blood types from measurement table (before January 2020)\n",
    "    measurement %>%\n",
    "        filter(measurement_concept_id == 3045765 & value_source_value != \"Invalid\") %>%\n",
    "        select(person_id, value_source_value) %>%\n",
    "        inner_join(covid_p2p, by = 'person_id') %>%\n",
    "        select(pat_mrn_id, blood_type_value = value_source_value) %>%\n",
    "        distinct()\n",
    ")"
   ]
  },
  {
   "cell_type": "code",
   "execution_count": 6,
   "metadata": {},
   "outputs": [
    {
     "name": "stdout",
     "output_type": "stream",
     "text": [
      "[1] 1\n"
     ]
    },
    {
     "data": {
      "text/html": [
       "<table>\n",
       "<caption>A tibble: 0 × 5</caption>\n",
       "<thead>\n",
       "\t<tr><th scope=col>pat_mrn_id</th><th scope=col>blood_type_value</th><th scope=col>abo</th><th scope=col>rh</th><th scope=col>num</th></tr>\n",
       "\t<tr><th scope=col>&lt;int&gt;</th><th scope=col>&lt;chr&gt;</th><th scope=col>&lt;chr&gt;</th><th scope=col>&lt;chr&gt;</th><th scope=col>&lt;int&gt;</th></tr>\n",
       "</thead>\n",
       "<tbody>\n",
       "</tbody>\n",
       "</table>\n"
      ],
      "text/latex": [
       "A tibble: 0 × 5\n",
       "\\begin{tabular}{r|lllll}\n",
       " pat\\_mrn\\_id & blood\\_type\\_value & abo & rh & num\\\\\n",
       " <int> & <chr> & <chr> & <chr> & <int>\\\\\n",
       "\\hline\n",
       "\\end{tabular}\n"
      ],
      "text/markdown": [
       "\n",
       "A tibble: 0 × 5\n",
       "\n",
       "| pat_mrn_id &lt;int&gt; | blood_type_value &lt;chr&gt; | abo &lt;chr&gt; | rh &lt;chr&gt; | num &lt;int&gt; |\n",
       "|---|---|---|---|---|\n",
       "\n"
      ],
      "text/plain": [
       "     pat_mrn_id blood_type_value abo rh num"
      ]
     },
     "metadata": {},
     "output_type": "display_data"
    }
   ],
   "source": [
    "# Find individuals with multiple distinct blood type measurements\n",
    "# Almost all of these are like 'A Rh Positive' and 'A Positive'\n",
    "multiple_blood_types_df <- covid_blood_type_formatted %>%\n",
    "    group_by(pat_mrn_id) %>%\n",
    "    summarize(num = n_distinct(blood_type_value)) %>%\n",
    "    filter(num > 1) %>%\n",
    "    ungroup %>%\n",
    "\n",
    "    distinct(pat_mrn_id) %>%\n",
    "    inner_join(covid_blood_type_formatted, by = 'pat_mrn_id') %>%\n",
    "    as_tibble %>%\n",
    "    mutate(\n",
    "        abo = blood_type_value %>% str_extract('^[ABO]+'),\n",
    "        rh = blood_type_value %>% str_to_lower %>% str_extract('pos|neg')\n",
    "    ) %>%\n",
    "    group_by(pat_mrn_id) %>%\n",
    "    mutate(num = n_distinct(abo, rh)) %>%\n",
    "    ungroup %>%\n",
    "    filter(num > 1)\n",
    "    \n",
    "multiple_blood_types_df %>% distinct(pat_mrn_id) %>% nrow %>% print\n",
    "\n",
    "multiple_blood_types_df %>% head(0)"
   ]
  },
  {
   "cell_type": "markdown",
   "metadata": {},
   "source": [
    "## Combine test results, blood type, intubation, death"
   ]
  },
  {
   "cell_type": "code",
   "execution_count": 7,
   "metadata": {},
   "outputs": [
    {
     "data": {
      "text/html": [
       "<table>\n",
       "<caption>A tibble: 0 × 10</caption>\n",
       "<thead>\n",
       "\t<tr><th scope=col>pat_mrn_id</th><th scope=col>sex</th><th scope=col>birth_date</th><th scope=col>death_date</th><th scope=col>covid_result_datetime</th><th scope=col>covid_result</th><th scope=col>blood_type_value</th><th scope=col>intubation_order_date</th><th scope=col>intubation_description</th><th scope=col>intubation_display_name</th></tr>\n",
       "\t<tr><th scope=col>&lt;int&gt;</th><th scope=col>&lt;int&gt;</th><th scope=col>&lt;chr&gt;</th><th scope=col>&lt;chr&gt;</th><th scope=col>&lt;chr&gt;</th><th scope=col>&lt;chr&gt;</th><th scope=col>&lt;chr&gt;</th><th scope=col>&lt;chr&gt;</th><th scope=col>&lt;chr&gt;</th><th scope=col>&lt;chr&gt;</th></tr>\n",
       "</thead>\n",
       "<tbody>\n",
       "</tbody>\n",
       "</table>\n"
      ],
      "text/latex": [
       "A tibble: 0 × 10\n",
       "\\begin{tabular}{r|llllllllll}\n",
       " pat\\_mrn\\_id & sex & birth\\_date & death\\_date & covid\\_result\\_datetime & covid\\_result & blood\\_type\\_value & intubation\\_order\\_date & intubation\\_description & intubation\\_display\\_name\\\\\n",
       " <int> & <int> & <chr> & <chr> & <chr> & <chr> & <chr> & <chr> & <chr> & <chr>\\\\\n",
       "\\hline\n",
       "\\end{tabular}\n"
      ],
      "text/markdown": [
       "\n",
       "A tibble: 0 × 10\n",
       "\n",
       "| pat_mrn_id &lt;int&gt; | sex &lt;int&gt; | birth_date &lt;chr&gt; | death_date &lt;chr&gt; | covid_result_datetime &lt;chr&gt; | covid_result &lt;chr&gt; | blood_type_value &lt;chr&gt; | intubation_order_date &lt;chr&gt; | intubation_description &lt;chr&gt; | intubation_display_name &lt;chr&gt; |\n",
       "|---|---|---|---|---|---|---|---|---|---|\n",
       "\n"
      ],
      "text/plain": [
       "     pat_mrn_id sex birth_date death_date covid_result_datetime covid_result\n",
       "     blood_type_value intubation_order_date intubation_description\n",
       "     intubation_display_name"
      ]
     },
     "metadata": {},
     "output_type": "display_data"
    }
   ],
   "source": [
    "full_df <- covid_test_formatted %>%\n",
    "    left_join(covid_blood_type_formatted, by = 'pat_mrn_id') %>%\n",
    "    left_join(covid_intubation_formatted, by = 'pat_mrn_id') %>%\n",
    "    as_tibble %>%\n",
    "    anti_join(multiple_blood_types_df %>% distinct(pat_mrn_id), \n",
    "              by = 'pat_mrn_id')\n",
    "\n",
    "full_df %>% head(0)"
   ]
  },
  {
   "cell_type": "markdown",
   "metadata": {},
   "source": [
    "## Clean to ease production of contingency tables"
   ]
  },
  {
   "cell_type": "code",
   "execution_count": 8,
   "metadata": {},
   "outputs": [
    {
     "data": {
      "text/html": [
       "<table>\n",
       "<caption>A tibble: 0 × 8</caption>\n",
       "<thead>\n",
       "\t<tr><th scope=col>pat_mrn_id</th><th scope=col>sex</th><th scope=col>age</th><th scope=col>abo</th><th scope=col>rh</th><th scope=col>intubation_binary</th><th scope=col>died_binary</th><th scope=col>covid_result_binary</th></tr>\n",
       "\t<tr><th scope=col>&lt;int&gt;</th><th scope=col>&lt;int&gt;</th><th scope=col>&lt;dbl&gt;</th><th scope=col>&lt;chr&gt;</th><th scope=col>&lt;chr&gt;</th><th scope=col>&lt;int&gt;</th><th scope=col>&lt;int&gt;</th><th scope=col>&lt;int&gt;</th></tr>\n",
       "</thead>\n",
       "<tbody>\n",
       "</tbody>\n",
       "</table>\n"
      ],
      "text/latex": [
       "A tibble: 0 × 8\n",
       "\\begin{tabular}{r|llllllll}\n",
       " pat\\_mrn\\_id & sex & age & abo & rh & intubation\\_binary & died\\_binary & covid\\_result\\_binary\\\\\n",
       " <int> & <int> & <dbl> & <chr> & <chr> & <int> & <int> & <int>\\\\\n",
       "\\hline\n",
       "\\end{tabular}\n"
      ],
      "text/markdown": [
       "\n",
       "A tibble: 0 × 8\n",
       "\n",
       "| pat_mrn_id &lt;int&gt; | sex &lt;int&gt; | age &lt;dbl&gt; | abo &lt;chr&gt; | rh &lt;chr&gt; | intubation_binary &lt;int&gt; | died_binary &lt;int&gt; | covid_result_binary &lt;int&gt; |\n",
       "|---|---|---|---|---|---|---|---|\n",
       "\n"
      ],
      "text/plain": [
       "     pat_mrn_id sex age abo rh intubation_binary died_binary\n",
       "     covid_result_binary"
      ]
     },
     "metadata": {},
     "output_type": "display_data"
    }
   ],
   "source": [
    "final_formatted_df <- full_df %>% \n",
    "    mutate(\n",
    "        covid_result_binary = (covid_result == 'Detected') %>% as.integer,\n",
    "        intubation_binary = (!is.na(intubation_description) & \n",
    "                             !is.na(intubation_order_date) &\n",
    "                             !is.na(intubation_display_name)) %>% as.integer,\n",
    "        died_binary = (death_date != '0000-00-00') %>% as.integer,\n",
    "        \n",
    "        abo = blood_type_value %>% str_extract('^[ABO]+'),\n",
    "        rh = blood_type_value %>% str_to_lower %>% str_extract('neg|pos'),\n",
    "        \n",
    "        birth_date = ymd(birth_date),\n",
    "        age = interval(birth_date, ymd(date)) %>% time_length(\"years\")\n",
    "    ) %>%\n",
    "    \n",
    "    # Remove duplicate blood types, covid results\n",
    "    select(pat_mrn_id, sex, age, abo, rh, covid_result_binary, intubation_binary, died_binary) %>%\n",
    "    distinct() %>%\n",
    "\n",
    "    # Call anyone with a COVID+ test (ever) a COVID+ case\n",
    "    group_by(pat_mrn_id, sex, age, abo, rh, intubation_binary, died_binary) %>%\n",
    "    summarize(covid_result_binary = sum(covid_result_binary)) %>%\n",
    "    ungroup %>%\n",
    "\n",
    "    # Remove obvious error\n",
    "    filter(pat_mrn_id != 0) %>%\n",
    "\n",
    "    # Fill NA with relevant values\n",
    "    replace_na(list(\n",
    "        abo = 'unknown',\n",
    "        rh = 'unknown'\n",
    "    ))\n",
    "\n",
    "final_formatted_df %>% head(0)"
   ]
  },
  {
   "cell_type": "markdown",
   "metadata": {},
   "source": [
    "### General population blood group frequencies"
   ]
  },
  {
   "cell_type": "code",
   "execution_count": 9,
   "metadata": {},
   "outputs": [],
   "source": [
    "print_num_remove_contradictory <- function(df) {\n",
    "    df %>%\n",
    "        filter(num > 1) %>%\n",
    "        distinct(person_id) %>%\n",
    "        nrow %>%\n",
    "        print\n",
    "    \n",
    "    df %>%\n",
    "        filter(num == 1)\n",
    "}"
   ]
  },
  {
   "cell_type": "code",
   "execution_count": 10,
   "metadata": {},
   "outputs": [
    {
     "name": "stdout",
     "output_type": "stream",
     "text": [
      "[1] 114\n"
     ]
    },
    {
     "data": {
      "text/html": [
       "<table>\n",
       "<caption>A tibble: 8 × 3</caption>\n",
       "<thead>\n",
       "\t<tr><th scope=col>abo</th><th scope=col>rh</th><th scope=col>num_general</th></tr>\n",
       "\t<tr><th scope=col>&lt;chr&gt;</th><th scope=col>&lt;chr&gt;</th><th scope=col>&lt;int&gt;</th></tr>\n",
       "</thead>\n",
       "<tbody>\n",
       "\t<tr><td>A </td><td>neg</td><td> 3447</td></tr>\n",
       "\t<tr><td>A </td><td>pos</td><td>32196</td></tr>\n",
       "\t<tr><td>AB</td><td>neg</td><td>  394</td></tr>\n",
       "\t<tr><td>AB</td><td>pos</td><td> 4188</td></tr>\n",
       "\t<tr><td>B </td><td>neg</td><td> 1422</td></tr>\n",
       "\t<tr><td>B </td><td>pos</td><td>14807</td></tr>\n",
       "\t<tr><td>O </td><td>neg</td><td> 4808</td></tr>\n",
       "\t<tr><td>O </td><td>pos</td><td>47598</td></tr>\n",
       "</tbody>\n",
       "</table>\n"
      ],
      "text/latex": [
       "A tibble: 8 × 3\n",
       "\\begin{tabular}{r|lll}\n",
       " abo & rh & num\\_general\\\\\n",
       " <chr> & <chr> & <int>\\\\\n",
       "\\hline\n",
       "\t A  & neg &  3447\\\\\n",
       "\t A  & pos & 32196\\\\\n",
       "\t AB & neg &   394\\\\\n",
       "\t AB & pos &  4188\\\\\n",
       "\t B  & neg &  1422\\\\\n",
       "\t B  & pos & 14807\\\\\n",
       "\t O  & neg &  4808\\\\\n",
       "\t O  & pos & 47598\\\\\n",
       "\\end{tabular}\n"
      ],
      "text/markdown": [
       "\n",
       "A tibble: 8 × 3\n",
       "\n",
       "| abo &lt;chr&gt; | rh &lt;chr&gt; | num_general &lt;int&gt; |\n",
       "|---|---|---|\n",
       "| A  | neg |  3447 |\n",
       "| A  | pos | 32196 |\n",
       "| AB | neg |   394 |\n",
       "| AB | pos |  4188 |\n",
       "| B  | neg |  1422 |\n",
       "| B  | pos | 14807 |\n",
       "| O  | neg |  4808 |\n",
       "| O  | pos | 47598 |\n",
       "\n"
      ],
      "text/plain": [
       "  abo rh  num_general\n",
       "1 A   neg  3447      \n",
       "2 A   pos 32196      \n",
       "3 AB  neg   394      \n",
       "4 AB  pos  4188      \n",
       "5 B   neg  1422      \n",
       "6 B   pos 14807      \n",
       "7 O   neg  4808      \n",
       "8 O   pos 47598      "
      ]
     },
     "metadata": {},
     "output_type": "display_data"
    }
   ],
   "source": [
    "general_population_blood_group_measurements <- measurement %>%\n",
    "    filter(measurement_concept_id == 3045765 & value_source_value != \"Invalid\") %>%\n",
    "\n",
    "    # Remove individuals tested for COVID\n",
    "    anti_join(\n",
    "        covid_nyp_test_results %>%\n",
    "            inner_join(covid_p2p, by = 'pat_mrn_id'),\n",
    "        by = 'person_id'\n",
    "    ) %>%\n",
    "    \n",
    "    # Remove duplicate values\n",
    "    select(person_id, value_source_value, measurement_date) %>%\n",
    "    distinct() %>%\n",
    "    as_tibble() %>%\n",
    "\n",
    "    # Reformat 'A Rh Positive' and 'A Positive' to same coding\n",
    "    mutate(\n",
    "        abo = value_source_value %>% str_extract('^[ABO]+'),\n",
    "        rh = value_source_value %>% str_to_lower %>% str_extract('neg|pos'),\n",
    "    ) %>%\n",
    "    filter(!is.na(abo) & !is.na(rh)) %>%\n",
    "    distinct(person_id, abo, rh, .keep_all = T) %>%\n",
    "\n",
    "    group_by(person_id) %>%\n",
    "    mutate(num = n()) %>%\n",
    "    ungroup %>%\n",
    "    print_num_remove_contradictory\n",
    "\n",
    "general_population_blood_group_frequencies <- general_population_blood_group_measurements %>%\n",
    "    group_by(abo, rh) %>%\n",
    "    summarize(num_general = n()) %>%\n",
    "    ungroup\n",
    "\n",
    "general_population_blood_group_frequencies"
   ]
  },
  {
   "cell_type": "code",
   "execution_count": 11,
   "metadata": {},
   "outputs": [
    {
     "data": {
      "text/html": [
       "<table>\n",
       "<caption>A tibble: 9 × 9</caption>\n",
       "<thead>\n",
       "\t<tr><th scope=col>abo</th><th scope=col>rh</th><th scope=col>intubation_binary_covid_pos</th><th scope=col>intubation_binary</th><th scope=col>died_binary_covid_pos</th><th scope=col>died_binary</th><th scope=col>covid_result_binary</th><th scope=col>total_tested</th><th scope=col>num_general</th></tr>\n",
       "\t<tr><th scope=col>&lt;chr&gt;</th><th scope=col>&lt;chr&gt;</th><th scope=col>&lt;int&gt;</th><th scope=col>&lt;int&gt;</th><th scope=col>&lt;int&gt;</th><th scope=col>&lt;int&gt;</th><th scope=col>&lt;int&gt;</th><th scope=col>&lt;int&gt;</th><th scope=col>&lt;int&gt;</th></tr>\n",
       "</thead>\n",
       "<tbody>\n",
       "\t<tr><td>A      </td><td>neg    </td><td> 2</td><td> 14</td><td> 1</td><td> 2</td><td>  17</td><td>  43</td><td> 3447</td></tr>\n",
       "\t<tr><td>A      </td><td>pos    </td><td>60</td><td>119</td><td>26</td><td>44</td><td> 216</td><td> 435</td><td>32196</td></tr>\n",
       "\t<tr><td>AB     </td><td>neg    </td><td> 0</td><td>  3</td><td> 0</td><td> 0</td><td>   0</td><td>   5</td><td>  394</td></tr>\n",
       "\t<tr><td>AB     </td><td>pos    </td><td> 8</td><td> 19</td><td> 5</td><td> 8</td><td>  21</td><td>  63</td><td> 4188</td></tr>\n",
       "\t<tr><td>B      </td><td>neg    </td><td> 2</td><td>  6</td><td> 0</td><td> 1</td><td>   7</td><td>  21</td><td> 1422</td></tr>\n",
       "\t<tr><td>B      </td><td>pos    </td><td>33</td><td> 59</td><td>12</td><td>20</td><td> 109</td><td> 231</td><td>14807</td></tr>\n",
       "\t<tr><td>O      </td><td>neg    </td><td> 4</td><td> 10</td><td> 0</td><td> 3</td><td>  21</td><td>  47</td><td> 4808</td></tr>\n",
       "\t<tr><td>O      </td><td>pos    </td><td>70</td><td>157</td><td>36</td><td>56</td><td> 291</td><td> 714</td><td>47598</td></tr>\n",
       "\t<tr><td>unknown</td><td>unknown</td><td>92</td><td>121</td><td>64</td><td>73</td><td>2110</td><td>3463</td><td>   NA</td></tr>\n",
       "</tbody>\n",
       "</table>\n"
      ],
      "text/latex": [
       "A tibble: 9 × 9\n",
       "\\begin{tabular}{r|lllllllll}\n",
       " abo & rh & intubation\\_binary\\_covid\\_pos & intubation\\_binary & died\\_binary\\_covid\\_pos & died\\_binary & covid\\_result\\_binary & total\\_tested & num\\_general\\\\\n",
       " <chr> & <chr> & <int> & <int> & <int> & <int> & <int> & <int> & <int>\\\\\n",
       "\\hline\n",
       "\t A       & neg     &  2 &  14 &  1 &  2 &   17 &   43 &  3447\\\\\n",
       "\t A       & pos     & 60 & 119 & 26 & 44 &  216 &  435 & 32196\\\\\n",
       "\t AB      & neg     &  0 &   3 &  0 &  0 &    0 &    5 &   394\\\\\n",
       "\t AB      & pos     &  8 &  19 &  5 &  8 &   21 &   63 &  4188\\\\\n",
       "\t B       & neg     &  2 &   6 &  0 &  1 &    7 &   21 &  1422\\\\\n",
       "\t B       & pos     & 33 &  59 & 12 & 20 &  109 &  231 & 14807\\\\\n",
       "\t O       & neg     &  4 &  10 &  0 &  3 &   21 &   47 &  4808\\\\\n",
       "\t O       & pos     & 70 & 157 & 36 & 56 &  291 &  714 & 47598\\\\\n",
       "\t unknown & unknown & 92 & 121 & 64 & 73 & 2110 & 3463 &    NA\\\\\n",
       "\\end{tabular}\n"
      ],
      "text/markdown": [
       "\n",
       "A tibble: 9 × 9\n",
       "\n",
       "| abo &lt;chr&gt; | rh &lt;chr&gt; | intubation_binary_covid_pos &lt;int&gt; | intubation_binary &lt;int&gt; | died_binary_covid_pos &lt;int&gt; | died_binary &lt;int&gt; | covid_result_binary &lt;int&gt; | total_tested &lt;int&gt; | num_general &lt;int&gt; |\n",
       "|---|---|---|---|---|---|---|---|---|\n",
       "| A       | neg     |  2 |  14 |  1 |  2 |   17 |   43 |  3447 |\n",
       "| A       | pos     | 60 | 119 | 26 | 44 |  216 |  435 | 32196 |\n",
       "| AB      | neg     |  0 |   3 |  0 |  0 |    0 |    5 |   394 |\n",
       "| AB      | pos     |  8 |  19 |  5 |  8 |   21 |   63 |  4188 |\n",
       "| B       | neg     |  2 |   6 |  0 |  1 |    7 |   21 |  1422 |\n",
       "| B       | pos     | 33 |  59 | 12 | 20 |  109 |  231 | 14807 |\n",
       "| O       | neg     |  4 |  10 |  0 |  3 |   21 |   47 |  4808 |\n",
       "| O       | pos     | 70 | 157 | 36 | 56 |  291 |  714 | 47598 |\n",
       "| unknown | unknown | 92 | 121 | 64 | 73 | 2110 | 3463 |    NA |\n",
       "\n"
      ],
      "text/plain": [
       "  abo     rh      intubation_binary_covid_pos intubation_binary\n",
       "1 A       neg      2                           14              \n",
       "2 A       pos     60                          119              \n",
       "3 AB      neg      0                            3              \n",
       "4 AB      pos      8                           19              \n",
       "5 B       neg      2                            6              \n",
       "6 B       pos     33                           59              \n",
       "7 O       neg      4                           10              \n",
       "8 O       pos     70                          157              \n",
       "9 unknown unknown 92                          121              \n",
       "  died_binary_covid_pos died_binary covid_result_binary total_tested\n",
       "1  1                     2            17                  43        \n",
       "2 26                    44           216                 435        \n",
       "3  0                     0             0                   5        \n",
       "4  5                     8            21                  63        \n",
       "5  0                     1             7                  21        \n",
       "6 12                    20           109                 231        \n",
       "7  0                     3            21                  47        \n",
       "8 36                    56           291                 714        \n",
       "9 64                    73          2110                3463        \n",
       "  num_general\n",
       "1  3447      \n",
       "2 32196      \n",
       "3   394      \n",
       "4  4188      \n",
       "5  1422      \n",
       "6 14807      \n",
       "7  4808      \n",
       "8 47598      \n",
       "9    NA      "
      ]
     },
     "metadata": {},
     "output_type": "display_data"
    }
   ],
   "source": [
    "counts_df <- final_formatted_df %>%\n",
    "    group_by(abo, rh) %>%\n",
    "    summarize(\n",
    "        intubation_binary_covid_pos = sum(intubation_binary & covid_result_binary), \n",
    "        intubation_binary = sum(intubation_binary),\n",
    "        died_binary_covid_pos = sum(died_binary & covid_result_binary),\n",
    "        died_binary = sum(died_binary),\n",
    "        covid_result_binary = sum(covid_result_binary),\n",
    "        total_tested = n()\n",
    "    ) %>%\n",
    "    ungroup %>%\n",
    "    left_join(general_population_blood_group_frequencies, by = c('abo', 'rh'))\n",
    "\n",
    "counts_df"
   ]
  },
  {
   "cell_type": "markdown",
   "metadata": {},
   "source": [
    "## QC"
   ]
  },
  {
   "cell_type": "code",
   "execution_count": 12,
   "metadata": {
    "scrolled": true
   },
   "outputs": [
    {
     "data": {
      "text/html": [
       "<table>\n",
       "<caption>A tibble: 1 × 8</caption>\n",
       "<thead>\n",
       "\t<tr><th scope=col>pat_mrn_id</th><th scope=col>sex</th><th scope=col>age</th><th scope=col>abo</th><th scope=col>rh</th><th scope=col>intubation_binary</th><th scope=col>died_binary</th><th scope=col>covid_result_binary</th></tr>\n",
       "\t<tr><th scope=col>&lt;int&gt;</th><th scope=col>&lt;int&gt;</th><th scope=col>&lt;int&gt;</th><th scope=col>&lt;int&gt;</th><th scope=col>&lt;int&gt;</th><th scope=col>&lt;int&gt;</th><th scope=col>&lt;int&gt;</th><th scope=col>&lt;int&gt;</th></tr>\n",
       "</thead>\n",
       "<tbody>\n",
       "\t<tr><td>0</td><td>0</td><td>0</td><td>0</td><td>0</td><td>0</td><td>0</td><td>0</td></tr>\n",
       "</tbody>\n",
       "</table>\n"
      ],
      "text/latex": [
       "A tibble: 1 × 8\n",
       "\\begin{tabular}{r|llllllll}\n",
       " pat\\_mrn\\_id & sex & age & abo & rh & intubation\\_binary & died\\_binary & covid\\_result\\_binary\\\\\n",
       " <int> & <int> & <int> & <int> & <int> & <int> & <int> & <int>\\\\\n",
       "\\hline\n",
       "\t 0 & 0 & 0 & 0 & 0 & 0 & 0 & 0\\\\\n",
       "\\end{tabular}\n"
      ],
      "text/markdown": [
       "\n",
       "A tibble: 1 × 8\n",
       "\n",
       "| pat_mrn_id &lt;int&gt; | sex &lt;int&gt; | age &lt;int&gt; | abo &lt;int&gt; | rh &lt;int&gt; | intubation_binary &lt;int&gt; | died_binary &lt;int&gt; | covid_result_binary &lt;int&gt; |\n",
       "|---|---|---|---|---|---|---|---|\n",
       "| 0 | 0 | 0 | 0 | 0 | 0 | 0 | 0 |\n",
       "\n"
      ],
      "text/plain": [
       "  pat_mrn_id sex age abo rh intubation_binary died_binary covid_result_binary\n",
       "1 0          0   0   0   0  0                 0           0                  "
      ]
     },
     "metadata": {},
     "output_type": "display_data"
    }
   ],
   "source": [
    "final_formatted_df %>%\n",
    "    summarize_all(.funs = function(col) sum(is.na(col)))"
   ]
  },
  {
   "cell_type": "code",
   "execution_count": 13,
   "metadata": {
    "scrolled": true
   },
   "outputs": [
    {
     "data": {
      "text/html": [
       "<table>\n",
       "<caption>A tibble: 1 × 2</caption>\n",
       "<thead>\n",
       "\t<tr><th scope=col>n()</th><th scope=col>n_distinct(pat_mrn_id)</th></tr>\n",
       "\t<tr><th scope=col>&lt;int&gt;</th><th scope=col>&lt;int&gt;</th></tr>\n",
       "</thead>\n",
       "<tbody>\n",
       "\t<tr><td>5022</td><td>5022</td></tr>\n",
       "</tbody>\n",
       "</table>\n"
      ],
      "text/latex": [
       "A tibble: 1 × 2\n",
       "\\begin{tabular}{r|ll}\n",
       " n() & n\\_distinct(pat\\_mrn\\_id)\\\\\n",
       " <int> & <int>\\\\\n",
       "\\hline\n",
       "\t 5022 & 5022\\\\\n",
       "\\end{tabular}\n"
      ],
      "text/markdown": [
       "\n",
       "A tibble: 1 × 2\n",
       "\n",
       "| n() &lt;int&gt; | n_distinct(pat_mrn_id) &lt;int&gt; |\n",
       "|---|---|\n",
       "| 5022 | 5022 |\n",
       "\n"
      ],
      "text/plain": [
       "  n()  n_distinct(pat_mrn_id)\n",
       "1 5022 5022                  "
      ]
     },
     "metadata": {},
     "output_type": "display_data"
    }
   ],
   "source": [
    "# No duplicate individuals\n",
    "final_formatted_df %>%\n",
    "    summarize(n(), n_distinct(pat_mrn_id))"
   ]
  },
  {
   "cell_type": "code",
   "execution_count": 14,
   "metadata": {},
   "outputs": [
    {
     "data": {
      "text/html": [
       "<table>\n",
       "<caption>A tibble: 1 × 4</caption>\n",
       "<thead>\n",
       "\t<tr><th scope=col>num_negative_intubated</th><th scope=col>num_intubated</th><th scope=col>num_negative</th><th scope=col>num_total</th></tr>\n",
       "\t<tr><th scope=col>&lt;int&gt;</th><th scope=col>&lt;int&gt;</th><th scope=col>&lt;int&gt;</th><th scope=col>&lt;int&gt;</th></tr>\n",
       "</thead>\n",
       "<tbody>\n",
       "\t<tr><td>237</td><td>508</td><td>2230</td><td>5022</td></tr>\n",
       "</tbody>\n",
       "</table>\n"
      ],
      "text/latex": [
       "A tibble: 1 × 4\n",
       "\\begin{tabular}{r|llll}\n",
       " num\\_negative\\_intubated & num\\_intubated & num\\_negative & num\\_total\\\\\n",
       " <int> & <int> & <int> & <int>\\\\\n",
       "\\hline\n",
       "\t 237 & 508 & 2230 & 5022\\\\\n",
       "\\end{tabular}\n"
      ],
      "text/markdown": [
       "\n",
       "A tibble: 1 × 4\n",
       "\n",
       "| num_negative_intubated &lt;int&gt; | num_intubated &lt;int&gt; | num_negative &lt;int&gt; | num_total &lt;int&gt; |\n",
       "|---|---|---|---|\n",
       "| 237 | 508 | 2230 | 5022 |\n",
       "\n"
      ],
      "text/plain": [
       "  num_negative_intubated num_intubated num_negative num_total\n",
       "1 237                    508           2230         5022     "
      ]
     },
     "metadata": {},
     "output_type": "display_data"
    }
   ],
   "source": [
    "# Many COVID- are intubated... seems potentially suspicious.\n",
    "final_formatted_df %>%\n",
    "    mutate(\n",
    "        negative_intubated = ((covid_result_binary == 0) & (intubation_binary == 1)) %>% as.integer\n",
    "    ) %>%\n",
    "    summarize(\n",
    "        num_negative_intubated = sum(negative_intubated),\n",
    "        num_intubated = sum(intubation_binary),\n",
    "        num_negative = sum(covid_result_binary == 0),\n",
    "        num_total = n()\n",
    "    )"
   ]
  },
  {
   "cell_type": "code",
   "execution_count": 15,
   "metadata": {},
   "outputs": [
    {
     "name": "stderr",
     "output_type": "stream",
     "text": [
      "`stat_bin()` using `bins = 30`. Pick better value with `binwidth`.\n"
     ]
    },
    {
     "data": {
      "image/png": "[encoded data removed]",
      "text/plain": [
       "plot without title"
      ]
     },
     "metadata": {},
     "output_type": "display_data"
    }
   ],
   "source": [
    "options(repr.plot.width = 6, repr.plot.height = 3, repr.plot.res = 150)\n",
    "\n",
    "# Specific intubation orders for covid negative individuals\n",
    "# final_formatted_df %>%\n",
    "#     filter(intubation_binary == 1 & covid_result_binary == 0) %>%\n",
    "#     select(pat_mrn_id) %>%\n",
    "#     inner_join(covid_nyp_intubation %>% as_tibble, by = 'pat_mrn_id')\n",
    "\n",
    "\n",
    "covid_nyp_intubation %>%\n",
    "    select(order_date) %>%\n",
    "    as_tibble() %>%\n",
    "    mutate(order_date = order_date %>% ymd()) %>%\n",
    "    ggplot(aes(x = order_date)) + \n",
    "    geom_histogram() +\n",
    "    theme_classic() +\n",
    "    ylab('Number of intubations') +\n",
    "    xlab('Order date')"
   ]
  },
  {
   "cell_type": "markdown",
   "metadata": {},
   "source": [
    "# Perform tests"
   ]
  },
  {
   "cell_type": "code",
   "execution_count": 16,
   "metadata": {},
   "outputs": [],
   "source": [
    "chisq_complete <- function(contingency, comparisons) {\n",
    "    all_tests_df <- data.frame()\n",
    "    for (comparison in names(comparisons)) {\n",
    "        all_tests_df <- all_tests_df %>%\n",
    "            bind_rows(\n",
    "                contingency %>%\n",
    "                    select(choices = comparisons[comparison] %>% unlist) %>%\n",
    "                    chisq.test %>%\n",
    "                    broom::tidy() %>%\n",
    "                    mutate(comparison = comparison)\n",
    "            )\n",
    "    }\n",
    "    all_tests_df\n",
    "}\n",
    "\n",
    "individual_fisher_exact <- function(contingency, comparisons, blood_groups) {\n",
    "    all_tests_df <- data.frame()\n",
    "    for (group in blood_groups) {\n",
    "        one_vs_rest_contingency <- contingency %>%\n",
    "            mutate(\n",
    "                has_this = (blood_group == group) %>% \n",
    "                               as.character %>% \n",
    "                               recode_factor('TRUE' = group, \n",
    "                                      'FALSE' = str_glue('non-{group}') %>% as.character)\n",
    "            )  %>%\n",
    "            select(-blood_group) %>%\n",
    "            group_by(has_this) %>%\n",
    "            summarize_all(sum) %>%\n",
    "            ungroup\n",
    "\n",
    "        for (comparison in names(comparisons)) {\n",
    "            all_tests_df <- all_tests_df %>%\n",
    "                bind_rows(\n",
    "                    one_vs_rest_contingency %>%\n",
    "                        select(choices = comparisons[comparison] %>% unlist) %>%\n",
    "                        fisher.test %>%\n",
    "                        broom::tidy() %>%\n",
    "                        mutate(\n",
    "                            blood_group = group,\n",
    "                            comparison = comparison\n",
    "                        )\n",
    "                )\n",
    "        }\n",
    "    }\n",
    "    all_tests_df %>%\n",
    "        select(blood_group, comparison, method, alternative, estimate, \n",
    "               conf.low, conf.high, p.value)\n",
    "}"
   ]
  },
  {
   "cell_type": "markdown",
   "metadata": {},
   "source": [
    "# ABO "
   ]
  },
  {
   "cell_type": "code",
   "execution_count": 17,
   "metadata": {},
   "outputs": [
    {
     "data": {
      "text/html": [
       "<table>\n",
       "<caption>A tibble: 4 × 12</caption>\n",
       "<thead>\n",
       "\t<tr><th scope=col>blood_group</th><th scope=col>covid_positive</th><th scope=col>covid_negative</th><th scope=col>intubated</th><th scope=col>not_intubated</th><th scope=col>intubated_covid_positive</th><th scope=col>not_intubated_covid_positive</th><th scope=col>died</th><th scope=col>alive</th><th scope=col>died_covid_positive</th><th scope=col>alive_covid_positive</th><th scope=col>general_pop</th></tr>\n",
       "\t<tr><th scope=col>&lt;chr&gt;</th><th scope=col>&lt;int&gt;</th><th scope=col>&lt;int&gt;</th><th scope=col>&lt;int&gt;</th><th scope=col>&lt;int&gt;</th><th scope=col>&lt;int&gt;</th><th scope=col>&lt;int&gt;</th><th scope=col>&lt;int&gt;</th><th scope=col>&lt;int&gt;</th><th scope=col>&lt;int&gt;</th><th scope=col>&lt;int&gt;</th><th scope=col>&lt;int&gt;</th></tr>\n",
       "</thead>\n",
       "<tbody>\n",
       "\t<tr><td>A </td><td>233</td><td>245</td><td>133</td><td>345</td><td>62</td><td>171</td><td>46</td><td>432</td><td>27</td><td>206</td><td>35643</td></tr>\n",
       "\t<tr><td>AB</td><td> 21</td><td> 47</td><td> 22</td><td> 46</td><td> 8</td><td> 13</td><td> 8</td><td> 60</td><td> 5</td><td> 16</td><td> 4582</td></tr>\n",
       "\t<tr><td>B </td><td>116</td><td>136</td><td> 65</td><td>187</td><td>35</td><td> 81</td><td>21</td><td>231</td><td>12</td><td>104</td><td>16229</td></tr>\n",
       "\t<tr><td>O </td><td>312</td><td>449</td><td>167</td><td>594</td><td>74</td><td>238</td><td>59</td><td>702</td><td>36</td><td>276</td><td>52406</td></tr>\n",
       "</tbody>\n",
       "</table>\n"
      ],
      "text/latex": [
       "A tibble: 4 × 12\n",
       "\\begin{tabular}{r|llllllllllll}\n",
       " blood\\_group & covid\\_positive & covid\\_negative & intubated & not\\_intubated & intubated\\_covid\\_positive & not\\_intubated\\_covid\\_positive & died & alive & died\\_covid\\_positive & alive\\_covid\\_positive & general\\_pop\\\\\n",
       " <chr> & <int> & <int> & <int> & <int> & <int> & <int> & <int> & <int> & <int> & <int> & <int>\\\\\n",
       "\\hline\n",
       "\t A  & 233 & 245 & 133 & 345 & 62 & 171 & 46 & 432 & 27 & 206 & 35643\\\\\n",
       "\t AB &  21 &  47 &  22 &  46 &  8 &  13 &  8 &  60 &  5 &  16 &  4582\\\\\n",
       "\t B  & 116 & 136 &  65 & 187 & 35 &  81 & 21 & 231 & 12 & 104 & 16229\\\\\n",
       "\t O  & 312 & 449 & 167 & 594 & 74 & 238 & 59 & 702 & 36 & 276 & 52406\\\\\n",
       "\\end{tabular}\n"
      ],
      "text/markdown": [
       "\n",
       "A tibble: 4 × 12\n",
       "\n",
       "| blood_group &lt;chr&gt; | covid_positive &lt;int&gt; | covid_negative &lt;int&gt; | intubated &lt;int&gt; | not_intubated &lt;int&gt; | intubated_covid_positive &lt;int&gt; | not_intubated_covid_positive &lt;int&gt; | died &lt;int&gt; | alive &lt;int&gt; | died_covid_positive &lt;int&gt; | alive_covid_positive &lt;int&gt; | general_pop &lt;int&gt; |\n",
       "|---|---|---|---|---|---|---|---|---|---|---|---|\n",
       "| A  | 233 | 245 | 133 | 345 | 62 | 171 | 46 | 432 | 27 | 206 | 35643 |\n",
       "| AB |  21 |  47 |  22 |  46 |  8 |  13 |  8 |  60 |  5 |  16 |  4582 |\n",
       "| B  | 116 | 136 |  65 | 187 | 35 |  81 | 21 | 231 | 12 | 104 | 16229 |\n",
       "| O  | 312 | 449 | 167 | 594 | 74 | 238 | 59 | 702 | 36 | 276 | 52406 |\n",
       "\n"
      ],
      "text/plain": [
       "  blood_group covid_positive covid_negative intubated not_intubated\n",
       "1 A           233            245            133       345          \n",
       "2 AB           21             47             22        46          \n",
       "3 B           116            136             65       187          \n",
       "4 O           312            449            167       594          \n",
       "  intubated_covid_positive not_intubated_covid_positive died alive\n",
       "1 62                       171                          46   432  \n",
       "2  8                        13                           8    60  \n",
       "3 35                        81                          21   231  \n",
       "4 74                       238                          59   702  \n",
       "  died_covid_positive alive_covid_positive general_pop\n",
       "1 27                  206                  35643      \n",
       "2  5                   16                   4582      \n",
       "3 12                  104                  16229      \n",
       "4 36                  276                  52406      "
      ]
     },
     "metadata": {},
     "output_type": "display_data"
    }
   ],
   "source": [
    "abo_contingency <- counts_df %>%\n",
    "    filter(abo != 'unknown') %>%\n",
    "    group_by(abo) %>%\n",
    "    summarize(\n",
    "        intubated = sum(intubation_binary), \n",
    "        intubated_covid_positive = sum(intubation_binary_covid_pos),\n",
    "        died_covid_positive = sum(died_binary_covid_pos),\n",
    "        died = sum(died_binary),\n",
    "        covid_positive = sum(covid_result_binary),\n",
    "        total_tested = sum(total_tested),\n",
    "        general_pop = sum(num_general)\n",
    "    ) %>%\n",
    "    ungroup %>%\n",
    "    rename(blood_group = abo) %>%\n",
    "    mutate(\n",
    "        covid_negative = total_tested - covid_positive,\n",
    "        not_intubated = total_tested - intubated,\n",
    "        not_intubated_covid_positive = covid_positive - intubated_covid_positive,\n",
    "        alive = total_tested - died,\n",
    "        alive_covid_positive = covid_positive - died_covid_positive\n",
    "    ) %>%\n",
    "    select(blood_group, covid_positive, covid_negative, intubated, not_intubated, \n",
    "           intubated_covid_positive, not_intubated_covid_positive, died, alive, \n",
    "           died_covid_positive, alive_covid_positive, general_pop)\n",
    "\n",
    "abo_contingency"
   ]
  },
  {
   "cell_type": "code",
   "execution_count": 18,
   "metadata": {},
   "outputs": [
    {
     "name": "stderr",
     "output_type": "stream",
     "text": [
      "Warning message in chisq.test(.):\n",
      "“Chi-squared approximation may be incorrect”"
     ]
    }
   ],
   "source": [
    "comparisons <- list(\n",
    "    'positive_vs_general' = c('covid_positive', 'general_pop'),\n",
    "    'positive_vs_negative' = c('covid_positive', 'covid_negative'),\n",
    "    'intubated_covid_positive_vs_not_intubated_covid_positive' = c('intubated_covid_positive', \n",
    "                                                                   'not_intubated_covid_positive'),\n",
    "    'died_covid_positive_vs_alive_covid_positive' = c('died_covid_positive', 'alive_covid_positive')\n",
    ")\n",
    "abo_blood_groups <- abo_contingency %>% pull(blood_group)\n",
    "\n",
    "# Chi-square tests for each comparison to see if blood group distributions are\n",
    "# equivalent between the comparison groups\n",
    "abo_association_tests_df <- chisq_complete(abo_contingency, comparisons)\n",
    "\n",
    "# Fisher's exact tests for each blood group vs all others against the outcome\n",
    "abo_one_vs_rest_tests_df <- individual_fisher_exact(abo_contingency, \n",
    "                                                    comparisons, \n",
    "                                                    abo_blood_groups)"
   ]
  },
  {
   "cell_type": "markdown",
   "metadata": {},
   "source": [
    "# ABO+Rh\n",
    "\n",
    "Here, we've removed AB- by requring that more than 5 individuals with each blood type have been tested for COVID."
   ]
  },
  {
   "cell_type": "code",
   "execution_count": 19,
   "metadata": {
    "scrolled": true
   },
   "outputs": [
    {
     "data": {
      "text/html": [
       "<table>\n",
       "<caption>A tibble: 8 × 13</caption>\n",
       "<thead>\n",
       "\t<tr><th scope=col>blood_group</th><th scope=col>covid_positive</th><th scope=col>covid_negative</th><th scope=col>intubated</th><th scope=col>not_intubated</th><th scope=col>intubated_covid_positive</th><th scope=col>not_intubated_covid_positive</th><th scope=col>died</th><th scope=col>alive</th><th scope=col>died_covid_positive</th><th scope=col>alive_covid_positive</th><th scope=col>general_pop</th><th scope=col>total_tested</th></tr>\n",
       "\t<tr><th scope=col>&lt;chr&gt;</th><th scope=col>&lt;int&gt;</th><th scope=col>&lt;int&gt;</th><th scope=col>&lt;int&gt;</th><th scope=col>&lt;int&gt;</th><th scope=col>&lt;int&gt;</th><th scope=col>&lt;int&gt;</th><th scope=col>&lt;int&gt;</th><th scope=col>&lt;int&gt;</th><th scope=col>&lt;int&gt;</th><th scope=col>&lt;int&gt;</th><th scope=col>&lt;int&gt;</th><th scope=col>&lt;int&gt;</th></tr>\n",
       "</thead>\n",
       "<tbody>\n",
       "\t<tr><td>A-neg </td><td> 17</td><td> 26</td><td> 14</td><td> 29</td><td> 2</td><td> 15</td><td> 2</td><td> 41</td><td> 1</td><td> 16</td><td> 3447</td><td> 43</td></tr>\n",
       "\t<tr><td>A-pos </td><td>216</td><td>219</td><td>119</td><td>316</td><td>60</td><td>156</td><td>44</td><td>391</td><td>26</td><td>190</td><td>32196</td><td>435</td></tr>\n",
       "\t<tr><td>AB-neg</td><td>  0</td><td>  5</td><td>  3</td><td>  2</td><td> 0</td><td>  0</td><td> 0</td><td>  5</td><td> 0</td><td>  0</td><td>  394</td><td>  5</td></tr>\n",
       "\t<tr><td>AB-pos</td><td> 21</td><td> 42</td><td> 19</td><td> 44</td><td> 8</td><td> 13</td><td> 8</td><td> 55</td><td> 5</td><td> 16</td><td> 4188</td><td> 63</td></tr>\n",
       "\t<tr><td>B-neg </td><td>  7</td><td> 14</td><td>  6</td><td> 15</td><td> 2</td><td>  5</td><td> 1</td><td> 20</td><td> 0</td><td>  7</td><td> 1422</td><td> 21</td></tr>\n",
       "\t<tr><td>B-pos </td><td>109</td><td>122</td><td> 59</td><td>172</td><td>33</td><td> 76</td><td>20</td><td>211</td><td>12</td><td> 97</td><td>14807</td><td>231</td></tr>\n",
       "\t<tr><td>O-neg </td><td> 21</td><td> 26</td><td> 10</td><td> 37</td><td> 4</td><td> 17</td><td> 3</td><td> 44</td><td> 0</td><td> 21</td><td> 4808</td><td> 47</td></tr>\n",
       "\t<tr><td>O-pos </td><td>291</td><td>423</td><td>157</td><td>557</td><td>70</td><td>221</td><td>56</td><td>658</td><td>36</td><td>255</td><td>47598</td><td>714</td></tr>\n",
       "</tbody>\n",
       "</table>\n"
      ],
      "text/latex": [
       "A tibble: 8 × 13\n",
       "\\begin{tabular}{r|lllllllllllll}\n",
       " blood\\_group & covid\\_positive & covid\\_negative & intubated & not\\_intubated & intubated\\_covid\\_positive & not\\_intubated\\_covid\\_positive & died & alive & died\\_covid\\_positive & alive\\_covid\\_positive & general\\_pop & total\\_tested\\\\\n",
       " <chr> & <int> & <int> & <int> & <int> & <int> & <int> & <int> & <int> & <int> & <int> & <int> & <int>\\\\\n",
       "\\hline\n",
       "\t A-neg  &  17 &  26 &  14 &  29 &  2 &  15 &  2 &  41 &  1 &  16 &  3447 &  43\\\\\n",
       "\t A-pos  & 216 & 219 & 119 & 316 & 60 & 156 & 44 & 391 & 26 & 190 & 32196 & 435\\\\\n",
       "\t AB-neg &   0 &   5 &   3 &   2 &  0 &   0 &  0 &   5 &  0 &   0 &   394 &   5\\\\\n",
       "\t AB-pos &  21 &  42 &  19 &  44 &  8 &  13 &  8 &  55 &  5 &  16 &  4188 &  63\\\\\n",
       "\t B-neg  &   7 &  14 &   6 &  15 &  2 &   5 &  1 &  20 &  0 &   7 &  1422 &  21\\\\\n",
       "\t B-pos  & 109 & 122 &  59 & 172 & 33 &  76 & 20 & 211 & 12 &  97 & 14807 & 231\\\\\n",
       "\t O-neg  &  21 &  26 &  10 &  37 &  4 &  17 &  3 &  44 &  0 &  21 &  4808 &  47\\\\\n",
       "\t O-pos  & 291 & 423 & 157 & 557 & 70 & 221 & 56 & 658 & 36 & 255 & 47598 & 714\\\\\n",
       "\\end{tabular}\n"
      ],
      "text/markdown": [
       "\n",
       "A tibble: 8 × 13\n",
       "\n",
       "| blood_group &lt;chr&gt; | covid_positive &lt;int&gt; | covid_negative &lt;int&gt; | intubated &lt;int&gt; | not_intubated &lt;int&gt; | intubated_covid_positive &lt;int&gt; | not_intubated_covid_positive &lt;int&gt; | died &lt;int&gt; | alive &lt;int&gt; | died_covid_positive &lt;int&gt; | alive_covid_positive &lt;int&gt; | general_pop &lt;int&gt; | total_tested &lt;int&gt; |\n",
       "|---|---|---|---|---|---|---|---|---|---|---|---|---|\n",
       "| A-neg  |  17 |  26 |  14 |  29 |  2 |  15 |  2 |  41 |  1 |  16 |  3447 |  43 |\n",
       "| A-pos  | 216 | 219 | 119 | 316 | 60 | 156 | 44 | 391 | 26 | 190 | 32196 | 435 |\n",
       "| AB-neg |   0 |   5 |   3 |   2 |  0 |   0 |  0 |   5 |  0 |   0 |   394 |   5 |\n",
       "| AB-pos |  21 |  42 |  19 |  44 |  8 |  13 |  8 |  55 |  5 |  16 |  4188 |  63 |\n",
       "| B-neg  |   7 |  14 |   6 |  15 |  2 |   5 |  1 |  20 |  0 |   7 |  1422 |  21 |\n",
       "| B-pos  | 109 | 122 |  59 | 172 | 33 |  76 | 20 | 211 | 12 |  97 | 14807 | 231 |\n",
       "| O-neg  |  21 |  26 |  10 |  37 |  4 |  17 |  3 |  44 |  0 |  21 |  4808 |  47 |\n",
       "| O-pos  | 291 | 423 | 157 | 557 | 70 | 221 | 56 | 658 | 36 | 255 | 47598 | 714 |\n",
       "\n"
      ],
      "text/plain": [
       "  blood_group covid_positive covid_negative intubated not_intubated\n",
       "1 A-neg        17             26             14        29          \n",
       "2 A-pos       216            219            119       316          \n",
       "3 AB-neg        0              5              3         2          \n",
       "4 AB-pos       21             42             19        44          \n",
       "5 B-neg         7             14              6        15          \n",
       "6 B-pos       109            122             59       172          \n",
       "7 O-neg        21             26             10        37          \n",
       "8 O-pos       291            423            157       557          \n",
       "  intubated_covid_positive not_intubated_covid_positive died alive\n",
       "1  2                        15                           2    41  \n",
       "2 60                       156                          44   391  \n",
       "3  0                         0                           0     5  \n",
       "4  8                        13                           8    55  \n",
       "5  2                         5                           1    20  \n",
       "6 33                        76                          20   211  \n",
       "7  4                        17                           3    44  \n",
       "8 70                       221                          56   658  \n",
       "  died_covid_positive alive_covid_positive general_pop total_tested\n",
       "1  1                   16                   3447        43         \n",
       "2 26                  190                  32196       435         \n",
       "3  0                    0                    394         5         \n",
       "4  5                   16                   4188        63         \n",
       "5  0                    7                   1422        21         \n",
       "6 12                   97                  14807       231         \n",
       "7  0                   21                   4808        47         \n",
       "8 36                  255                  47598       714         "
      ]
     },
     "metadata": {},
     "output_type": "display_data"
    }
   ],
   "source": [
    "abo_rh_contingency <- counts_df %>%\n",
    "    filter(abo != 'unknown') %>%\n",
    "    unite('blood_group', c(abo, rh), sep = '-') %>%\n",
    "    rename(\n",
    "        intubated = intubation_binary,\n",
    "        intubated_covid_positive = intubation_binary_covid_pos,\n",
    "        died = died_binary,\n",
    "        died_covid_positive = died_binary_covid_pos,\n",
    "        covid_positive = covid_result_binary,\n",
    "        general_pop = num_general\n",
    "    ) %>%\n",
    "    mutate(\n",
    "        covid_negative = total_tested - covid_positive,\n",
    "        not_intubated = total_tested - intubated,\n",
    "        not_intubated_covid_positive = covid_positive - intubated_covid_positive,\n",
    "        alive = total_tested - died,\n",
    "        alive_covid_positive = covid_positive - died_covid_positive\n",
    "    ) %>%\n",
    "    select(blood_group, covid_positive, covid_negative, intubated, not_intubated, \n",
    "           intubated_covid_positive, not_intubated_covid_positive, died, alive, \n",
    "           died_covid_positive, alive_covid_positive, general_pop, total_tested)\n",
    "\n",
    "\n",
    "abo_rh_test_contingency <- abo_rh_contingency %>% filter(total_tested > 5)\n",
    "\n",
    "abo_rh_contingency"
   ]
  },
  {
   "cell_type": "code",
   "execution_count": 20,
   "metadata": {},
   "outputs": [
    {
     "name": "stderr",
     "output_type": "stream",
     "text": [
      "Warning message in chisq.test(.):\n",
      "“Chi-squared approximation may be incorrect”Warning message in chisq.test(.):\n",
      "“Chi-squared approximation may be incorrect”"
     ]
    }
   ],
   "source": [
    "comparisons <- list(\n",
    "    'positive_vs_general' = c('covid_positive', 'general_pop'),\n",
    "    'positive_vs_negative' = c('covid_positive', 'covid_negative'),\n",
    "    'intubated_covid_positive_vs_not_intubated_covid_positive' = c('intubated_covid_positive', \n",
    "                                                                   'not_intubated_covid_positive'),\n",
    "    'died_covid_positive_vs_alive_covid_positive' = c('died_covid_positive', 'alive_covid_positive')\n",
    ")\n",
    "abo_rh_blood_groups <- abo_rh_test_contingency %>% pull(blood_group)\n",
    "\n",
    "# Chi-square tests for each comparison to see if blood group distributions are\n",
    "# equivalent between the comparison groups\n",
    "abo_rh_association_tests_df <- chisq_complete(abo_rh_test_contingency, comparisons)\n",
    "\n",
    "# Fisher's exact tests for each blood group vs all others against the outcome\n",
    "abo_rh_one_vs_rest_tests_df <- individual_fisher_exact(abo_rh_test_contingency, \n",
    "                                                        comparisons, \n",
    "                                                        abo_rh_blood_groups)"
   ]
  },
  {
   "cell_type": "markdown",
   "metadata": {},
   "source": [
    "# Zhao 2019 medrXiv\n",
    "\n",
    "https://www.medrxiv.org/content/10.1101/2020.03.11.20031096v1"
   ]
  },
  {
   "cell_type": "code",
   "execution_count": 21,
   "metadata": {},
   "outputs": [
    {
     "name": "stderr",
     "output_type": "stream",
     "text": [
      "Warning message:\n",
      "“Column `blood_group` joining character vector and factor, coercing into character vector”"
     ]
    },
    {
     "data": {
      "text/html": [
       "<table>\n",
       "<caption>A tibble: 4 × 10</caption>\n",
       "<thead>\n",
       "\t<tr><th scope=col>blood_group</th><th scope=col>nyp_covid_positive</th><th scope=col>nyp_covid_negative</th><th scope=col>nyp_general_pop</th><th scope=col>wuhan_controls</th><th scope=col>wuhan_jinyintan_pts</th><th scope=col>wuhan_jinyintan_died</th><th scope=col>wuhan_renmin_pts</th><th scope=col>shenzhen_controls</th><th scope=col>shenzhen_pts</th></tr>\n",
       "\t<tr><th scope=col>&lt;chr&gt;</th><th scope=col>&lt;int&gt;</th><th scope=col>&lt;int&gt;</th><th scope=col>&lt;int&gt;</th><th scope=col>&lt;dbl&gt;</th><th scope=col>&lt;dbl&gt;</th><th scope=col>&lt;dbl&gt;</th><th scope=col>&lt;dbl&gt;</th><th scope=col>&lt;dbl&gt;</th><th scope=col>&lt;dbl&gt;</th></tr>\n",
       "</thead>\n",
       "<tbody>\n",
       "\t<tr><td>A </td><td>233</td><td>245</td><td>35643</td><td>1188</td><td>670</td><td>85</td><td>45</td><td>6728</td><td>82</td></tr>\n",
       "\t<tr><td>AB</td><td> 21</td><td> 47</td><td> 4582</td><td> 336</td><td>178</td><td>19</td><td>15</td><td>1712</td><td>39</td></tr>\n",
       "\t<tr><td>B </td><td>116</td><td>136</td><td>16229</td><td> 920</td><td>469</td><td>50</td><td>25</td><td>5880</td><td>83</td></tr>\n",
       "\t<tr><td>O </td><td>312</td><td>449</td><td>52406</td><td>1250</td><td>458</td><td>52</td><td>28</td><td>9066</td><td>81</td></tr>\n",
       "</tbody>\n",
       "</table>\n"
      ],
      "text/latex": [
       "A tibble: 4 × 10\n",
       "\\begin{tabular}{r|llllllllll}\n",
       " blood\\_group & nyp\\_covid\\_positive & nyp\\_covid\\_negative & nyp\\_general\\_pop & wuhan\\_controls & wuhan\\_jinyintan\\_pts & wuhan\\_jinyintan\\_died & wuhan\\_renmin\\_pts & shenzhen\\_controls & shenzhen\\_pts\\\\\n",
       " <chr> & <int> & <int> & <int> & <dbl> & <dbl> & <dbl> & <dbl> & <dbl> & <dbl>\\\\\n",
       "\\hline\n",
       "\t A  & 233 & 245 & 35643 & 1188 & 670 & 85 & 45 & 6728 & 82\\\\\n",
       "\t AB &  21 &  47 &  4582 &  336 & 178 & 19 & 15 & 1712 & 39\\\\\n",
       "\t B  & 116 & 136 & 16229 &  920 & 469 & 50 & 25 & 5880 & 83\\\\\n",
       "\t O  & 312 & 449 & 52406 & 1250 & 458 & 52 & 28 & 9066 & 81\\\\\n",
       "\\end{tabular}\n"
      ],
      "text/markdown": [
       "\n",
       "A tibble: 4 × 10\n",
       "\n",
       "| blood_group &lt;chr&gt; | nyp_covid_positive &lt;int&gt; | nyp_covid_negative &lt;int&gt; | nyp_general_pop &lt;int&gt; | wuhan_controls &lt;dbl&gt; | wuhan_jinyintan_pts &lt;dbl&gt; | wuhan_jinyintan_died &lt;dbl&gt; | wuhan_renmin_pts &lt;dbl&gt; | shenzhen_controls &lt;dbl&gt; | shenzhen_pts &lt;dbl&gt; |\n",
       "|---|---|---|---|---|---|---|---|---|---|\n",
       "| A  | 233 | 245 | 35643 | 1188 | 670 | 85 | 45 | 6728 | 82 |\n",
       "| AB |  21 |  47 |  4582 |  336 | 178 | 19 | 15 | 1712 | 39 |\n",
       "| B  | 116 | 136 | 16229 |  920 | 469 | 50 | 25 | 5880 | 83 |\n",
       "| O  | 312 | 449 | 52406 | 1250 | 458 | 52 | 28 | 9066 | 81 |\n",
       "\n"
      ],
      "text/plain": [
       "  blood_group nyp_covid_positive nyp_covid_negative nyp_general_pop\n",
       "1 A           233                245                35643          \n",
       "2 AB           21                 47                 4582          \n",
       "3 B           116                136                16229          \n",
       "4 O           312                449                52406          \n",
       "  wuhan_controls wuhan_jinyintan_pts wuhan_jinyintan_died wuhan_renmin_pts\n",
       "1 1188           670                 85                   45              \n",
       "2  336           178                 19                   15              \n",
       "3  920           469                 50                   25              \n",
       "4 1250           458                 52                   28              \n",
       "  shenzhen_controls shenzhen_pts\n",
       "1 6728              82          \n",
       "2 1712              39          \n",
       "3 5880              83          \n",
       "4 9066              81          "
      ]
     },
     "metadata": {},
     "output_type": "display_data"
    }
   ],
   "source": [
    "zhao_contingency <- data.frame(\n",
    "    blood_group = c('A', 'B', 'AB', 'O'),\n",
    "    wuhan_controls = c(1188, 920, 336, 1250),\n",
    "    wuhan_jinyintan_pts = c(670, 469, 178, 458),\n",
    "    wuhan_jinyintan_died = c(85, 50, 19, 52),\n",
    "    wuhan_renmin_pts = c(45, 25, 15, 28),\n",
    "    shenzhen_controls = c(6728, 5880, 1712, 9066),\n",
    "    shenzhen_pts = c(82, 83, 39, 81)\n",
    ")\n",
    "\n",
    "\n",
    "abo_zhao_contingency <- abo_contingency %>%\n",
    "    select(blood_group, nyp_covid_positive = covid_positive, \n",
    "           nyp_covid_negative = covid_negative, nyp_general_pop = general_pop) %>%\n",
    "    inner_join(zhao_contingency, by = 'blood_group')\n",
    "\n",
    "abo_zhao_contingency"
   ]
  },
  {
   "cell_type": "code",
   "execution_count": 22,
   "metadata": {},
   "outputs": [
    {
     "data": {
      "text/plain": [
       "\n",
       "\n",
       "|Blood group |NYP general population |NYP COV+    |Shenzhen general population |Shenzhen COV+ |Wuhan general population |Wuhan Jinyintan COV+ |Wuhan Renmin COV+ |\n",
       "|:-----------|:----------------------|:-----------|:---------------------------|:-------------|:------------------------|:--------------------|:-----------------|\n",
       "|A           |32.7% (35643)          |34.2% (233) |28.8% (6728)                |28.8% (82)    |32.2% (1188)             |37.7% (670)          |39.8% (45)        |\n",
       "|AB          |4.2% (4582)            |3.1% (21)   |7.3% (1712)                 |13.7% (39)    |9.1% (336)               |10% (178)            |13.3% (15)        |\n",
       "|B           |14.9% (16229)          |17% (116)   |25.1% (5880)                |29.1% (83)    |24.9% (920)              |26.4% (469)          |22.1% (25)        |\n",
       "|O           |48.1% (52406)          |45.7% (312) |38.8% (9066)                |28.4% (81)    |33.8% (1250)             |25.8% (458)          |24.8% (28)        |"
      ]
     },
     "metadata": {},
     "output_type": "display_data"
    }
   ],
   "source": [
    "# Format table for manuscript\n",
    "abo_zhao_contingency %>% \n",
    "    select(blood_group, nyp_covid_positive, nyp_general_pop, shenzhen_pts, shenzhen_controls, \n",
    "           wuhan_jinyintan_pts, wuhan_renmin_pts, wuhan_controls) %>%\n",
    "    mutate(\n",
    "        nyp_general_pop_frac = (nyp_general_pop / sum(nyp_general_pop)) %>% round(3),\n",
    "        shenzhen_controls_frac = (shenzhen_controls / sum(shenzhen_controls)) %>% round(3),\n",
    "        wuhan_controls_frac = (wuhan_controls / sum(wuhan_controls)) %>% round(3),        \n",
    "        \"NYP general population\" = str_glue('{100 * nyp_general_pop_frac}% ({nyp_general_pop})') %>%\n",
    "            as.character,        \n",
    "        \"Shenzhen general population\" = str_glue('{100 * shenzhen_controls_frac}% ({shenzhen_controls})') %>%\n",
    "            as.character,\n",
    "        \"Wuhan general population\" = str_glue('{100 * wuhan_controls_frac}% ({wuhan_controls})') %>%\n",
    "            as.character,       \n",
    "        \n",
    "        nyp_covid_positive_frac = (nyp_covid_positive / sum(nyp_covid_positive)) %>% round(3),\n",
    "        shenzhen_covid_positive_frac = (shenzhen_pts / sum(shenzhen_pts)) %>% round(3),\n",
    "        wuhan_jin_covid_positive_frac = (wuhan_jinyintan_pts / sum(wuhan_jinyintan_pts)) %>% round(3),\n",
    "        wuhan_ren_covid_positive_frac = (wuhan_renmin_pts / sum(wuhan_renmin_pts)) %>% round(3),\n",
    "        \n",
    "        \"NYP COV+\" = str_glue('{100 * nyp_covid_positive_frac}% ({nyp_covid_positive})') %>% as.character,\n",
    "        \"Shenzhen COV+\" = str_glue('{100 * shenzhen_covid_positive_frac}% ({shenzhen_pts})') %>% as.character,\n",
    "        \"Wuhan Jinyintan COV+\" = str_glue('{100 * wuhan_jin_covid_positive_frac}% ({wuhan_jinyintan_pts})') %>% as.character,\n",
    "        \"Wuhan Renmin COV+\" = str_glue('{100 * wuhan_ren_covid_positive_frac}% ({wuhan_renmin_pts})') %>% as.character,\n",
    "    ) %>%\n",
    "    select(\"Blood group\" = blood_group, \"NYP general population\", \"NYP COV+\",\n",
    "           \"Shenzhen general population\", \"Shenzhen COV+\", \"Wuhan general population\",\n",
    "           \"Wuhan Jinyintan COV+\", \"Wuhan Renmin COV+\") %>%\n",
    "    knitr::kable()"
   ]
  },
  {
   "cell_type": "code",
   "execution_count": 23,
   "metadata": {},
   "outputs": [
    {
     "data": {
      "text/html": [
       "<table>\n",
       "<caption>A tibble: 2 × 5</caption>\n",
       "<thead>\n",
       "\t<tr><th scope=col>statistic</th><th scope=col>p.value</th><th scope=col>parameter</th><th scope=col>method</th><th scope=col>comparison</th></tr>\n",
       "\t<tr><th scope=col>&lt;dbl&gt;</th><th scope=col>&lt;dbl&gt;</th><th scope=col>&lt;int&gt;</th><th scope=col>&lt;chr&gt;</th><th scope=col>&lt;chr&gt;</th></tr>\n",
       "</thead>\n",
       "<tbody>\n",
       "\t<tr><td>2056.5982</td><td> 0.000000e+00</td><td>3</td><td>Pearson's Chi-squared test</td><td>nyp_general_pop_vs_shenzhen_controls</td></tr>\n",
       "\t<tr><td> 583.2884</td><td>4.228296e-126</td><td>3</td><td>Pearson's Chi-squared test</td><td>nyp_general_pop_vs_wuhan_controls   </td></tr>\n",
       "</tbody>\n",
       "</table>\n"
      ],
      "text/latex": [
       "A tibble: 2 × 5\n",
       "\\begin{tabular}{r|lllll}\n",
       " statistic & p.value & parameter & method & comparison\\\\\n",
       " <dbl> & <dbl> & <int> & <chr> & <chr>\\\\\n",
       "\\hline\n",
       "\t 2056.5982 &  0.000000e+00 & 3 & Pearson's Chi-squared test & nyp\\_general\\_pop\\_vs\\_shenzhen\\_controls\\\\\n",
       "\t  583.2884 & 4.228296e-126 & 3 & Pearson's Chi-squared test & nyp\\_general\\_pop\\_vs\\_wuhan\\_controls   \\\\\n",
       "\\end{tabular}\n"
      ],
      "text/markdown": [
       "\n",
       "A tibble: 2 × 5\n",
       "\n",
       "| statistic &lt;dbl&gt; | p.value &lt;dbl&gt; | parameter &lt;int&gt; | method &lt;chr&gt; | comparison &lt;chr&gt; |\n",
       "|---|---|---|---|---|\n",
       "| 2056.5982 |  0.000000e+00 | 3 | Pearson's Chi-squared test | nyp_general_pop_vs_shenzhen_controls |\n",
       "|  583.2884 | 4.228296e-126 | 3 | Pearson's Chi-squared test | nyp_general_pop_vs_wuhan_controls    |\n",
       "\n"
      ],
      "text/plain": [
       "  statistic p.value       parameter method                    \n",
       "1 2056.5982  0.000000e+00 3         Pearson's Chi-squared test\n",
       "2  583.2884 4.228296e-126 3         Pearson's Chi-squared test\n",
       "  comparison                          \n",
       "1 nyp_general_pop_vs_shenzhen_controls\n",
       "2 nyp_general_pop_vs_wuhan_controls   "
      ]
     },
     "metadata": {},
     "output_type": "display_data"
    }
   ],
   "source": [
    "bind_rows(\n",
    "    abo_zhao_contingency %>%\n",
    "        select(nyp_general_pop, shenzhen_controls) %>%\n",
    "        chisq.test %>% \n",
    "        broom::tidy() %>%\n",
    "        mutate(comparison = 'nyp_general_pop_vs_shenzhen_controls'),\n",
    "    abo_zhao_contingency %>%\n",
    "        select(nyp_general_pop, wuhan_controls) %>%\n",
    "        chisq.test %>%\n",
    "        broom::tidy() %>%\n",
    "        mutate(comparison = 'nyp_general_pop_vs_wuhan_controls')\n",
    ")"
   ]
  },
  {
   "cell_type": "code",
   "execution_count": 24,
   "metadata": {},
   "outputs": [
    {
     "data": {
      "text/plain": [
       "\n",
       "\tPearson's Chi-squared test\n",
       "\n",
       "data:  .\n",
       "X-squared = 2056.6, df = 3, p-value < 2.2e-16\n"
      ]
     },
     "metadata": {},
     "output_type": "display_data"
    }
   ],
   "source": [
    "abo_zhao_contingency %>%\n",
    "        select(nyp_general_pop, shenzhen_controls) %>% \n",
    "chisq.test"
   ]
  },
  {
   "cell_type": "code",
   "execution_count": 25,
   "metadata": {},
   "outputs": [
    {
     "data": {
      "text/plain": [
       "\n",
       "\tPearson's Chi-squared test\n",
       "\n",
       "data:  .\n",
       "X-squared = 583.29, df = 3, p-value < 2.2e-16\n"
      ]
     },
     "metadata": {},
     "output_type": "display_data"
    }
   ],
   "source": [
    "abo_zhao_contingency %>%\n",
    "    select(nyp_general_pop, wuhan_controls) %>%\n",
    "    chisq.test"
   ]
  },
  {
   "cell_type": "markdown",
   "metadata": {},
   "source": [
    "#### Meta-analysis with random effects\n",
    "\n",
    "Can't find any way to extract the pooled effects, so this must be done by hand."
   ]
  },
  {
   "cell_type": "code",
   "execution_count": 26,
   "metadata": {},
   "outputs": [],
   "source": [
    "binarize_contingency <- function(contingency, target_blood_group) {\n",
    "    contingency %>%\n",
    "        mutate(\n",
    "            blood_group = (blood_group == target_blood_group) %>% \n",
    "                as.character %>%\n",
    "                recode_factor(\"TRUE\" = 'target', \n",
    "                              \"FALSE\" = 'non_target')\n",
    "        ) %>%\n",
    "        group_by(blood_group) %>%\n",
    "        summarize_all(sum) %>%\n",
    "        ungroup\n",
    "}\n",
    "\n",
    "make_comparison_table <- function(target_blood_group) {\n",
    "    meta_table <- abo_zhao_contingency %>%\n",
    "        binarize_contingency(target_blood_group)\n",
    "\n",
    "    covid_target <- meta_table %>% \n",
    "        filter(blood_group == 'target') %>%\n",
    "        select(\n",
    "            'nyp' = nyp_covid_positive, \n",
    "            'wuhan_jinyintain' = wuhan_jinyintan_pts,\n",
    "            'wuhan_renmin' = wuhan_renmin_pts,\n",
    "            'shenzhen' = shenzhen_pts\n",
    "        ) %>%\n",
    "        unlist\n",
    "\n",
    "    covid_total <- meta_table %>%\n",
    "        select(\n",
    "            'nyp' = nyp_covid_positive, \n",
    "            'wuhan_jinyintain' = wuhan_jinyintan_pts,\n",
    "            'wuhan_renmin' = wuhan_renmin_pts,\n",
    "            'shenzhen' = shenzhen_pts\n",
    "        ) %>%\n",
    "        summarize_all(sum) %>%\n",
    "        unlist\n",
    "\n",
    "    general_target <- meta_table %>%\n",
    "        filter(blood_group == 'target') %>%\n",
    "        mutate(wuhan_control_copy = wuhan_controls) %>%\n",
    "        select(\n",
    "            'nyp' = nyp_general_pop, \n",
    "            'wuhan_jinyintain' = wuhan_controls,\n",
    "            'wuhan_renmin' = wuhan_control_copy,\n",
    "            'shenzhen' = shenzhen_controls\n",
    "        ) %>%\n",
    "        unlist\n",
    "\n",
    "    general_total <- meta_table %>% \n",
    "        mutate(wuhan_control_copy = wuhan_controls) %>%\n",
    "        select(\n",
    "            'nyp' = nyp_general_pop, \n",
    "            'wuhan_jinyintain' = wuhan_controls,\n",
    "            'wuhan_renmin' = wuhan_control_copy,\n",
    "            'shenzhen' = shenzhen_controls\n",
    "        ) %>%\n",
    "        summarize_all(sum) %>%\n",
    "        unlist\n",
    "\n",
    "    cbind(covid_target, covid_total, general_target, general_total) %>%\n",
    "        as.data.frame %>%\n",
    "        rownames_to_column('site')\n",
    "}"
   ]
  },
  {
   "cell_type": "code",
   "execution_count": 27,
   "metadata": {},
   "outputs": [],
   "source": [
    "do_meta_analysis <- function(blood_group) {\n",
    "    meta_result <- meta::metabin(\n",
    "        event.e = covid_target,\n",
    "        n.e = covid_total, \n",
    "        event.c = general_target, \n",
    "        n.c = general_total,\n",
    "        studlab = site,\n",
    "        data = make_comparison_table(blood_group),\n",
    "        comb.random = T,\n",
    "        comb.fixed = F,\n",
    "        sm = 'OR'\n",
    "    )\n",
    "    meta_result\n",
    "}"
   ]
  },
  {
   "cell_type": "code",
   "execution_count": 28,
   "metadata": {},
   "outputs": [
    {
     "data": {
      "text/plain": [
       "                     OR           95%-CI %W(random)\n",
       "nyp              1.0660 [0.9095; 1.2494]       31.8\n",
       "wuhan_jinyintain 1.2790 [1.1364; 1.4395]       39.3\n",
       "wuhan_renmin     1.3959 [0.9519; 2.0472]       10.3\n",
       "shenzhen         1.0001 [0.7727; 1.2945]       18.6\n",
       "\n",
       "Number of studies combined: k = 4\n",
       "\n",
       "                         OR           95%-CI    z p-value\n",
       "Random effects model 1.1636 [1.0155; 1.3333] 2.18  0.0291\n",
       "\n",
       "Quantifying heterogeneity:\n",
       " tau^2 = 0.0086; tau = 0.0928; I^2 = 47.1% [0.0%; 82.4%]; H = 1.38 [1.00; 2.39]\n",
       "\n",
       "Test of heterogeneity:\n",
       "    Q d.f. p-value\n",
       " 5.67    3  0.1287\n",
       "\n",
       "Details on meta-analytical method:\n",
       "- Mantel-Haenszel method\n",
       "- DerSimonian-Laird estimator for tau^2\n",
       "- Mantel-Haenszel estimator used in calculation of Q and tau^2 (like RevMan 5)"
      ]
     },
     "metadata": {},
     "output_type": "display_data"
    }
   ],
   "source": [
    "do_meta_analysis('A')"
   ]
  },
  {
   "cell_type": "code",
   "execution_count": 29,
   "metadata": {},
   "outputs": [
    {
     "data": {
      "text/plain": [
       "                     OR           95%-CI %W(random)\n",
       "nyp              1.1698 [0.9573; 1.4294]       23.7\n",
       "wuhan_jinyintain 1.0828 [0.9516; 1.2321]       57.1\n",
       "wuhan_renmin     0.8566 [0.5460; 1.3440]        4.7\n",
       "shenzhen         1.2233 [0.9458; 1.5822]       14.4\n",
       "\n",
       "Number of studies combined: k = 4\n",
       "\n",
       "                         OR           95%-CI    z p-value\n",
       "Random effects model 1.1101 [1.0068; 1.2240] 2.10  0.0361\n",
       "\n",
       "Quantifying heterogeneity:\n",
       " tau^2 = 0; tau = 0; I^2 = 0.0% [0.0%; 79.4%]; H = 1.00 [1.00; 2.20]\n",
       "\n",
       "Test of heterogeneity:\n",
       "    Q d.f. p-value\n",
       " 2.23    3  0.5268\n",
       "\n",
       "Details on meta-analytical method:\n",
       "- Mantel-Haenszel method\n",
       "- DerSimonian-Laird estimator for tau^2\n",
       "- Mantel-Haenszel estimator used in calculation of Q and tau^2 (like RevMan 5)"
      ]
     },
     "metadata": {},
     "output_type": "display_data"
    }
   ],
   "source": [
    "do_meta_analysis('B')"
   ]
  },
  {
   "cell_type": "code",
   "execution_count": 30,
   "metadata": {},
   "outputs": [
    {
     "data": {
      "text/plain": [
       "                     OR           95%-CI %W(random)\n",
       "nyp              0.7230 [0.4678; 1.1176]       23.5\n",
       "wuhan_jinyintain 1.1139 [0.9201; 1.3487]       30.2\n",
       "wuhan_renmin     1.5297 [0.8783; 2.6643]       20.0\n",
       "shenzhen         2.0071 [1.4266; 2.8237]       26.3\n",
       "\n",
       "Number of studies combined: k = 4\n",
       "\n",
       "                         OR           95%-CI    z p-value\n",
       "Random effects model 1.2519 [0.8384; 1.8694] 1.10  0.2721\n",
       "\n",
       "Quantifying heterogeneity:\n",
       " tau^2 = 0.1289; tau = 0.3591; I^2 = 80.6% [48.9%; 92.6%]; H = 2.27 [1.40; 3.68]\n",
       "\n",
       "Test of heterogeneity:\n",
       "     Q d.f. p-value\n",
       " 15.43    3  0.0015\n",
       "\n",
       "Details on meta-analytical method:\n",
       "- Mantel-Haenszel method\n",
       "- DerSimonian-Laird estimator for tau^2\n",
       "- Mantel-Haenszel estimator used in calculation of Q and tau^2 (like RevMan 5)"
      ]
     },
     "metadata": {},
     "output_type": "display_data"
    }
   ],
   "source": [
    "do_meta_analysis('AB')"
   ]
  },
  {
   "cell_type": "code",
   "execution_count": 31,
   "metadata": {},
   "outputs": [
    {
     "data": {
      "text/plain": [
       "                     OR           95%-CI %W(random)\n",
       "nyp              0.9084 [0.7810; 1.0566]       31.1\n",
       "wuhan_jinyintain 0.6799 [0.5993; 0.7715]       32.9\n",
       "wuhan_renmin     0.6441 [0.4179; 0.9925]       13.2\n",
       "shenzhen         0.6272 [0.4842; 0.8124]       22.8\n",
       "\n",
       "Number of studies combined: k = 4\n",
       "\n",
       "                         OR           95%-CI     z p-value\n",
       "Random effects model 0.7252 [0.5971; 0.8807] -3.24  0.0012\n",
       "\n",
       "Quantifying heterogeneity:\n",
       " tau^2 = 0.0257; tau = 0.1603; I^2 = 72.1% [21.0%; 90.2%]; H = 1.89 [1.12; 3.19]\n",
       "\n",
       "Test of heterogeneity:\n",
       "     Q d.f. p-value\n",
       " 10.76    3  0.0131\n",
       "\n",
       "Details on meta-analytical method:\n",
       "- Mantel-Haenszel method\n",
       "- DerSimonian-Laird estimator for tau^2\n",
       "- Mantel-Haenszel estimator used in calculation of Q and tau^2 (like RevMan 5)"
      ]
     },
     "metadata": {},
     "output_type": "display_data"
    }
   ],
   "source": [
    "do_meta_analysis('O')"
   ]
  },
  {
   "cell_type": "code",
   "execution_count": 32,
   "metadata": {},
   "outputs": [
    {
     "data": {
      "text/html": [
       "<table>\n",
       "<caption>A data.frame: 4 × 4</caption>\n",
       "<thead>\n",
       "\t<tr><th scope=col>blood_group</th><th scope=col>OR</th><th scope=col>CI</th><th scope=col>p_value</th></tr>\n",
       "\t<tr><th scope=col>&lt;fct&gt;</th><th scope=col>&lt;dbl&gt;</th><th scope=col>&lt;fct&gt;</th><th scope=col>&lt;dbl&gt;</th></tr>\n",
       "</thead>\n",
       "<tbody>\n",
       "\t<tr><td>A </td><td>1.1636</td><td>1.0155 - 1.3333</td><td>0.0291</td></tr>\n",
       "\t<tr><td>B </td><td>1.1101</td><td>1.0068 - 1.2240</td><td>0.0361</td></tr>\n",
       "\t<tr><td>AB</td><td>1.2519</td><td>0.8384 - 1.8694</td><td>0.2721</td></tr>\n",
       "\t<tr><td>O </td><td>0.7252</td><td>0.5971 - 0.8807</td><td>0.0012</td></tr>\n",
       "</tbody>\n",
       "</table>\n"
      ],
      "text/latex": [
       "A data.frame: 4 × 4\n",
       "\\begin{tabular}{r|llll}\n",
       " blood\\_group & OR & CI & p\\_value\\\\\n",
       " <fct> & <dbl> & <fct> & <dbl>\\\\\n",
       "\\hline\n",
       "\t A  & 1.1636 & 1.0155 - 1.3333 & 0.0291\\\\\n",
       "\t B  & 1.1101 & 1.0068 - 1.2240 & 0.0361\\\\\n",
       "\t AB & 1.2519 & 0.8384 - 1.8694 & 0.2721\\\\\n",
       "\t O  & 0.7252 & 0.5971 - 0.8807 & 0.0012\\\\\n",
       "\\end{tabular}\n"
      ],
      "text/markdown": [
       "\n",
       "A data.frame: 4 × 4\n",
       "\n",
       "| blood_group &lt;fct&gt; | OR &lt;dbl&gt; | CI &lt;fct&gt; | p_value &lt;dbl&gt; |\n",
       "|---|---|---|---|\n",
       "| A  | 1.1636 | 1.0155 - 1.3333 | 0.0291 |\n",
       "| B  | 1.1101 | 1.0068 - 1.2240 | 0.0361 |\n",
       "| AB | 1.2519 | 0.8384 - 1.8694 | 0.2721 |\n",
       "| O  | 0.7252 | 0.5971 - 0.8807 | 0.0012 |\n",
       "\n"
      ],
      "text/plain": [
       "  blood_group OR     CI              p_value\n",
       "1 A           1.1636 1.0155 - 1.3333 0.0291 \n",
       "2 B           1.1101 1.0068 - 1.2240 0.0361 \n",
       "3 AB          1.2519 0.8384 - 1.8694 0.2721 \n",
       "4 O           0.7252 0.5971 - 0.8807 0.0012 "
      ]
     },
     "metadata": {},
     "output_type": "display_data"
    }
   ],
   "source": [
    "# Couldn't find a way to easily tidy these results, so making the df manually.\n",
    "meta_pooled_effects_df <- data.frame(\n",
    "    blood_group = c('A', 'B', 'AB', 'O'),\n",
    "    OR = c(1.1636, 1.1101, 1.2519, 0.7252),\n",
    "    CI = c('1.0155 - 1.3333', '1.0068 - 1.2240', '0.8384 - 1.8694', '0.5971 - 0.8807'),\n",
    "    p_value = c(0.0291, 0.0361, 0.2721, 0.0012)\n",
    ")\n",
    "\n",
    "meta_pooled_effects_df"
   ]
  },
  {
   "cell_type": "markdown",
   "metadata": {},
   "source": [
    "# Multivariate analysis"
   ]
  },
  {
   "cell_type": "code",
   "execution_count": 33,
   "metadata": {},
   "outputs": [
    {
     "data": {
      "text/html": [
       "<table>\n",
       "<caption>A tibble: 5 × 2</caption>\n",
       "<thead>\n",
       "\t<tr><th scope=col>phenotype</th><th scope=col>n</th></tr>\n",
       "\t<tr><th scope=col>&lt;chr&gt;</th><th scope=col>&lt;int&gt;</th></tr>\n",
       "</thead>\n",
       "<tbody>\n",
       "\t<tr><td>cv_diseases  </td><td>2180</td></tr>\n",
       "\t<tr><td>diabetes     </td><td> 958</td></tr>\n",
       "\t<tr><td>hypertension </td><td>1620</td></tr>\n",
       "\t<tr><td>overweight   </td><td> 369</td></tr>\n",
       "\t<tr><td>resp_diseases</td><td>2082</td></tr>\n",
       "</tbody>\n",
       "</table>\n"
      ],
      "text/latex": [
       "A tibble: 5 × 2\n",
       "\\begin{tabular}{r|ll}\n",
       " phenotype & n\\\\\n",
       " <chr> & <int>\\\\\n",
       "\\hline\n",
       "\t cv\\_diseases   & 2180\\\\\n",
       "\t diabetes      &  958\\\\\n",
       "\t hypertension  & 1620\\\\\n",
       "\t overweight    &  369\\\\\n",
       "\t resp\\_diseases & 2082\\\\\n",
       "\\end{tabular}\n"
      ],
      "text/markdown": [
       "\n",
       "A tibble: 5 × 2\n",
       "\n",
       "| phenotype &lt;chr&gt; | n &lt;int&gt; |\n",
       "|---|---|\n",
       "| cv_diseases   | 2180 |\n",
       "| diabetes      |  958 |\n",
       "| hypertension  | 1620 |\n",
       "| overweight    |  369 |\n",
       "| resp_diseases | 2082 |\n",
       "\n"
      ],
      "text/plain": [
       "  phenotype     n   \n",
       "1 cv_diseases   2180\n",
       "2 diabetes       958\n",
       "3 hypertension  1620\n",
       "4 overweight     369\n",
       "5 resp_diseases 2082"
      ]
     },
     "metadata": {},
     "output_type": "display_data"
    }
   ],
   "source": [
    "get_sql_descendants <- function(ancestor_concept_id, field, table) {\n",
    "    # Gets COVID table individuals having any codes belonging to descendants\n",
    "    # of the ancestor code\n",
    "    \n",
    "    \n",
    "    sql_string <- str_glue(\"\n",
    "SELECT DISTINCT relevant_occurrences.person_id, relevant_occurrences.pat_mrn_id\n",
    "FROM (\n",
    "    SELECT descendant_concept_id\n",
    "    FROM concept_ancestor\n",
    "    WHERE ancestor_concept_id={ancestor_concept_id}\n",
    ") AS relevant_concepts\n",
    "INNER JOIN (\n",
    "    SELECT 1_covid_patient2person.person_id, 1_covid_patient2person.pat_mrn_id, {field}\n",
    "    FROM {table}\n",
    "    INNER JOIN 1_covid_patient2person\n",
    "        ON {table}.person_id=1_covid_patient2person.person_id\n",
    ") AS relevant_occurrences\n",
    "    ON relevant_concepts.descendant_concept_id=relevant_occurrences.{field}\n",
    "\") %>% as.character\n",
    "}\n",
    "\n",
    "# Hypertension - all descendants -f condition_concept_id 316866\n",
    "hypertension <- con %>% \n",
    "    tbl(sql(\n",
    "        get_sql_descendants(316866, 'condition_concept_id', 'condition_occurrence')\n",
    "    ))\n",
    "\n",
    "# Respiratory disorders - all descendants of condition_concept_id 320136\n",
    "respiratory_disorders <- con %>% \n",
    "    tbl(sql(\n",
    "        get_sql_descendants(320136, 'condition_concept_id', 'condition_occurrence')\n",
    "    ))\n",
    "\n",
    "# Cardiovascular disorders - all descendants of condition_concept_id 134057\n",
    "cardiovascular_disorders <- con %>% \n",
    "    tbl(sql(\n",
    "        get_sql_descendants(134057, 'condition_concept_id', 'condition_occurrence')\n",
    "    ))\n",
    "\n",
    "\n",
    "# Diabetes mellitus - all descendants of condition_concept_id 201820\n",
    "diabetes <- con %>% \n",
    "    tbl(sql(\n",
    "        get_sql_descendants(201820, 'condition_concept_id', 'condition_occurrence')\n",
    "    ))\n",
    "\n",
    "# Overweight - all descendants of observation_concept_id 437525\n",
    "overweight <- con %>% \n",
    "    tbl(sql(\n",
    "        get_sql_descendants(437525, 'observation_concept_id', 'observation')\n",
    "    ))\n",
    "\n",
    "combined_risk_factors <- bind_rows(\n",
    "    hypertension %>%\n",
    "        mutate(phenotype = 'hypertension') %>%\n",
    "        as_tibble(),\n",
    "    cardiovascular_disorders %>%\n",
    "        mutate(phenotype = 'cv_diseases') %>%\n",
    "        as_tibble(),\n",
    "    respiratory_disorders %>% \n",
    "        mutate(phenotype = 'resp_diseases') %>%\n",
    "        as_tibble(),\n",
    "    diabetes %>% \n",
    "        mutate(phenotype = 'diabetes') %>%\n",
    "        as_tibble(),\n",
    "    overweight %>% \n",
    "        mutate(phenotype = 'overweight') %>%\n",
    "        as_tibble()\n",
    ")\n",
    "\n",
    "combined_risk_factors %>% group_by(phenotype) %>% tally"
   ]
  },
  {
   "cell_type": "code",
   "execution_count": 34,
   "metadata": {
    "scrolled": true
   },
   "outputs": [],
   "source": [
    "abo_multivariate_df <- final_formatted_df %>% \n",
    "    filter(abo != 'unknown') %>%\n",
    "    left_join(combined_risk_factors, by = 'pat_mrn_id') %>%\n",
    "    mutate(has_phenotype = 1, has_blood_type = 1) %>%\n",
    "    pivot_wider(names_from = abo, values_from = has_blood_type, \n",
    "                values_fill = list(has_blood_type = 0)) %>%\n",
    "    pivot_wider(names_from = phenotype, values_from = has_phenotype, \n",
    "                values_fill = list(has_phenotype = 0)) %>%\n",
    "    select(A, B, AB, O, sex, age, diabetes, overweight, resp_diseases, cv_diseases, hypertension,\n",
    "           covid_result_binary, intubation_binary, died_binary) %>%\n",
    "    # Remove a few outliers with birthdays like January 1, 1900.\n",
    "    # Current oldest individual in the USA is 114\n",
    "    filter(age < 115)\n",
    "\n",
    "abo_rh_multivariate_df <- final_formatted_df %>% \n",
    "    filter(abo != 'unknown') %>%\n",
    "    left_join(combined_risk_factors, by = 'pat_mrn_id') %>%\n",
    "    unite('blood_type', c(abo, rh), sep = '_') %>%\n",
    "    mutate(has_phenotype = 1, has_blood_type = 1) %>%\n",
    "    pivot_wider(names_from = blood_type, values_from = has_blood_type, \n",
    "                values_fill = list(has_blood_type = 0)) %>%\n",
    "    pivot_wider(names_from = phenotype, values_from = has_phenotype, \n",
    "                values_fill = list(has_phenotype = 0)) %>%\n",
    "    select(ends_with('_neg'), ends_with('_pos'), sex, age, diabetes, overweight, resp_diseases, \n",
    "           cv_diseases, hypertension, covid_result_binary, intubation_binary, died_binary) %>%\n",
    "    # Remove a few outliers with birthdays like January 1, 1900.\n",
    "    # Current oldest individual in the USA is 114\n",
    "    filter(age < 115)"
   ]
  },
  {
   "cell_type": "code",
   "execution_count": 35,
   "metadata": {},
   "outputs": [
    {
     "data": {
      "text/html": [
       "<table>\n",
       "<caption>A tibble: 1 × 5</caption>\n",
       "<thead>\n",
       "\t<tr><th scope=col>diabetes</th><th scope=col>overweight</th><th scope=col>resp_diseases</th><th scope=col>cv_diseases</th><th scope=col>hypertension</th></tr>\n",
       "\t<tr><th scope=col>&lt;dbl&gt;</th><th scope=col>&lt;dbl&gt;</th><th scope=col>&lt;dbl&gt;</th><th scope=col>&lt;dbl&gt;</th><th scope=col>&lt;dbl&gt;</th></tr>\n",
       "</thead>\n",
       "<tbody>\n",
       "\t<tr><td>445</td><td>188</td><td>848</td><td>878</td><td>724</td></tr>\n",
       "</tbody>\n",
       "</table>\n"
      ],
      "text/latex": [
       "A tibble: 1 × 5\n",
       "\\begin{tabular}{r|lllll}\n",
       " diabetes & overweight & resp\\_diseases & cv\\_diseases & hypertension\\\\\n",
       " <dbl> & <dbl> & <dbl> & <dbl> & <dbl>\\\\\n",
       "\\hline\n",
       "\t 445 & 188 & 848 & 878 & 724\\\\\n",
       "\\end{tabular}\n"
      ],
      "text/markdown": [
       "\n",
       "A tibble: 1 × 5\n",
       "\n",
       "| diabetes &lt;dbl&gt; | overweight &lt;dbl&gt; | resp_diseases &lt;dbl&gt; | cv_diseases &lt;dbl&gt; | hypertension &lt;dbl&gt; |\n",
       "|---|---|---|---|---|\n",
       "| 445 | 188 | 848 | 878 | 724 |\n",
       "\n"
      ],
      "text/plain": [
       "  diabetes overweight resp_diseases cv_diseases hypertension\n",
       "1 445      188        848           878         724         "
      ]
     },
     "metadata": {},
     "output_type": "display_data"
    }
   ],
   "source": [
    "abo_multivariate_df %>%\n",
    "    summarize_at(vars(diabetes:hypertension), sum)"
   ]
  },
  {
   "cell_type": "markdown",
   "metadata": {},
   "source": [
    "## Regressions on blood group\n",
    "\n",
    "Here we sought to understand the associations between risk factors and blood groups.\n",
    "Our approach is to run logistic regressions on "
   ]
  },
  {
   "cell_type": "code",
   "execution_count": 36,
   "metadata": {},
   "outputs": [],
   "source": [
    "# ABO blood types\n",
    "multivar_lr_abo_blood_group_coefs <- abo_multivariate_df %>% \n",
    "    pivot_longer(names_to = 'blood_group', values_to = 'has_blood_group', c(A, B, O, AB)) %>%\n",
    "    group_by(blood_group) %>%\n",
    "    do(\n",
    "        logistic_regression = glm(has_blood_group ~ sex + age + hypertension + diabetes + overweight + \n",
    "                                  resp_diseases + cv_diseases, data = ., \n",
    "                                  family = binomial(link = \"logit\")) %>%\n",
    "            broom::tidy()\n",
    "    ) %>%\n",
    "    unnest(logistic_regression)\n",
    "\n",
    "# ABO+Rh blood types\n",
    "multivar_lr_aborh_blood_group_coefs <- abo_rh_multivariate_df %>% \n",
    "    pivot_longer(names_to = 'blood_group', values_to = 'has_blood_group', \n",
    "                 c(O_pos, B_pos, A_pos, AB_pos, O_neg, A_neg, B_neg, AB_neg)) %>%\n",
    "    group_by(blood_group) %>%\n",
    "    do(\n",
    "        logistic_regression = glm(has_blood_group ~ sex + age + hypertension + diabetes + overweight + \n",
    "                                  resp_diseases + cv_diseases, data = ., \n",
    "                                  family = binomial(link = \"logit\")) %>%\n",
    "            broom::tidy()\n",
    "    ) %>%\n",
    "    unnest(logistic_regression)\n",
    "\n",
    "combined_lr_blood_group_coefs <- bind_rows(\n",
    "    multivar_lr_abo_blood_group_coefs %>% mutate(blood_group_type = 'ABO'),\n",
    "    multivar_lr_aborh_blood_group_coefs %>% mutate(blood_group_type = 'ABO+Rh')\n",
    ")"
   ]
  },
  {
   "cell_type": "code",
   "execution_count": 37,
   "metadata": {
    "scrolled": false
   },
   "outputs": [
    {
     "data": {
      "text/html": [
       "<table>\n",
       "<caption>A tibble: 10 × 7</caption>\n",
       "<thead>\n",
       "\t<tr><th scope=col>blood_group</th><th scope=col>term</th><th scope=col>estimate</th><th scope=col>std.error</th><th scope=col>statistic</th><th scope=col>p.value</th><th scope=col>blood_group_type</th></tr>\n",
       "\t<tr><th scope=col>&lt;chr&gt;</th><th scope=col>&lt;chr&gt;</th><th scope=col>&lt;dbl&gt;</th><th scope=col>&lt;dbl&gt;</th><th scope=col>&lt;dbl&gt;</th><th scope=col>&lt;dbl&gt;</th><th scope=col>&lt;chr&gt;</th></tr>\n",
       "</thead>\n",
       "<tbody>\n",
       "\t<tr><td>A_pos </td><td>age         </td><td> 0.009443253</td><td>0.002904608</td><td> 3.251129</td><td>0.001149478</td><td>ABO+Rh</td></tr>\n",
       "\t<tr><td>O     </td><td>age         </td><td>-0.007604393</td><td>0.002565721</td><td>-2.963843</td><td>0.003038237</td><td>ABO   </td></tr>\n",
       "\t<tr><td>A     </td><td>age         </td><td> 0.007848494</td><td>0.002813172</td><td> 2.789909</td><td>0.005272282</td><td>ABO   </td></tr>\n",
       "\t<tr><td>O_pos </td><td>age         </td><td>-0.007061334</td><td>0.002569515</td><td>-2.748119</td><td>0.005993822</td><td>ABO+Rh</td></tr>\n",
       "\t<tr><td>B     </td><td>diabetes    </td><td>-0.434067402</td><td>0.195137434</td><td>-2.224419</td><td>0.026120271</td><td>ABO   </td></tr>\n",
       "\t<tr><td>AB    </td><td>age         </td><td> 0.013577977</td><td>0.006126438</td><td> 2.216292</td><td>0.026671492</td><td>ABO   </td></tr>\n",
       "\t<tr><td>O_pos </td><td>overweight  </td><td> 0.354528789</td><td>0.167665841</td><td> 2.114496</td><td>0.034472907</td><td>ABO+Rh</td></tr>\n",
       "\t<tr><td>O_neg </td><td>hypertension</td><td> 2.123806089</td><td>1.042879797</td><td> 2.036482</td><td>0.041701964</td><td>ABO+Rh</td></tr>\n",
       "\t<tr><td>AB_pos</td><td>age         </td><td> 0.012855111</td><td>0.006365999</td><td> 2.019339</td><td>0.043451980</td><td>ABO+Rh</td></tr>\n",
       "\t<tr><td>A_neg </td><td>diabetes    </td><td> 0.880433318</td><td>0.442456730</td><td> 1.989874</td><td>0.046604774</td><td>ABO+Rh</td></tr>\n",
       "</tbody>\n",
       "</table>\n"
      ],
      "text/latex": [
       "A tibble: 10 × 7\n",
       "\\begin{tabular}{r|lllllll}\n",
       " blood\\_group & term & estimate & std.error & statistic & p.value & blood\\_group\\_type\\\\\n",
       " <chr> & <chr> & <dbl> & <dbl> & <dbl> & <dbl> & <chr>\\\\\n",
       "\\hline\n",
       "\t A\\_pos  & age          &  0.009443253 & 0.002904608 &  3.251129 & 0.001149478 & ABO+Rh\\\\\n",
       "\t O      & age          & -0.007604393 & 0.002565721 & -2.963843 & 0.003038237 & ABO   \\\\\n",
       "\t A      & age          &  0.007848494 & 0.002813172 &  2.789909 & 0.005272282 & ABO   \\\\\n",
       "\t O\\_pos  & age          & -0.007061334 & 0.002569515 & -2.748119 & 0.005993822 & ABO+Rh\\\\\n",
       "\t B      & diabetes     & -0.434067402 & 0.195137434 & -2.224419 & 0.026120271 & ABO   \\\\\n",
       "\t AB     & age          &  0.013577977 & 0.006126438 &  2.216292 & 0.026671492 & ABO   \\\\\n",
       "\t O\\_pos  & overweight   &  0.354528789 & 0.167665841 &  2.114496 & 0.034472907 & ABO+Rh\\\\\n",
       "\t O\\_neg  & hypertension &  2.123806089 & 1.042879797 &  2.036482 & 0.041701964 & ABO+Rh\\\\\n",
       "\t AB\\_pos & age          &  0.012855111 & 0.006365999 &  2.019339 & 0.043451980 & ABO+Rh\\\\\n",
       "\t A\\_neg  & diabetes     &  0.880433318 & 0.442456730 &  1.989874 & 0.046604774 & ABO+Rh\\\\\n",
       "\\end{tabular}\n"
      ],
      "text/markdown": [
       "\n",
       "A tibble: 10 × 7\n",
       "\n",
       "| blood_group &lt;chr&gt; | term &lt;chr&gt; | estimate &lt;dbl&gt; | std.error &lt;dbl&gt; | statistic &lt;dbl&gt; | p.value &lt;dbl&gt; | blood_group_type &lt;chr&gt; |\n",
       "|---|---|---|---|---|---|---|\n",
       "| A_pos  | age          |  0.009443253 | 0.002904608 |  3.251129 | 0.001149478 | ABO+Rh |\n",
       "| O      | age          | -0.007604393 | 0.002565721 | -2.963843 | 0.003038237 | ABO    |\n",
       "| A      | age          |  0.007848494 | 0.002813172 |  2.789909 | 0.005272282 | ABO    |\n",
       "| O_pos  | age          | -0.007061334 | 0.002569515 | -2.748119 | 0.005993822 | ABO+Rh |\n",
       "| B      | diabetes     | -0.434067402 | 0.195137434 | -2.224419 | 0.026120271 | ABO    |\n",
       "| AB     | age          |  0.013577977 | 0.006126438 |  2.216292 | 0.026671492 | ABO    |\n",
       "| O_pos  | overweight   |  0.354528789 | 0.167665841 |  2.114496 | 0.034472907 | ABO+Rh |\n",
       "| O_neg  | hypertension |  2.123806089 | 1.042879797 |  2.036482 | 0.041701964 | ABO+Rh |\n",
       "| AB_pos | age          |  0.012855111 | 0.006365999 |  2.019339 | 0.043451980 | ABO+Rh |\n",
       "| A_neg  | diabetes     |  0.880433318 | 0.442456730 |  1.989874 | 0.046604774 | ABO+Rh |\n",
       "\n"
      ],
      "text/plain": [
       "   blood_group term         estimate     std.error   statistic p.value    \n",
       "1  A_pos       age           0.009443253 0.002904608  3.251129 0.001149478\n",
       "2  O           age          -0.007604393 0.002565721 -2.963843 0.003038237\n",
       "3  A           age           0.007848494 0.002813172  2.789909 0.005272282\n",
       "4  O_pos       age          -0.007061334 0.002569515 -2.748119 0.005993822\n",
       "5  B           diabetes     -0.434067402 0.195137434 -2.224419 0.026120271\n",
       "6  AB          age           0.013577977 0.006126438  2.216292 0.026671492\n",
       "7  O_pos       overweight    0.354528789 0.167665841  2.114496 0.034472907\n",
       "8  O_neg       hypertension  2.123806089 1.042879797  2.036482 0.041701964\n",
       "9  AB_pos      age           0.012855111 0.006365999  2.019339 0.043451980\n",
       "10 A_neg       diabetes      0.880433318 0.442456730  1.989874 0.046604774\n",
       "   blood_group_type\n",
       "1  ABO+Rh          \n",
       "2  ABO             \n",
       "3  ABO             \n",
       "4  ABO+Rh          \n",
       "5  ABO             \n",
       "6  ABO             \n",
       "7  ABO+Rh          \n",
       "8  ABO+Rh          \n",
       "9  ABO+Rh          \n",
       "10 ABO+Rh          "
      ]
     },
     "metadata": {},
     "output_type": "display_data"
    }
   ],
   "source": [
    "combined_lr_blood_group_coefs %>% \n",
    "    filter(term != '(Intercept)' & p.value < 0.05) %>%\n",
    "    arrange(p.value)"
   ]
  },
  {
   "cell_type": "code",
   "execution_count": 38,
   "metadata": {},
   "outputs": [
    {
     "data": {
      "text/plain": [
       "\n",
       "\n",
       "|Blood group |Term         |Coefficient |Standard error |p-value |\n",
       "|:-----------|:------------|:-----------|:--------------|:-------|\n",
       "|A           |age          |0.008       |0.003          |0.005   |\n",
       "|AB          |age          |0.014       |0.006          |0.027   |\n",
       "|B           |diabetes     |-0.434      |0.195          |0.026   |\n",
       "|O           |age          |-0.008      |0.003          |0.003   |\n",
       "|O           |diabetes     |0.248       |0.142          |0.080   |\n",
       "|A_neg       |hypertension |-0.895      |0.511          |0.080   |\n",
       "|A_neg       |diabetes     |0.880       |0.442          |0.047   |\n",
       "|A_neg       |cv_diseases  |0.852       |0.507          |0.093   |\n",
       "|A_pos       |age          |0.009       |0.003          |0.001   |\n",
       "|AB_pos      |age          |0.013       |0.006          |0.043   |\n",
       "|B_neg       |age          |0.018       |0.011          |0.096   |\n",
       "|B_pos       |diabetes     |-0.390      |0.200          |0.052   |\n",
       "|O_neg       |hypertension |2.124       |1.043          |0.042   |\n",
       "|O_neg       |overweight   |-1.359      |0.744          |0.068   |\n",
       "|O_pos       |age          |-0.007      |0.003          |0.006   |\n",
       "|O_pos       |diabetes     |0.279       |0.143          |0.051   |\n",
       "|O_pos       |overweight   |0.355       |0.168          |0.034   |"
      ]
     },
     "metadata": {},
     "output_type": "display_data"
    }
   ],
   "source": [
    "combined_lr_blood_group_coefs %>%\n",
    "    filter(p.value < 0.1 & term != '(Intercept)') %>%\n",
    "    select(\n",
    "        'Blood group' = blood_group, \n",
    "        'Term' = term,\n",
    "        'Coefficient' = estimate, \n",
    "        'Standard error' = std.error,\n",
    "        'p-value' = p.value\n",
    "    ) %>%\n",
    "    knitr::kable(\n",
    "        digits = 3, \n",
    "        align = 'l'\n",
    "    )"
   ]
  },
  {
   "cell_type": "markdown",
   "metadata": {},
   "source": [
    "## Regressions on COVID-19 outcomes"
   ]
  },
  {
   "cell_type": "code",
   "execution_count": 39,
   "metadata": {},
   "outputs": [],
   "source": [
    "# Regressions on outcome ~ 1\n",
    "null_outcome_regressions <- list(\n",
    "    'COV+ vs COV-' = glm(\n",
    "        covid_result_binary ~ 1, \n",
    "        data = abo_multivariate_df, \n",
    "        family = binomial(link = \"logit\")),\n",
    "    'COV+/Intubated vs COV+/Not intubated' = glm(\n",
    "        intubation_binary ~ 1, \n",
    "        family = binomial(link = \"logit\"),\n",
    "        data = abo_multivariate_df %>% \n",
    "                   filter(covid_result_binary == 1)),\n",
    "    'COV+/Died vs COV+/Alive' = glm(\n",
    "        died_binary ~ 1, \n",
    "        family = binomial(link = \"logit\"),\n",
    "        data = abo_multivariate_df %>% \n",
    "                   filter(covid_result_binary == 1))\n",
    ")\n",
    "\n",
    "# Regressions on outcome ~ rf\n",
    "rf_only_outcome_regressions <- list(\n",
    "    'COV+ vs COV-' = glm(\n",
    "        covid_result_binary ~ sex + age + hypertension + diabetes + overweight + resp_diseases + cv_diseases, \n",
    "        data = abo_multivariate_df, \n",
    "        family = binomial(link = \"logit\")),\n",
    "    'COV+/Intubated vs COV+/Not intubated' = glm(\n",
    "        intubation_binary ~ sex + age + hypertension + diabetes + overweight + resp_diseases + cv_diseases, \n",
    "        family = binomial(link = \"logit\"),\n",
    "        data = abo_multivariate_df %>% \n",
    "                   filter(covid_result_binary == 1)),\n",
    "    'COV+/Died vs COV+/Alive' = glm(\n",
    "        died_binary ~ sex + age + hypertension + diabetes + overweight + resp_diseases + cv_diseases, \n",
    "        family = binomial(link = \"logit\"),\n",
    "        data = abo_multivariate_df %>% \n",
    "                   filter(covid_result_binary == 1))\n",
    ")\n",
    "\n",
    "# Regressions on outcome ~ blood group\n",
    "abo_blood_group_only_regressions <- list(\n",
    "    'COV+ vs COV-' = glm(\n",
    "        covid_result_binary ~ A + B + O + AB, \n",
    "        data = abo_multivariate_df, \n",
    "        family = binomial(link = \"logit\")),\n",
    "    'COV+/Intubated vs COV+/Not intubated' = glm(\n",
    "        intubation_binary ~ A + B + O + AB, \n",
    "        family = binomial(link = \"logit\"),\n",
    "        data = abo_multivariate_df %>% \n",
    "                   filter(covid_result_binary == 1)),\n",
    "    'COV+/Died vs COV+/Alive' = glm(\n",
    "        died_binary ~ A + B + O + AB, \n",
    "        family = binomial(link = \"logit\"),\n",
    "        data = abo_multivariate_df %>% \n",
    "                   filter(covid_result_binary == 1))\n",
    ")\n",
    "\n",
    "abo_rh_blood_group_only_regressions <- list(\n",
    "    'COV+ vs COV-' = glm(\n",
    "        covid_result_binary ~ O_pos + B_pos + A_pos + AB_pos + O_neg + A_neg + B_neg + AB_neg, \n",
    "        data = abo_rh_multivariate_df, \n",
    "        family = binomial(link = \"logit\")),\n",
    "    'COV+/Intubated vs COV+/Not intubated' = glm(\n",
    "        intubation_binary ~ O_pos + B_pos + A_pos + AB_pos + O_neg + A_neg + B_neg + AB_neg, \n",
    "        family = binomial(link = \"logit\"),\n",
    "        data = abo_rh_multivariate_df %>% \n",
    "                   filter(covid_result_binary == 1)),\n",
    "    'COV+/Died vs COV+/Alive' = glm(\n",
    "        died_binary ~ O_pos + B_pos + A_pos + AB_pos + O_neg + A_neg + B_neg + AB_neg, \n",
    "        family = binomial(link = \"logit\"),\n",
    "        data = abo_rh_multivariate_df %>% \n",
    "                   filter(covid_result_binary == 1))\n",
    ")\n",
    "\n",
    "#  Regression on outcome ~ blood group + rf\n",
    "abo_full_regressions <- list(\n",
    "    'COV+ vs COV-' = glm(\n",
    "        covid_result_binary ~ sex + age + hypertension + diabetes + overweight + resp_diseases + cv_diseases + A + B + O + AB, \n",
    "        data = abo_multivariate_df, \n",
    "        family = binomial(link = \"logit\")),\n",
    "    'COV+/Intubated vs COV+/Not intubated' = glm(\n",
    "        intubation_binary ~ sex + age + hypertension + diabetes + overweight + resp_diseases + cv_diseases + A + B + O + AB, \n",
    "        family = binomial(link = \"logit\"),\n",
    "        data = abo_multivariate_df %>% \n",
    "                   filter(covid_result_binary == 1)),\n",
    "    'COV+/Died vs COV+/Alive' = glm(\n",
    "        died_binary ~ sex + age + hypertension + diabetes + overweight + resp_diseases + cv_diseases + A + B + O + AB, \n",
    "        family = binomial(link = \"logit\"),\n",
    "        data = abo_multivariate_df %>% \n",
    "                   filter(covid_result_binary == 1))\n",
    ")\n",
    "\n",
    "abo_rh_full_regressions <- list(\n",
    "    'COV+ vs COV-' = glm(\n",
    "        covid_result_binary ~ sex + age + hypertension + diabetes + overweight + resp_diseases + cv_diseases + \n",
    "        O_pos + B_pos + A_pos + AB_pos + O_neg + A_neg + B_neg + AB_neg, \n",
    "        data = abo_rh_multivariate_df, \n",
    "        family = binomial(link = \"logit\")),\n",
    "    'COV+/Intubated vs COV+/Not intubated' = glm(\n",
    "        intubation_binary ~ sex + age + hypertension + diabetes + overweight + resp_diseases + cv_diseases + \n",
    "        O_pos + B_pos + A_pos + AB_pos + O_neg + A_neg + B_neg + AB_neg, \n",
    "        family = binomial(link = \"logit\"),\n",
    "        data = abo_rh_multivariate_df %>% \n",
    "                   filter(covid_result_binary == 1)),\n",
    "    'COV+/Died vs COV+/Alive' = glm(\n",
    "        died_binary ~ sex + age + hypertension + diabetes + overweight + resp_diseases + cv_diseases + \n",
    "        O_pos + B_pos + A_pos + AB_pos + O_neg + A_neg + B_neg + AB_neg, \n",
    "        family = binomial(link = \"logit\"),\n",
    "        data = abo_rh_multivariate_df %>% \n",
    "                   filter(covid_result_binary == 1))\n",
    ")"
   ]
  },
  {
   "cell_type": "markdown",
   "metadata": {},
   "source": [
    "### Analysis of deviance, comparison of logistic regression fits"
   ]
  },
  {
   "cell_type": "code",
   "execution_count": 40,
   "metadata": {},
   "outputs": [],
   "source": [
    "format_anova <- function(full_regressions, nested_resgressions, comparison_name) {\n",
    "    purrr::map2(\n",
    "            full_regressions, names(full_regressions),\n",
    "            function(reg, name) reg %>% \n",
    "                anova(object = nested_resgressions[[name]], test = 'Chisq') %>% \n",
    "                mutate(outcome = name)\n",
    "        ) %>%\n",
    "        bind_rows() %>%\n",
    "        mutate(comparison = comparison_name) %>%\n",
    "        select(outcome, comparison, 'Resid. Df', 'Resid. Dev', Df, Deviance, 'Pr(>Chi)')\n",
    "}\n",
    "\n",
    "lr_anova_df <- bind_rows(\n",
    "    # BT + RF vs 1\n",
    "    format_anova(abo_full_regressions, null_outcome_regressions, 'abo_full_vs_null'),\n",
    "    format_anova(abo_rh_full_regressions, null_outcome_regressions, 'abo_rh_full_vs_null'),\n",
    "    \n",
    "    # RF vs 1\n",
    "    format_anova(rf_only_outcome_regressions, null_outcome_regressions, 'rf_nested_vs_null'),\n",
    "    \n",
    "    # BT + RF vs RF\n",
    "    format_anova(abo_full_regressions, rf_only_outcome_regressions, 'abo_full_vs_rf_nested'),\n",
    "    format_anova(abo_rh_full_regressions, rf_only_outcome_regressions, 'abo_rh_full_vs_rf_nested'),\n",
    "    \n",
    "    \n",
    "    # BT + RF vs BT\n",
    "    format_anova(abo_full_regressions, abo_blood_group_only_regressions, 'abo_full_vs_abo_nested'),\n",
    "    format_anova(abo_rh_full_regressions, abo_rh_blood_group_only_regressions, 'abo_rh_full_vs_abo_rh_nested')   \n",
    ")"
   ]
  },
  {
   "cell_type": "code",
   "execution_count": 41,
   "metadata": {},
   "outputs": [
    {
     "data": {
      "text/plain": [
       "\n",
       "\n",
       "|Comparison                            |Outcome                              |DF |Resid. DF |Deviance |Resid. Deviance |p-value |\n",
       "|:-------------------------------------|:------------------------------------|:--|:---------|:--------|:---------------|:-------|\n",
       "|Risk factors vs Null                  |COV+ vs COV-                         |7  |1550      |121.851  |2013.777        |0.000   |\n",
       "|Risk factors vs Null                  |COV+/Intubated vs COV+/Not intubated |7  |674       |12.250   |772.893         |0.093   |\n",
       "|Risk factors vs Null                  |COV+/Died vs COV+/Alive              |7  |674       |100.012  |393.094         |0.000   |\n",
       "|ABO + Risk factors vs Risk factors    |COV+ vs COV-                         |3  |1547      |10.752   |2003.024        |0.013   |\n",
       "|ABO + Risk factors vs Risk factors    |COV+/Intubated vs COV+/Not intubated |3  |671       |3.021    |769.872         |0.388   |\n",
       "|ABO + Risk factors vs Risk factors    |COV+/Died vs COV+/Alive              |3  |671       |1.153    |391.941         |0.764   |\n",
       "|ABO+Rh + Risk factors vs Risk factors |COV+ vs COV-                         |7  |1543      |17.165   |1996.612        |0.016   |\n",
       "|ABO+Rh + Risk factors vs Risk factors |COV+/Intubated vs COV+/Not intubated |6  |668       |5.876    |767.017         |0.437   |\n",
       "|ABO+Rh + Risk factors vs Risk factors |COV+/Died vs COV+/Alive              |6  |668       |5.641    |387.453         |0.465   |"
      ]
     },
     "metadata": {},
     "output_type": "display_data"
    }
   ],
   "source": [
    "lr_anova_df %>%\n",
    "    filter(comparison %in% c('rf_nested_vs_null', 'abo_full_vs_rf_nested', \n",
    "                             'abo_rh_full_vs_rf_nested') & !is.na(Df)) %>%\n",
    "    mutate(\n",
    "        comparison = comparison %>% recode_factor(\n",
    "            'rf_nested_vs_null' = 'Risk factors vs Null',\n",
    "            'abo_full_vs_rf_nested' = 'ABO + Risk factors vs Risk factors',\n",
    "            'abo_rh_full_vs_rf_nested' = 'ABO+Rh + Risk factors vs Risk factors',\n",
    "        )\n",
    "    ) %>%\n",
    "    select(\n",
    "        'Comparison' = comparison,\n",
    "        'Outcome' = outcome,\n",
    "        'DF' = 'Df',\n",
    "        'Resid. DF' = 'Resid. Df',\n",
    "        'Deviance',\n",
    "        'Resid. Deviance' = 'Resid. Dev',\n",
    "        'p-value' = 'Pr(>Chi)'\n",
    "    ) %>%\n",
    "    knitr::kable(\n",
    "        digits = 3, \n",
    "        align = 'l'\n",
    "    )"
   ]
  },
  {
   "cell_type": "markdown",
   "metadata": {},
   "source": [
    "### Comparison of coefficients between full and nested models"
   ]
  },
  {
   "cell_type": "code",
   "execution_count": 42,
   "metadata": {},
   "outputs": [],
   "source": [
    "format_lr_coefs <- function(regressions, blood_group_type, predictors_name) {\n",
    "    purrr::map2(\n",
    "            regressions, names(regressions),\n",
    "            function(reg, name) reg %>% broom::tidy() %>% mutate(outcome=name)\n",
    "        ) %>%\n",
    "        bind_rows() %>%\n",
    "        select(outcome, term, estimate, std.error, statistic, p.value) %>%\n",
    "        mutate(\n",
    "            blood_group_type = blood_group_type, \n",
    "            predictors_name = predictors_name\n",
    "        )\n",
    "}\n",
    "\n",
    "multivar_lr_coefs_df <- bind_rows(\n",
    "    # Full models (outcome ~ BT + RF)\n",
    "    format_lr_coefs(abo_full_regressions, 'ABO', 'blood_group_rf'),\n",
    "    format_lr_coefs(abo_rh_full_regressions, 'ABO+Rh', 'blood_group_rf'),\n",
    "    \n",
    "    # BT nested models (outcome ~ BT)\n",
    "    format_lr_coefs(abo_blood_group_only_regressions, 'ABO', 'blood_group'),\n",
    "    format_lr_coefs(abo_rh_blood_group_only_regressions, 'ABO+Rh', 'blood_group'),\n",
    ")"
   ]
  },
  {
   "cell_type": "code",
   "execution_count": 43,
   "metadata": {},
   "outputs": [
    {
     "data": {
      "text/plain": [
       "\n",
       "\n",
       "|Blood group |Nested model coefficient |Full model coefficient |Nested model p-value |Full model p-value |\n",
       "|:-----------|:------------------------|:----------------------|:--------------------|:------------------|\n",
       "|A           |0.759                    |0.752                  |0.006                |0.009              |\n",
       "|B           |0.647                    |0.757                  |0.026                |0.012              |\n",
       "|O           |0.442                    |0.504                  |0.105                |0.074              |"
      ]
     },
     "metadata": {},
     "output_type": "display_data"
    }
   ],
   "source": [
    "multivar_lr_coefs_df %>%\n",
    "    filter(term %>% str_detect('A|AB|B|O')) %>%\n",
    "    arrange(outcome, term, blood_group_type, predictors_name) %>%\n",
    "    filter(outcome == 'COV+ vs COV-' & blood_group_type == 'ABO') %>%\n",
    "    unite('signif', c(estimate, p.value)) %>%\n",
    "    pivot_wider(id_cols = c(term), names_from = predictors_name, values_from = signif) %>%\n",
    "    separate(blood_group, c('blood_group_estimate', 'blood_group_pvalue'), sep='_') %>%\n",
    "    separate(blood_group_rf, c('blood_group_rf_estimate', 'blood_group_rf_pvalue'), sep='_') %>%\n",
    "    select(\n",
    "        'Blood group' = term,\n",
    "        'Nested model coefficient' = blood_group_estimate,\n",
    "        'Full model coefficient' = blood_group_rf_estimate,\n",
    "        'Nested model p-value' = blood_group_pvalue,\n",
    "        'Full model p-value' = blood_group_rf_pvalue\n",
    "    ) %>%\n",
    "    mutate_at(vars(-\"Blood group\"), as.double) %>%\n",
    "    knitr::kable(\n",
    "        digits = 3, \n",
    "        align = 'l'\n",
    "    )"
   ]
  },
  {
   "cell_type": "markdown",
   "metadata": {},
   "source": [
    "# Reformat outputs for manuscript\n",
    "\n",
    "### Table 1"
   ]
  },
  {
   "cell_type": "code",
   "execution_count": 44,
   "metadata": {},
   "outputs": [],
   "source": [
    "general_population_counts <- bind_rows(\n",
    "    general_population_blood_group_frequencies %>%\n",
    "        group_by(abo) %>%\n",
    "        summarize(num_general = sum(num_general)) %>%\n",
    "        ungroup %>%\n",
    "        rename(blood_group = abo),\n",
    "    general_population_blood_group_frequencies %>%\n",
    "        unite('blood_group', c(abo, rh)),\n",
    "    general_population_blood_group_frequencies %>%\n",
    "        ungroup %>%\n",
    "        summarize(num_general = sum(num_general)) %>%\n",
    "        mutate(blood_group = \"TOTAL\")\n",
    ") %>%\n",
    "mutate(\n",
    "    total = max(num_general),\n",
    "    general = str_glue('{num_general} ({round(100 * num_general / total, 1)}%)') %>% as.character\n",
    ") %>%\n",
    "arrange(blood_group) %>%\n",
    "select(blood_group, general)"
   ]
  },
  {
   "cell_type": "code",
   "execution_count": 45,
   "metadata": {},
   "outputs": [],
   "source": [
    "table_1_shared <- final_formatted_df %>% \n",
    "    filter(abo != 'unknown') %>%\n",
    "    left_join(combined_risk_factors, by = 'pat_mrn_id') %>%\n",
    "    mutate(has_phenotype = 1) %>%\n",
    "    pivot_wider(names_from = phenotype, values_from = has_phenotype, \n",
    "                values_fill = list(has_phenotype = 0))\n",
    "\n",
    "table_1_grouped <- bind_rows(\n",
    "    table_1_shared %>% rename(blood_group = abo),\n",
    "    table_1_shared %>% unite('blood_group', c(abo, rh)),\n",
    "    table_1_shared %>% mutate(blood_group = 'TOTAL')\n",
    ")"
   ]
  },
  {
   "cell_type": "code",
   "execution_count": 46,
   "metadata": {},
   "outputs": [
    {
     "data": {
      "text/plain": [
       "\n",
       "\n",
       "|Blood group |N           |Males       |Median age |COV+        |COV+/Intubated |COV+/Died  |Hypertension |Cardiovascular diseases |Respiratory diseases |Diabetes    |Overweight  |General population |\n",
       "|:-----------|:-----------|:-----------|:----------|:-----------|:--------------|:----------|:------------|:-----------------------|:--------------------|:-----------|:-----------|:------------------|\n",
       "|**A**       |478 (30.7%) |219 (45.8%) |61.4       |233 (48.7%) |62 (26.6%)     |27 (11.6%) |233 (48.7%)  |285 (59.6%)             |278 (58.2%)          |146 (30.5%) |51 (10.7%)  |35643 (32.7%)      |\n",
       "|A-          |43 (2.8%)   |20 (46.5%)  |51.7       |17 (39.5%)  |2 (11.8%)      |1 (5.9%)   |17 (39.5%)   |25 (58.1%)              |22 (51.2%)           |15 (34.9%)  |2 (4.7%)    |3447 (3.2%)        |\n",
       "|A+          |435 (27.9%) |199 (45.7%) |61.8       |216 (49.7%) |60 (27.8%)     |26 (12%)   |216 (49.7%)  |260 (59.8%)             |256 (58.9%)          |131 (30.1%) |49 (11.3%)  |32196 (29.6%)      |\n",
       "|**AB**      |68 (4.4%)   |34 (50%)    |58.8       |21 (30.9%)  |8 (38.1%)      |5 (23.8%)  |23 (33.8%)   |31 (45.6%)              |30 (44.1%)           |14 (20.6%)  |5 (7.4%)    |4582 (4.2%)        |\n",
       "|AB-         |5 (0.3%)    |4 (80%)     |56.8       |0 (0%)      |0 (NaN%)       |0 (NaN%)   |1 (20%)      |2 (40%)                 |2 (40%)              |0 (0%)      |1 (20%)     |394 (0.4%)         |\n",
       "|AB+         |63 (4%)     |30 (47.6%)  |58.9       |21 (33.3%)  |8 (38.1%)      |5 (23.8%)  |22 (34.9%)   |29 (46%)                |28 (44.4%)           |14 (22.2%)  |4 (6.3%)    |4188 (3.8%)        |\n",
       "|**B**       |252 (16.2%) |107 (42.5%) |52.7       |116 (46%)   |35 (30.2%)     |12 (10.3%) |114 (45.2%)  |143 (56.7%)             |136 (54%)            |58 (23%)    |31 (12.3%)  |16229 (14.9%)      |\n",
       "|B-          |21 (1.3%)   |8 (38.1%)   |59.1       |7 (33.3%)   |2 (28.6%)      |0 (0%)     |7 (33.3%)    |9 (42.9%)               |8 (38.1%)            |3 (14.3%)   |1 (4.8%)    |1422 (1.3%)        |\n",
       "|B+          |231 (14.8%) |99 (42.9%)  |51.8       |109 (47.2%) |33 (30.3%)     |12 (11%)   |107 (46.3%)  |134 (58%)               |128 (55.4%)          |55 (23.8%)  |30 (13%)    |14807 (13.6%)      |\n",
       "|**O**       |761 (48.8%) |356 (46.8%) |55.0       |312 (41%)   |74 (23.7%)     |36 (11.5%) |354 (46.5%)  |419 (55.1%)             |404 (53.1%)          |227 (29.8%) |101 (13.3%) |52406 (48.1%)      |\n",
       "|O-          |47 (3%)     |23 (48.9%)  |58.2       |21 (44.7%)  |4 (19%)        |0 (0%)     |28 (59.6%)   |29 (61.7%)              |26 (55.3%)           |14 (29.8%)  |2 (4.3%)    |4808 (4.4%)        |\n",
       "|O+          |714 (45.8%) |333 (46.6%) |54.8       |291 (40.8%) |70 (24.1%)     |36 (12.4%) |326 (45.7%)  |390 (54.6%)             |378 (52.9%)          |213 (29.8%) |99 (13.9%)  |47598 (43.7%)      |\n",
       "|**TOTAL**   |1559 (100%) |716 (45.9%) |56.8       |682 (43.7%) |179 (26.2%)    |80 (11.7%) |724 (46.4%)  |878 (56.3%)             |848 (54.4%)          |445 (28.5%) |188 (12.1%) |108860 (100%)      |"
      ]
     },
     "metadata": {},
     "output_type": "display_data"
    }
   ],
   "source": [
    "table_1_grouped %>%\n",
    "    group_by(blood_group) %>%\n",
    "    summarize(\n",
    "        N = n(),\n",
    "        n_males = sum(sex == 2),\n",
    "        mean_age = mean(age),\n",
    "        med_age = median(age),\n",
    "        \n",
    "        covid_positive = sum(covid_result_binary),\n",
    "        covid_negative = sum(1 - covid_result_binary),\n",
    "        \n",
    "        intubated_covid_positive = sum(intubation_binary & covid_result_binary),\n",
    "        death_covid_positive = sum(died_binary & covid_result_binary),\n",
    "        \n",
    "        hypertension = sum(hypertension),\n",
    "        cv_diseases = sum(cv_diseases),\n",
    "        resp_diseases = sum(resp_diseases),\n",
    "        diabetes = sum(diabetes),\n",
    "        overweight = sum(overweight),\n",
    "        no_risk_factors = sum(!!as.name('NA'))\n",
    "    ) %>%\n",
    "    ungroup %>%\n",
    "    inner_join(general_population_counts, by = 'blood_group') %>%\n",
    "    mutate(\n",
    "        blood_group = blood_group %>% recode_factor(\n",
    "            'A' = '**A**', \n",
    "            A_neg = 'A-',\n",
    "            A_pos = 'A+' ,\n",
    "            'AB' = '**AB**',\n",
    "            AB_neg = 'AB-' ,\n",
    "            AB_pos = 'AB+' ,\n",
    "            'B' = '**B**',\n",
    "            B_neg = 'B-' ,\n",
    "            B_pos = 'B+' ,\n",
    "            'O' = '**O**',\n",
    "            O_neg = 'O-' ,\n",
    "            O_pos = 'O+',\n",
    "            'TOTAL' = '**TOTAL**'\n",
    "        ),\n",
    "        'Males' = str_glue('{n_males} ({round(100 * n_males / N, 1)}%)') %>% as.character,\n",
    "        'Mean age' = round(mean_age, 1),\n",
    "        'Median age' = round(med_age, 1),\n",
    "        'COV+' = str_glue('{covid_positive} ({round(100 * covid_positive / N, 1)}%)') %>% as.character,\n",
    "        'COV-' = str_glue('{covid_negative} ({round(100 * covid_negative / N, 1)}%)') %>% as.character,\n",
    "        'COV+/Intubated' = str_glue('{intubated_covid_positive} ({round(100 * intubated_covid_positive / covid_positive, 1)}%)') %>% as.character,\n",
    "        'COV+/Died' = str_glue('{death_covid_positive} ({round(100 * death_covid_positive / covid_positive, 1)}%)') %>% as.character,\n",
    "        'Hypertension' = str_glue('{hypertension} ({round(100 * hypertension / N, 1)}%)') %>% as.character,\n",
    "        'Cardiovascular diseases' = str_glue('{cv_diseases} ({round(100 * cv_diseases / N, 1)}%)') %>% as.character,\n",
    "        'Respiratory diseases' = str_glue('{resp_diseases} ({round(100 * resp_diseases / N, 1)}%)') %>% as.character,\n",
    "        'Diabetes' = str_glue('{diabetes} ({round(100 * diabetes / N, 1)}%)') %>% as.character,\n",
    "        'Overweight' = str_glue('{overweight} ({round(100 * overweight / N, 1)}%)') %>% as.character,\n",
    "        'No RF' = str_glue('{no_risk_factors} ({round(100 * no_risk_factors / N, 1)}%)') %>% as.character,\n",
    "        N = str_glue('{N} ({round(100 * N / max(N), 1)}%)') %>% as.character,\n",
    "        'General population' = general,\n",
    "    ) %>%\n",
    "    arrange(blood_group) %>%\n",
    "    rename('Blood group' = blood_group) %>%\n",
    "    select('Blood group', 'N', 'Males', 'Median age', 'COV+', \n",
    "          'COV+/Intubated', 'COV+/Died', 'Hypertension', 'Cardiovascular diseases', 'Respiratory diseases',\n",
    "           'Diabetes', 'Overweight', \n",
    "#            'No RF', \n",
    "           'General population') %>%\n",
    "    knitr::kable(align = 'l')"
   ]
  },
  {
   "cell_type": "markdown",
   "metadata": {},
   "source": [
    "## Table 2 - evidence of combined associations"
   ]
  },
  {
   "cell_type": "code",
   "execution_count": 47,
   "metadata": {},
   "outputs": [],
   "source": [
    "counts <- bind_rows(\n",
    "        abo_contingency %>% mutate(type = 'ABO'), \n",
    "        abo_rh_contingency %>% mutate(type = 'ABO+Rh')\n",
    "    ) %>%\n",
    "    mutate(blood_group = blood_group %>% recode_factor(\n",
    "            'A' = 'A', \n",
    "            'A-neg' = 'A-',\n",
    "            'A-pos' = 'A+' ,\n",
    "            'AB' = 'AB',\n",
    "            'AB-neg' = 'AB-' ,\n",
    "            'AB-pos' = 'AB+' ,\n",
    "            'B' = 'B',\n",
    "            'B-neg' = 'B-' ,\n",
    "            'B-pos' = 'B+' ,\n",
    "            'O' = 'O',\n",
    "            'O-neg' = 'O-' ,\n",
    "            'O-pos' = 'O+',\n",
    "        )\n",
    "    ) %>%\n",
    "    filter(blood_group != 'AB-') %>%\n",
    "    arrange(blood_group) %>%\n",
    "    group_by(type) %>%\n",
    "    transmute(\n",
    "        covid_positive = str_glue('{blood_group}:{covid_positive} ({round(100 * covid_positive / sum(covid_positive), 1)}%)') %>% as.character,\n",
    "        covid_negative = str_glue('{blood_group}:{covid_negative} ({round(100 * covid_negative / sum(covid_negative), 1)}%)') %>% as.character,\n",
    "        intubated_covid_positive = str_glue('{blood_group}:{intubated_covid_positive} ({round(100 * intubated_covid_positive / sum(intubated_covid_positive), 1)}%)') %>% as.character,\n",
    "        not_intubated_covid_positive = str_glue('{blood_group}:{not_intubated_covid_positive} ({round(100 * not_intubated_covid_positive / sum(not_intubated_covid_positive), 1)}%)') %>% as.character,\n",
    "        died_covid_positive = str_glue('{blood_group}:{died_covid_positive} ({round(100 * died_covid_positive / sum(died_covid_positive), 1)}%)') %>% as.character,\n",
    "        alive_covid_positive = str_glue('{blood_group}:{alive_covid_positive} ({round(100 * alive_covid_positive / sum(alive_covid_positive), 1)}%)') %>% as.character,\n",
    "        general_pop = str_glue('{blood_group}:{general_pop} ({round(100 * general_pop / sum(general_pop), 1)}%)') %>% as.character,\n",
    "    ) %>%\n",
    "    summarize_all(\n",
    "        .funs = list(paste0), \n",
    "        collapse = \", \"\n",
    "    ) %>%\n",
    "    transmute(\n",
    "        \"COV+ vs COV-\" = str_glue('{covid_positive} // {covid_negative}'),\n",
    "        \"COV+ vs general population\" = str_glue('{covid_positive} // {general_pop}'),\n",
    "        \"COV+/Intubated vs COV+/Not intubated\" = str_glue('{intubated_covid_positive} // {not_intubated_covid_positive}'),\n",
    "        \"COV+/Died vs COV+/Alive\" = str_glue('{died_covid_positive} // {alive_covid_positive}'),\n",
    "    ) %>%\n",
    "    t %>%\n",
    "    as.data.frame %>%\n",
    "    rownames_to_column('comparison') %>%\n",
    "    rename('ABO' = V1, 'ABO+Rh' = V2) %>%\n",
    "    pivot_longer(c(ABO, 'ABO+Rh'), names_to = 'blood_group_type', values_to = 'Counts') %>%\n",
    "    separate('Counts', c('Counts 1', 'Counts 2'), sep = ' // ')"
   ]
  },
  {
   "cell_type": "code",
   "execution_count": 48,
   "metadata": {},
   "outputs": [
    {
     "name": "stderr",
     "output_type": "stream",
     "text": [
      "Warning message:\n",
      "“Column `comparison` joining factor and character vector, coercing into character vector”"
     ]
    },
    {
     "data": {
      "text/plain": [
       "\n",
       "\n",
       "|Comparison groups                    |Blood group type |Group 1 counts                                                                                     |Group 2 counts                                                                                                        |p-value |\n",
       "|:------------------------------------|:----------------|:--------------------------------------------------------------------------------------------------|:---------------------------------------------------------------------------------------------------------------------|:-------|\n",
       "|COV+ vs COV-                         |ABO              |A:233 (34.2%), AB:21 (3.1%), B:116 (17%), O:312 (45.7%)                                            |A:245 (27.9%), AB:47 (5.4%), B:136 (15.5%), O:449 (51.2%)                                                             |0.006   |\n",
       "|COV+ vs COV-                         |ABO+Rh           |A-:17 (2.5%), A+:216 (31.7%), AB+:21 (3.1%), B-:7 (1%), B+:109 (16%), O-:21 (3.1%), O+:291 (42.7%) |A-:26 (3%), A+:219 (25.1%), AB+:42 (4.8%), B-:14 (1.6%), B+:122 (14%), O-:26 (3%), O+:423 (48.5%)                     |0.031   |\n",
       "|COV+ vs general population           |ABO              |A:233 (34.2%), AB:21 (3.1%), B:116 (17%), O:312 (45.7%)                                            |A:35643 (32.7%), AB:4582 (4.2%), B:16229 (14.9%), O:52406 (48.1%)                                                     |0.152   |\n",
       "|COV+ vs general population           |ABO+Rh           |A-:17 (2.5%), A+:216 (31.7%), AB+:21 (3.1%), B-:7 (1%), B+:109 (16%), O-:21 (3.1%), O+:291 (42.7%) |A-:3447 (3.2%), A+:32196 (29.7%), AB+:4188 (3.9%), B-:1422 (1.3%), B+:14807 (13.7%), O-:4808 (4.4%), O+:47598 (43.9%) |0.166   |\n",
       "|COV+/Died vs COV+/Alive              |ABO              |A:27 (33.8%), AB:5 (6.2%), B:12 (15%), O:36 (45%)                                                  |A:206 (34.2%), AB:16 (2.7%), B:104 (17.3%), O:276 (45.8%)                                                             |0.363   |\n",
       "|COV+/Died vs COV+/Alive              |ABO+Rh           |A-:1 (1.2%), A+:26 (32.5%), AB+:5 (6.2%), B-:0 (0%), B+:12 (15%), O-:0 (0%), O+:36 (45%)           |A-:16 (2.7%), A+:190 (31.6%), AB+:16 (2.7%), B-:7 (1.2%), B+:97 (16.1%), O-:21 (3.5%), O+:255 (42.4%)                 |0.283   |\n",
       "|COV+/Intubated vs COV+/Not intubated |ABO              |A:62 (34.6%), AB:8 (4.5%), B:35 (19.6%), O:74 (41.3%)                                              |A:171 (34%), AB:13 (2.6%), B:81 (16.1%), O:238 (47.3%)                                                                |0.322   |\n",
       "|COV+/Intubated vs COV+/Not intubated |ABO+Rh           |A-:2 (1.1%), A+:60 (33.5%), AB+:8 (4.5%), B-:2 (1.1%), B+:33 (18.4%), O-:4 (2.2%), O+:70 (39.1%)   |A-:15 (3%), A+:156 (31%), AB+:13 (2.6%), B-:5 (1%), B+:76 (15.1%), O-:17 (3.4%), O+:221 (43.9%)                       |0.441   |"
      ]
     },
     "metadata": {},
     "output_type": "display_data"
    }
   ],
   "source": [
    "bind_rows(\n",
    "        abo_association_tests_df %>% mutate(blood_group_type = 'ABO'), \n",
    "        abo_rh_association_tests_df %>% mutate(blood_group_type = 'ABO+Rh')\n",
    "    ) %>%\n",
    "    mutate(\n",
    "        comparison = comparison %>% recode_factor(\n",
    "            'positive_vs_general' = 'COV+ vs general population', \n",
    "            'positive_vs_negative' = 'COV+ vs COV-', \n",
    "            'intubated_covid_positive_vs_not_intubated_covid_positive' = 'COV+/Intubated vs COV+/Not intubated',\n",
    "            'died_covid_positive_vs_alive_covid_positive' = 'COV+/Died vs COV+/Alive',\n",
    "        )\n",
    "    ) %>%\n",
    "    inner_join(counts, by = c('comparison', 'blood_group_type')) %>%\n",
    "    arrange(comparison, blood_group_type) %>%\n",
    "    select(\n",
    "        'Comparison groups' = comparison,\n",
    "        'Blood group type' = blood_group_type,\n",
    "        'Group 1 counts' = 'Counts 1',\n",
    "        'Group 2 counts' = 'Counts 2',\n",
    "        'p-value' = p.value\n",
    "    ) %>%\n",
    "    knitr::kable(\n",
    "        digits = 3, \n",
    "        align = 'l'\n",
    "    )"
   ]
  },
  {
   "cell_type": "markdown",
   "metadata": {},
   "source": [
    "### Table 3 - Fisher exact tests for individual blood groups"
   ]
  },
  {
   "cell_type": "code",
   "execution_count": 49,
   "metadata": {},
   "outputs": [
    {
     "name": "stderr",
     "output_type": "stream",
     "text": [
      "Warning message in mutate_impl(.data, dots, caller_env()):\n",
      "“Vectorizing 'glue' elements may not preserve their attributes”Warning message in mutate_impl(.data, dots, caller_env()):\n",
      "“Vectorizing 'glue' elements may not preserve their attributes”Warning message in mutate_impl(.data, dots, caller_env()):\n",
      "“Vectorizing 'glue' elements may not preserve their attributes”Warning message in mutate_impl(.data, dots, caller_env()):\n",
      "“Vectorizing 'glue' elements may not preserve their attributes”Warning message in mutate_impl(.data, dots, caller_env()):\n",
      "“Vectorizing 'glue' elements may not preserve their attributes”Warning message in mutate_impl(.data, dots, caller_env()):\n",
      "“Vectorizing 'glue' elements may not preserve their attributes”Warning message in mutate_impl(.data, dots, caller_env()):\n",
      "“Vectorizing 'glue' elements may not preserve their attributes”Warning message in mutate_impl(.data, dots, caller_env()):\n",
      "“Vectorizing 'glue' elements may not preserve their attributes”Warning message in mutate_impl(.data, dots, caller_env()):\n",
      "“Vectorizing 'glue' elements may not preserve their attributes”Warning message in mutate_impl(.data, dots, caller_env()):\n",
      "“Vectorizing 'glue' elements may not preserve their attributes”Warning message in mutate_impl(.data, dots, caller_env()):\n",
      "“Vectorizing 'glue' elements may not preserve their attributes”Warning message in mutate_impl(.data, dots, caller_env()):\n",
      "“Vectorizing 'glue' elements may not preserve their attributes”Warning message in mutate_impl(.data, dots, caller_env()):\n",
      "“Vectorizing 'glue' elements may not preserve their attributes”Warning message in mutate_impl(.data, dots, caller_env()):\n",
      "“Vectorizing 'glue' elements may not preserve their attributes”Adding missing grouping variables: `blood_group_type`\n"
     ]
    }
   ],
   "source": [
    "counts <- bind_rows(\n",
    "        abo_contingency %>% mutate(blood_group_type = 'ABO'), \n",
    "        abo_rh_contingency %>% mutate(blood_group_type = 'ABO+Rh')\n",
    "    ) %>%\n",
    "    select(-total_tested) %>%\n",
    "    mutate(blood_group = blood_group %>% recode_factor(\n",
    "            'A' = 'A', \n",
    "            'A-neg' = 'A-',\n",
    "            'A-pos' = 'A+' ,\n",
    "            'AB' = 'AB',\n",
    "            'AB-neg' = 'AB-' ,\n",
    "            'AB-pos' = 'AB+' ,\n",
    "            'B' = 'B',\n",
    "            'B-neg' = 'B-' ,\n",
    "            'B-pos' = 'B+' ,\n",
    "            'O' = 'O',\n",
    "            'O-neg' = 'O-' ,\n",
    "            'O-pos' = 'O+',\n",
    "        )\n",
    "    ) %>%\n",
    "    filter(blood_group != 'AB-') %>%\n",
    "    arrange(blood_group) %>%\n",
    "    group_by(blood_group_type) %>%\n",
    "    mutate(\n",
    "        not_this_cov_pos = sum(covid_positive) - covid_positive,\n",
    "        not_this_cov_neg = sum(covid_negative) - covid_negative,\n",
    "        not_this_general = sum(general_pop) - general_pop,\n",
    "        not_this_intubated = sum(intubated_covid_positive) - intubated_covid_positive,\n",
    "        not_this_not_intubated = sum(not_intubated_covid_positive) - not_intubated_covid_positive,\n",
    "        not_this_died = sum(died_covid_positive) - died_covid_positive,\n",
    "        not_this_alive = sum(alive_covid_positive) - alive_covid_positive,\n",
    "\n",
    "        cov_pos = str_glue(\n",
    "            '{blood_group}:{covid_positive} ({round(100 * covid_positive / sum(covid_positive), 1)}%), ¬{blood_group}:{not_this_cov_pos} ({round(100 * not_this_cov_pos / sum(covid_positive), 1)}%)'),\n",
    "        cov_neg = str_glue(\n",
    "            '{blood_group}:{covid_negative} ({round(100 * covid_negative / sum(covid_negative), 1)}%), ¬{blood_group}:{not_this_cov_neg} ({round(100 * not_this_cov_neg / sum(covid_negative), 1)}%)'),\n",
    "\n",
    "        gen = str_glue(\n",
    "            '{blood_group}:{general_pop} ({round(100 * general_pop / sum(general_pop), 1)}%), ¬{blood_group}:{not_this_general} ({round(100 * not_this_general / sum(general_pop), 1)}%)'),\n",
    "        intubated = str_glue(\n",
    "            '{blood_group}:{intubated_covid_positive} ({round(100 * intubated_covid_positive / sum(intubated_covid_positive), 1)}%), ¬{blood_group}:{not_this_intubated} ({round(100 * not_this_intubated / sum(intubated_covid_positive), 1)}%)'),\n",
    "        not_intubated = str_glue(\n",
    "            '{blood_group}:{not_intubated_covid_positive} ({round(100 * not_intubated_covid_positive / sum(not_intubated_covid_positive), 1)}%), ¬{blood_group}:{not_this_not_intubated} ({round(100 * not_this_not_intubated / sum(not_intubated_covid_positive), 1)}%)'),\n",
    "        \n",
    "        died = str_glue(\n",
    "            '{blood_group}:{died_covid_positive} ({round(100 * died_covid_positive / sum(died_covid_positive), 1)}%), ¬{blood_group}:{not_this_died} ({round(100 * not_this_died / sum(died_covid_positive), 1)}%)'),\n",
    "        alive = str_glue(\n",
    "            '{blood_group}:{alive_covid_positive} ({round(100 * alive_covid_positive / sum(alive_covid_positive), 1)}%), ¬{blood_group}:{not_this_alive} ({round(100 * not_this_alive / sum(alive_covid_positive), 1)}%)'),\n",
    "        \n",
    "        positive_vs_negative = str_glue('{cov_pos} // {cov_neg}') %>% as.character,\n",
    "        positive_vs_general = str_glue('{cov_pos} // {gen}') %>% as.character,\n",
    "        intubated_covid_positive_vs_not_intubated_covid_positive = str_glue('{intubated} // {not_intubated}') %>% as.character,\n",
    "        died_covid_positive_vs_alive_covid_positive = str_glue('{died} // {alive}') %>% as.character,\n",
    "    ) %>%\n",
    "    select(blood_group, positive_vs_negative, positive_vs_general, \n",
    "           intubated_covid_positive_vs_not_intubated_covid_positive,\n",
    "           died_covid_positive_vs_alive_covid_positive) %>%\n",
    "    pivot_longer(c(positive_vs_negative, positive_vs_general, \n",
    "                   intubated_covid_positive_vs_not_intubated_covid_positive,\n",
    "                   died_covid_positive_vs_alive_covid_positive), \n",
    "                 names_to = 'comparison', values_to = 'count') %>%\n",
    "    separate(count, c('Counts 1', 'Counts 2'), sep = ' // ') %>%\n",
    "    mutate(blood_group = blood_group %>% recode_factor(\n",
    "            'A' = 'A', \n",
    "            'A-' = 'A-negative',\n",
    "            'A+' = 'A-positive' ,\n",
    "            'AB' = 'AB',\n",
    "            'AB-' = 'AB-negative' ,\n",
    "            'AB+' = 'AB-positive' ,\n",
    "            'B' = 'B',\n",
    "            'B-' = 'B-negative' ,\n",
    "            'B+' = 'B-positive' ,\n",
    "            'O' = 'O',\n",
    "            'O-' = 'O-negative' ,\n",
    "            'O+' = 'O-positive',\n",
    "        )\n",
    "    )"
   ]
  },
  {
   "cell_type": "code",
   "execution_count": 50,
   "metadata": {},
   "outputs": [
    {
     "name": "stderr",
     "output_type": "stream",
     "text": [
      "Warning message:\n",
      "“Column `blood_group` joining character vector and factor, coercing into character vector”"
     ]
    },
    {
     "data": {
      "text/plain": [
       "\n",
       "\n",
       "|Blood group |COV+ counts                     |COV- counts                     |OR    |95% CI        |p-value |\n",
       "|:-----------|:-------------------------------|:-------------------------------|:-----|:-------------|:-------|\n",
       "|A           |A:233 (34.2%), ¬A:449 (65.8%)   |A:245 (27.9%), ¬A:632 (72.1%)   |1.338 |1.072 - 1.672 |0.009   |\n",
       "|A-negative  |A-:17 (2.5%), ¬A-:665 (97.5%)   |A-:26 (3%), ¬A-:846 (97%)       |0.832 |0.42 - 1.608  |0.641   |\n",
       "|A-positive  |A+:216 (31.7%), ¬A+:466 (68.3%) |A+:219 (25.1%), ¬A+:653 (74.9%) |1.382 |1.099 - 1.737 |0.004   |\n",
       "|AB          |AB:21 (3.1%), ¬AB:661 (96.9%)   |AB:47 (5.4%), ¬AB:830 (94.6%)   |0.561 |0.315 - 0.969 |0.033   |\n",
       "|AB-positive |AB+:21 (3.1%), ¬AB+:661 (96.9%) |AB+:42 (4.8%), ¬AB+:830 (95.2%) |0.628 |0.35 - 1.097  |0.093   |\n",
       "|B           |B:116 (17%), ¬B:566 (83%)       |B:136 (15.5%), ¬B:741 (84.5%)   |1.117 |0.843 - 1.477 |0.446   |\n",
       "|B-negative  |B-:7 (1%), ¬B-:675 (99%)        |B-:14 (1.6%), ¬B-:858 (98.4%)   |0.636 |0.216 - 1.695 |0.381   |\n",
       "|B-positive  |B+:109 (16%), ¬B+:573 (84%)     |B+:122 (14%), ¬B+:750 (86%)     |1.169 |0.874 - 1.563 |0.282   |\n",
       "|O           |O:312 (45.7%), ¬O:370 (54.3%)   |O:449 (51.2%), ¬O:428 (48.8%)   |0.804 |0.654 - 0.987 |0.036   |\n",
       "|O-negative  |O-:21 (3.1%), ¬O-:661 (96.9%)   |O-:26 (3%), ¬O-:846 (97%)       |1.034 |0.548 - 1.93  |1.000   |\n",
       "|O-positive  |O+:291 (42.7%), ¬O+:391 (57.3%) |O+:423 (48.5%), ¬O+:449 (51.5%) |0.790 |0.642 - 0.971 |0.024   |"
      ]
     },
     "metadata": {},
     "output_type": "display_data"
    }
   ],
   "source": [
    "bind_rows(\n",
    "        abo_one_vs_rest_tests_df %>% mutate(blood_group_type = 'ABO'), \n",
    "        abo_rh_one_vs_rest_tests_df %>% mutate(blood_group_type = 'ABO+Rh')\n",
    "    ) %>%\n",
    "    select(-method, -alternative) %>%\n",
    "    mutate(\n",
    "        blood_group = blood_group %>% \n",
    "                          str_replace('neg', 'negative') %>% \n",
    "                          str_replace('pos', 'positive')\n",
    "    ) %>%\n",
    "    inner_join(counts, by = c('blood_group', 'comparison')) %>%\n",
    "    mutate(\n",
    "        comparison = comparison %>% recode_factor(\n",
    "            'positive_vs_general' = 'COV+ vs general population', \n",
    "            'positive_vs_negative' = 'COV+ vs COV-', \n",
    "            'intubated_covid_positive_vs_not_intubated_covid_positive' = 'COV+/Intubated vs COV+/Not intubated',\n",
    "            'died_covid_positive_vs_alive_covid_positive' = 'COV+/Died vs COV+/Alive', \n",
    "        ),\n",
    "        conf.low = conf.low %>% round(digits = 3),\n",
    "        conf.high = conf.high %>% round(digits = 3),\n",
    "        estimate = estimate %>% round(digits = 3),\n",
    "        p.value = p.value %>% round(digits = 3)\n",
    "    ) %>%\n",
    "    arrange(comparison, blood_group) %>%\n",
    "    unite('95% CI', c(conf.low, conf.high), sep = ' - ') %>%\n",
    "    filter(comparison == 'COV+ vs COV-') %>%\n",
    "    select(\n",
    "#         'Comparison groups' = comparison,\n",
    "        'Blood group' = blood_group, \n",
    "#         'Blood group type' = blood_group_type, \n",
    "        'COV+ counts' = 'Counts 1', \n",
    "        'COV- counts' = 'Counts 2',\n",
    "        'OR' = estimate,\n",
    "        '95% CI',\n",
    "        'p-value' = p.value\n",
    "    ) %>%\n",
    "    knitr::kable(\n",
    "        digits = 3, \n",
    "        align = 'l'\n",
    "    )"
   ]
  },
  {
   "cell_type": "markdown",
   "metadata": {},
   "source": [
    "### Table 4 - meta analysis"
   ]
  },
  {
   "cell_type": "code",
   "execution_count": 51,
   "metadata": {},
   "outputs": [
    {
     "data": {
      "text/html": [
       "<table>\n",
       "<caption>A data.frame: 4 × 4</caption>\n",
       "<thead>\n",
       "\t<tr><th scope=col>blood_group</th><th scope=col>OR</th><th scope=col>CI</th><th scope=col>p_value</th></tr>\n",
       "\t<tr><th scope=col>&lt;fct&gt;</th><th scope=col>&lt;dbl&gt;</th><th scope=col>&lt;fct&gt;</th><th scope=col>&lt;dbl&gt;</th></tr>\n",
       "</thead>\n",
       "<tbody>\n",
       "\t<tr><td>A </td><td>1.1636</td><td>1.0155 - 1.3333</td><td>0.0291</td></tr>\n",
       "\t<tr><td>B </td><td>1.1101</td><td>1.0068 - 1.2240</td><td>0.0361</td></tr>\n",
       "\t<tr><td>AB</td><td>1.2519</td><td>0.8384 - 1.8694</td><td>0.2721</td></tr>\n",
       "\t<tr><td>O </td><td>0.7252</td><td>0.5971 - 0.8807</td><td>0.0012</td></tr>\n",
       "</tbody>\n",
       "</table>\n"
      ],
      "text/latex": [
       "A data.frame: 4 × 4\n",
       "\\begin{tabular}{r|llll}\n",
       " blood\\_group & OR & CI & p\\_value\\\\\n",
       " <fct> & <dbl> & <fct> & <dbl>\\\\\n",
       "\\hline\n",
       "\t A  & 1.1636 & 1.0155 - 1.3333 & 0.0291\\\\\n",
       "\t B  & 1.1101 & 1.0068 - 1.2240 & 0.0361\\\\\n",
       "\t AB & 1.2519 & 0.8384 - 1.8694 & 0.2721\\\\\n",
       "\t O  & 0.7252 & 0.5971 - 0.8807 & 0.0012\\\\\n",
       "\\end{tabular}\n"
      ],
      "text/markdown": [
       "\n",
       "A data.frame: 4 × 4\n",
       "\n",
       "| blood_group &lt;fct&gt; | OR &lt;dbl&gt; | CI &lt;fct&gt; | p_value &lt;dbl&gt; |\n",
       "|---|---|---|---|\n",
       "| A  | 1.1636 | 1.0155 - 1.3333 | 0.0291 |\n",
       "| B  | 1.1101 | 1.0068 - 1.2240 | 0.0361 |\n",
       "| AB | 1.2519 | 0.8384 - 1.8694 | 0.2721 |\n",
       "| O  | 0.7252 | 0.5971 - 0.8807 | 0.0012 |\n",
       "\n"
      ],
      "text/plain": [
       "  blood_group OR     CI              p_value\n",
       "1 A           1.1636 1.0155 - 1.3333 0.0291 \n",
       "2 B           1.1101 1.0068 - 1.2240 0.0361 \n",
       "3 AB          1.2519 0.8384 - 1.8694 0.2721 \n",
       "4 O           0.7252 0.5971 - 0.8807 0.0012 "
      ]
     },
     "metadata": {},
     "output_type": "display_data"
    }
   ],
   "source": [
    "meta_pooled_effects_df"
   ]
  },
  {
   "cell_type": "code",
   "execution_count": 52,
   "metadata": {},
   "outputs": [
    {
     "name": "stderr",
     "output_type": "stream",
     "text": [
      "Warning message:\n",
      "“Column `blood_group` joining character vector and factor, coercing into character vector”"
     ]
    },
    {
     "data": {
      "text/plain": [
       "\n",
       "\n",
       "|Blood group |NYP general population |NYP COV+    |Shenzhen general population |Shenzhen COV+ |Wuhan general population |Wuhan Jinyintan COV+ |Wuhan Renmin COV+ |     OR|95% CI          | p-value|\n",
       "|:-----------|:----------------------|:-----------|:---------------------------|:-------------|:------------------------|:--------------------|:-----------------|------:|:---------------|-------:|\n",
       "|A           |32.7% (35643)          |34.2% (233) |28.8% (6728)                |28.8% (82)    |32.2% (1188)             |37.7% (670)          |39.8% (45)        | 1.1636|1.0155 - 1.3333 |  0.0291|\n",
       "|AB          |4.2% (4582)            |3.1% (21)   |7.3% (1712)                 |13.7% (39)    |9.1% (336)               |10% (178)            |13.3% (15)        | 1.2519|0.8384 - 1.8694 |  0.2721|\n",
       "|B           |14.9% (16229)          |17% (116)   |25.1% (5880)                |29.1% (83)    |24.9% (920)              |26.4% (469)          |22.1% (25)        | 1.1101|1.0068 - 1.2240 |  0.0361|\n",
       "|O           |48.1% (52406)          |45.7% (312) |38.8% (9066)                |28.4% (81)    |33.8% (1250)             |25.8% (458)          |24.8% (28)        | 0.7252|0.5971 - 0.8807 |  0.0012|"
      ]
     },
     "metadata": {},
     "output_type": "display_data"
    }
   ],
   "source": [
    "# Format table for manuscript\n",
    "abo_zhao_contingency %>% \n",
    "    select(blood_group, nyp_covid_positive, nyp_general_pop, shenzhen_pts, shenzhen_controls, \n",
    "           wuhan_jinyintan_pts, wuhan_renmin_pts, wuhan_controls) %>%\n",
    "    inner_join(meta_pooled_effects_df, by = 'blood_group') %>%\n",
    "    mutate(\n",
    "        nyp_general_pop_frac = (nyp_general_pop / sum(nyp_general_pop)) %>% round(3),\n",
    "        shenzhen_controls_frac = (shenzhen_controls / sum(shenzhen_controls)) %>% round(3),\n",
    "        wuhan_controls_frac = (wuhan_controls / sum(wuhan_controls)) %>% round(3),        \n",
    "        \"NYP general population\" = str_glue('{100 * nyp_general_pop_frac}% ({nyp_general_pop})') %>%\n",
    "            as.character,        \n",
    "        \"Shenzhen general population\" = str_glue('{100 * shenzhen_controls_frac}% ({shenzhen_controls})') %>%\n",
    "            as.character,\n",
    "        \"Wuhan general population\" = str_glue('{100 * wuhan_controls_frac}% ({wuhan_controls})') %>%\n",
    "            as.character,       \n",
    "        \n",
    "        nyp_covid_positive_frac = (nyp_covid_positive / sum(nyp_covid_positive)) %>% round(3),\n",
    "        shenzhen_covid_positive_frac = (shenzhen_pts / sum(shenzhen_pts)) %>% round(3),\n",
    "        wuhan_jin_covid_positive_frac = (wuhan_jinyintan_pts / sum(wuhan_jinyintan_pts)) %>% round(3),\n",
    "        wuhan_ren_covid_positive_frac = (wuhan_renmin_pts / sum(wuhan_renmin_pts)) %>% round(3),\n",
    "        \n",
    "        \"NYP COV+\" = str_glue('{100 * nyp_covid_positive_frac}% ({nyp_covid_positive})') %>% as.character,\n",
    "        \"Shenzhen COV+\" = str_glue('{100 * shenzhen_covid_positive_frac}% ({shenzhen_pts})') %>% as.character,\n",
    "        \"Wuhan Jinyintan COV+\" = str_glue('{100 * wuhan_jin_covid_positive_frac}% ({wuhan_jinyintan_pts})') %>% as.character,\n",
    "        \"Wuhan Renmin COV+\" = str_glue('{100 * wuhan_ren_covid_positive_frac}% ({wuhan_renmin_pts})') %>% as.character,\n",
    "    ) %>%\n",
    "    select(\"Blood group\" = blood_group, \"NYP general population\", \"NYP COV+\",\n",
    "           \"Shenzhen general population\", \"Shenzhen COV+\", \"Wuhan general population\",\n",
    "           \"Wuhan Jinyintan COV+\", \"Wuhan Renmin COV+\", \"OR\", \"95% CI\" = \"CI\", \"p-value\" = \"p_value\") %>%\n",
    "    knitr::kable()"
   ]
  },
  {
   "cell_type": "code",
   "execution_count": 53,
   "metadata": {},
   "outputs": [
    {
     "data": {
      "text/html": [
       "<table>\n",
       "<caption>A tibble: 6 × 1</caption>\n",
       "<thead>\n",
       "\t<tr><th scope=col>procedure_name</th></tr>\n",
       "\t<tr><th scope=col>&lt;chr&gt;</th></tr>\n",
       "</thead>\n",
       "<tbody>\n",
       "\t<tr><td>TYPE AND SCREEN                               </td></tr>\n",
       "\t<tr><td>TYPE (ABO CONFIRMATION ONLY)                  </td></tr>\n",
       "\t<tr><td>BLOOD TYPE ABO AND RH                         </td></tr>\n",
       "\t<tr><td>NEWBORN PANEL (ABO/RH PLUS DAT PLUS AB SCREEN)</td></tr>\n",
       "\t<tr><td>CORD BLOOD PANEL (ABO/RH PLUS DAT)            </td></tr>\n",
       "\t<tr><td>NEWBORN BLOOD TYPE                            </td></tr>\n",
       "</tbody>\n",
       "</table>\n"
      ],
      "text/latex": [
       "A tibble: 6 × 1\n",
       "\\begin{tabular}{r|l}\n",
       " procedure\\_name\\\\\n",
       " <chr>\\\\\n",
       "\\hline\n",
       "\t TYPE AND SCREEN                               \\\\\n",
       "\t TYPE (ABO CONFIRMATION ONLY)                  \\\\\n",
       "\t BLOOD TYPE ABO AND RH                         \\\\\n",
       "\t NEWBORN PANEL (ABO/RH PLUS DAT PLUS AB SCREEN)\\\\\n",
       "\t CORD BLOOD PANEL (ABO/RH PLUS DAT)            \\\\\n",
       "\t NEWBORN BLOOD TYPE                            \\\\\n",
       "\\end{tabular}\n"
      ],
      "text/markdown": [
       "\n",
       "A tibble: 6 × 1\n",
       "\n",
       "| procedure_name &lt;chr&gt; |\n",
       "|---|\n",
       "| TYPE AND SCREEN                                |\n",
       "| TYPE (ABO CONFIRMATION ONLY)                   |\n",
       "| BLOOD TYPE ABO AND RH                          |\n",
       "| NEWBORN PANEL (ABO/RH PLUS DAT PLUS AB SCREEN) |\n",
       "| CORD BLOOD PANEL (ABO/RH PLUS DAT)             |\n",
       "| NEWBORN BLOOD TYPE                             |\n",
       "\n"
      ],
      "text/plain": [
       "  procedure_name                                \n",
       "1 TYPE AND SCREEN                               \n",
       "2 TYPE (ABO CONFIRMATION ONLY)                  \n",
       "3 BLOOD TYPE ABO AND RH                         \n",
       "4 NEWBORN PANEL (ABO/RH PLUS DAT PLUS AB SCREEN)\n",
       "5 CORD BLOOD PANEL (ABO/RH PLUS DAT)            \n",
       "6 NEWBORN BLOOD TYPE                            "
      ]
     },
     "metadata": {},
     "output_type": "display_data"
    }
   ],
   "source": [
    "covid_nyp_measurements %>%\n",
    "    filter(component_name %>% str_detect('ABORH') & ord_value != 'Invalid') %>%\n",
    "    distinct(procedure_name) %>%\n",
    "    head %>%\n",
    "    as_tibble"
   ]
  },
  {
   "cell_type": "code",
   "execution_count": 54,
   "metadata": {},
   "outputs": [
    {
     "data": {
      "text/html": [
       "<table>\n",
       "<caption>A tibble: 1 × 11</caption>\n",
       "<thead>\n",
       "\t<tr><th scope=col>num_covid_tested_with_blood_type</th><th scope=col>distinct_check</th><th scope=col>n_males</th><th scope=col>mean_age</th><th scope=col>med_age</th><th scope=col>intubated_covid_positive</th><th scope=col>death_covid_positive</th><th scope=col>intubated</th><th scope=col>died</th><th scope=col>covid_positive</th><th scope=col>covid_negative</th></tr>\n",
       "\t<tr><th scope=col>&lt;int&gt;</th><th scope=col>&lt;int&gt;</th><th scope=col>&lt;int&gt;</th><th scope=col>&lt;dbl&gt;</th><th scope=col>&lt;dbl&gt;</th><th scope=col>&lt;int&gt;</th><th scope=col>&lt;int&gt;</th><th scope=col>&lt;int&gt;</th><th scope=col>&lt;int&gt;</th><th scope=col>&lt;int&gt;</th><th scope=col>&lt;dbl&gt;</th></tr>\n",
       "</thead>\n",
       "<tbody>\n",
       "\t<tr><td>1559</td><td>1559</td><td>716</td><td>53.11496</td><td>56.77049</td><td>179</td><td>80</td><td>387</td><td>134</td><td>682</td><td>877</td></tr>\n",
       "</tbody>\n",
       "</table>\n"
      ],
      "text/latex": [
       "A tibble: 1 × 11\n",
       "\\begin{tabular}{r|lllllllllll}\n",
       " num\\_covid\\_tested\\_with\\_blood\\_type & distinct\\_check & n\\_males & mean\\_age & med\\_age & intubated\\_covid\\_positive & death\\_covid\\_positive & intubated & died & covid\\_positive & covid\\_negative\\\\\n",
       " <int> & <int> & <int> & <dbl> & <dbl> & <int> & <int> & <int> & <int> & <int> & <dbl>\\\\\n",
       "\\hline\n",
       "\t 1559 & 1559 & 716 & 53.11496 & 56.77049 & 179 & 80 & 387 & 134 & 682 & 877\\\\\n",
       "\\end{tabular}\n"
      ],
      "text/markdown": [
       "\n",
       "A tibble: 1 × 11\n",
       "\n",
       "| num_covid_tested_with_blood_type &lt;int&gt; | distinct_check &lt;int&gt; | n_males &lt;int&gt; | mean_age &lt;dbl&gt; | med_age &lt;dbl&gt; | intubated_covid_positive &lt;int&gt; | death_covid_positive &lt;int&gt; | intubated &lt;int&gt; | died &lt;int&gt; | covid_positive &lt;int&gt; | covid_negative &lt;dbl&gt; |\n",
       "|---|---|---|---|---|---|---|---|---|---|---|\n",
       "| 1559 | 1559 | 716 | 53.11496 | 56.77049 | 179 | 80 | 387 | 134 | 682 | 877 |\n",
       "\n"
      ],
      "text/plain": [
       "  num_covid_tested_with_blood_type distinct_check n_males mean_age med_age \n",
       "1 1559                             1559           716     53.11496 56.77049\n",
       "  intubated_covid_positive death_covid_positive intubated died covid_positive\n",
       "1 179                      80                   387       134  682           \n",
       "  covid_negative\n",
       "1 877           "
      ]
     },
     "metadata": {},
     "output_type": "display_data"
    }
   ],
   "source": [
    "# With known blood type\n",
    "final_formatted_df %>% \n",
    "    filter(abo != 'unknown' & rh != 'unknown') %>%\n",
    "    summarize(\n",
    "        num_covid_tested_with_blood_type = n(),\n",
    "        distinct_check = n_distinct(pat_mrn_id),\n",
    "        n_males = sum(sex == 2),\n",
    "        mean_age = mean(age),\n",
    "        med_age = median(age),\n",
    "        intubated_covid_positive = sum(intubation_binary & covid_result_binary),\n",
    "        death_covid_positive = sum(died_binary & covid_result_binary),\n",
    "        intubated = sum(intubation_binary),\n",
    "        died = sum(died_binary),\n",
    "        covid_positive = sum(covid_result_binary),\n",
    "        covid_negative = sum(1 - covid_result_binary),\n",
    "        \n",
    "    )\n",
    "# head"
   ]
  },
  {
   "cell_type": "code",
   "execution_count": 55,
   "metadata": {},
   "outputs": [
    {
     "data": {
      "text/html": [
       "1"
      ],
      "text/latex": [
       "1"
      ],
      "text/markdown": [
       "1"
      ],
      "text/plain": [
       "[1] 1"
      ]
     },
     "metadata": {},
     "output_type": "display_data"
    }
   ],
   "source": [
    "# 2. COVID-19 tested excluded due to contradictory blood type results\n",
    "multiple_blood_types_df %>% distinct(pat_mrn_id) %>% nrow"
   ]
  },
  {
   "cell_type": "code",
   "execution_count": 56,
   "metadata": {},
   "outputs": [
    {
     "data": {
      "text/plain": [
       "\n",
       "\tPearson's Chi-squared test\n",
       "\n",
       "data:  .\n",
       "X-squared = 3.8896, df = 3, p-value = 0.2736\n"
      ]
     },
     "metadata": {},
     "output_type": "display_data"
    }
   ],
   "source": [
    "abo_contingency %>%\n",
    "    mutate(total_tested = covid_positive + covid_negative) %>%\n",
    "    select(total_tested, general_pop) %>%\n",
    "    chisq.test"
   ]
  },
  {
   "cell_type": "code",
   "execution_count": 57,
   "metadata": {},
   "outputs": [
    {
     "data": {
      "text/html": [
       "<table>\n",
       "<caption>A tibble: 1 × 3</caption>\n",
       "<thead>\n",
       "\t<tr><th scope=col>earliest</th><th scope=col>latest</th><th scope=col>num_d_individuals</th></tr>\n",
       "\t<tr><th scope=col>&lt;chr&gt;</th><th scope=col>&lt;chr&gt;</th><th scope=col>&lt;int&gt;</th></tr>\n",
       "</thead>\n",
       "<tbody>\n",
       "\t<tr><td>2011-05-01</td><td>2019-06-02</td><td>108860</td></tr>\n",
       "</tbody>\n",
       "</table>\n"
      ],
      "text/latex": [
       "A tibble: 1 × 3\n",
       "\\begin{tabular}{r|lll}\n",
       " earliest & latest & num\\_d\\_individuals\\\\\n",
       " <chr> & <chr> & <int>\\\\\n",
       "\\hline\n",
       "\t 2011-05-01 & 2019-06-02 & 108860\\\\\n",
       "\\end{tabular}\n"
      ],
      "text/markdown": [
       "\n",
       "A tibble: 1 × 3\n",
       "\n",
       "| earliest &lt;chr&gt; | latest &lt;chr&gt; | num_d_individuals &lt;int&gt; |\n",
       "|---|---|---|\n",
       "| 2011-05-01 | 2019-06-02 | 108860 |\n",
       "\n"
      ],
      "text/plain": [
       "  earliest   latest     num_d_individuals\n",
       "1 2011-05-01 2019-06-02 108860           "
      ]
     },
     "metadata": {},
     "output_type": "display_data"
    }
   ],
   "source": [
    "general_population_blood_group_measurements %>%\n",
    "    summarize(\n",
    "        earliest = min(measurement_date), \n",
    "        latest = max(measurement_date),\n",
    "        num_d_individuals = n_distinct(person_id)\n",
    "    ) "
   ]
  },
  {
   "cell_type": "markdown",
   "metadata": {},
   "source": [
    "# Export full tables"
   ]
  },
  {
   "cell_type": "code",
   "execution_count": 58,
   "metadata": {},
   "outputs": [],
   "source": [
    "# Blood groups ~ risk factors\n",
    "combined_lr_blood_group_coefs %>% write_tsv('../data/blood_group_risk_factor_associations.tsv')\n",
    "\n",
    "# Analysis of deviance from outcome ~ risk factors and outcome ~ blood group + risk factors\n",
    "lr_anova_df %>% write_tsv('../data/outcome_anova.tsv')\n",
    "\n",
    "# Coefficients from comparisons of outcome ~ blood group vs outcome ~ blood group + risk factors\n",
    "multivar_lr_coefs_df %>% write_tsv('../data/lr_coefficients_blood_group_risk_factors.tsv')"
   ]
  }
 ],
 "metadata": {
  "kernelspec": {
   "display_name": "R [conda env:nsides] *",
   "language": "R",
   "name": "conda-env-nsides-r"
  },
  "language_info": {
   "codemirror_mode": "r",
   "file_extension": ".r",
   "mimetype": "text/x-r-source",
   "name": "R",
   "pygments_lexer": "r",
   "version": "3.5.1"
  }
 },
 "nbformat": 4,
 "nbformat_minor": 2
}
