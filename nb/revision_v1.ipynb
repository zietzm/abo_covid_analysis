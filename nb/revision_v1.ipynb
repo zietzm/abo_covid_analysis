{
 "cells": [
  {
   "cell_type": "markdown",
   "metadata": {},
   "source": [
    "# SARS-CoV-2/COVID-19 ABO/Rh blood group analysis\n",
    "\n",
    "Michael Zietz, Nicholas Tatonetti\n",
    "\n",
    "Updated in response to reviewer comments"
   ]
  },
  {
   "cell_type": "code",
   "execution_count": 1,
   "metadata": {
    "scrolled": true
   },
   "outputs": [],
   "source": [
    "options(readr.num_columns = 0, repr.matrix.max.cols = 50)\n",
    "\n",
    "library(broom)\n",
    "suppressMessages(library(cowplot))\n",
    "suppressMessages(library(tidyverse))\n",
    "\n",
    "library(grid)\n",
    "suppressMessages(library(gridExtra))\n",
    "suppressMessages(library(meta))"
   ]
  },
  {
   "cell_type": "code",
   "execution_count": 2,
   "metadata": {},
   "outputs": [
    {
     "name": "stderr",
     "output_type": "stream",
     "text": [
      "Warning message in result_create(conn@ptr, statement, is_statement):\n",
      "“Cancelling previous query”"
     ]
    }
   ],
   "source": [
    "con <- DBI::dbConnect(\n",
    "    RMariaDB::MariaDB(),\n",
    "    host = \"localhost\",\n",
    "    user = \"mnz2108\",\n",
    "    dbname = \"clinical_merge_v5_240919\",\n",
    "    password = read_file('../mysql_password.txt') %>% str_squish\n",
    ")\n",
    "\n",
    "date = '2020-06-15'\n",
    "hash = '66ec50743325ded678ab71acb1794a7f25bf8a85'\n",
    "\n",
    "res <- DBI::dbSendQuery(con, str_glue('SET @date = DATE(\"{date}\")'))\n",
    "res <- DBI::dbSendQuery(con, str_glue('SET @version_hash = \"{hash}\"'))"
   ]
  },
  {
   "cell_type": "code",
   "execution_count": 3,
   "metadata": {},
   "outputs": [],
   "source": [
    "sql_to_tibble <- function(sql_code, .con = con) {\n",
    "    sql_code %>%\n",
    "        str_glue %>%\n",
    "        sql %>%\n",
    "        tbl(src = .con) %>%\n",
    "        as_tibble\n",
    "}"
   ]
  },
  {
   "cell_type": "markdown",
   "metadata": {},
   "source": [
    "## 1. Collect data\n",
    "\n",
    "### 1.1. NYP/CUIMC data for SARS-CoV-2 tested individuals\n",
    "\n",
    "This analysis uses a `.sql` script to build the table used for analysis here (`user_mnz2108.abo_covid_analysis_wide`). This script must be run to create the appropriate table before this notebook can run."
   ]
  },
  {
   "cell_type": "code",
   "execution_count": 4,
   "metadata": {},
   "outputs": [],
   "source": [
    "analysis_df <- '\n",
    "    SELECT *\n",
    "    FROM user_mnz2108.abo_covid_analysis_wide\n",
    "    WHERE date_retrieved = @date AND version_hash = @version_hash\n",
    "    ' %>%\n",
    "    sql_to_tibble"
   ]
  },
  {
   "cell_type": "code",
   "execution_count": 5,
   "metadata": {},
   "outputs": [
    {
     "data": {
      "text/html": [
       "<ol class=list-inline>\n",
       "\t<li>'pat_mrn_id'</li>\n",
       "\t<li>'male_sex'</li>\n",
       "\t<li>'age'</li>\n",
       "\t<li>'ethnicity'</li>\n",
       "\t<li>'race'</li>\n",
       "\t<li>'abo'</li>\n",
       "\t<li>'rh'</li>\n",
       "\t<li>'risk_factor_cardiovascular_disorders'</li>\n",
       "\t<li>'risk_factor_diabetes_mellitus'</li>\n",
       "\t<li>'risk_factor_hypertension'</li>\n",
       "\t<li>'risk_factor_obesity'</li>\n",
       "\t<li>'risk_factor_respiratory_disorders'</li>\n",
       "\t<li>'cov_pos'</li>\n",
       "\t<li>'intubated'</li>\n",
       "\t<li>'died'</li>\n",
       "\t<li>'date_retrieved'</li>\n",
       "\t<li>'version_hash'</li>\n",
       "</ol>\n"
      ],
      "text/latex": [
       "\\begin{enumerate*}\n",
       "\\item 'pat\\_mrn\\_id'\n",
       "\\item 'male\\_sex'\n",
       "\\item 'age'\n",
       "\\item 'ethnicity'\n",
       "\\item 'race'\n",
       "\\item 'abo'\n",
       "\\item 'rh'\n",
       "\\item 'risk\\_factor\\_cardiovascular\\_disorders'\n",
       "\\item 'risk\\_factor\\_diabetes\\_mellitus'\n",
       "\\item 'risk\\_factor\\_hypertension'\n",
       "\\item 'risk\\_factor\\_obesity'\n",
       "\\item 'risk\\_factor\\_respiratory\\_disorders'\n",
       "\\item 'cov\\_pos'\n",
       "\\item 'intubated'\n",
       "\\item 'died'\n",
       "\\item 'date\\_retrieved'\n",
       "\\item 'version\\_hash'\n",
       "\\end{enumerate*}\n"
      ],
      "text/markdown": [
       "1. 'pat_mrn_id'\n",
       "2. 'male_sex'\n",
       "3. 'age'\n",
       "4. 'ethnicity'\n",
       "5. 'race'\n",
       "6. 'abo'\n",
       "7. 'rh'\n",
       "8. 'risk_factor_cardiovascular_disorders'\n",
       "9. 'risk_factor_diabetes_mellitus'\n",
       "10. 'risk_factor_hypertension'\n",
       "11. 'risk_factor_obesity'\n",
       "12. 'risk_factor_respiratory_disorders'\n",
       "13. 'cov_pos'\n",
       "14. 'intubated'\n",
       "15. 'died'\n",
       "16. 'date_retrieved'\n",
       "17. 'version_hash'\n",
       "\n",
       "\n"
      ],
      "text/plain": [
       " [1] \"pat_mrn_id\"                          \n",
       " [2] \"male_sex\"                            \n",
       " [3] \"age\"                                 \n",
       " [4] \"ethnicity\"                           \n",
       " [5] \"race\"                                \n",
       " [6] \"abo\"                                 \n",
       " [7] \"rh\"                                  \n",
       " [8] \"risk_factor_cardiovascular_disorders\"\n",
       " [9] \"risk_factor_diabetes_mellitus\"       \n",
       "[10] \"risk_factor_hypertension\"            \n",
       "[11] \"risk_factor_obesity\"                 \n",
       "[12] \"risk_factor_respiratory_disorders\"   \n",
       "[13] \"cov_pos\"                             \n",
       "[14] \"intubated\"                           \n",
       "[15] \"died\"                                \n",
       "[16] \"date_retrieved\"                      \n",
       "[17] \"version_hash\"                        "
      ]
     },
     "metadata": {},
     "output_type": "display_data"
    },
    {
     "data": {
      "text/html": [
       "<table>\n",
       "<caption>A tibble: 1 × 2</caption>\n",
       "<thead>\n",
       "\t<tr><th scope=col>n()</th><th scope=col>n_distinct(pat_mrn_id)</th></tr>\n",
       "\t<tr><th scope=col>&lt;int&gt;</th><th scope=col>&lt;int&gt;</th></tr>\n",
       "</thead>\n",
       "<tbody>\n",
       "\t<tr><td>7770</td><td>7770</td></tr>\n",
       "</tbody>\n",
       "</table>\n"
      ],
      "text/latex": [
       "A tibble: 1 × 2\n",
       "\\begin{tabular}{r|ll}\n",
       " n() & n\\_distinct(pat\\_mrn\\_id)\\\\\n",
       " <int> & <int>\\\\\n",
       "\\hline\n",
       "\t 7770 & 7770\\\\\n",
       "\\end{tabular}\n"
      ],
      "text/markdown": [
       "\n",
       "A tibble: 1 × 2\n",
       "\n",
       "| n() &lt;int&gt; | n_distinct(pat_mrn_id) &lt;int&gt; |\n",
       "|---|---|\n",
       "| 7770 | 7770 |\n",
       "\n"
      ],
      "text/plain": [
       "  n()  n_distinct(pat_mrn_id)\n",
       "1 7770 7770                  "
      ]
     },
     "metadata": {},
     "output_type": "display_data"
    },
    {
     "data": {
      "text/html": [
       "<dl>\n",
       "</dl>\n"
      ],
      "text/latex": [
       "\\begin{description}\n",
       "\\end{description}\n"
      ],
      "text/markdown": [
       "\n",
       "\n"
      ],
      "text/plain": [
       "named list()"
      ]
     },
     "metadata": {},
     "output_type": "display_data"
    }
   ],
   "source": [
    "analysis_df %>% colnames\n",
    "\n",
    "# These numbers should be the same (one row per person)\n",
    "analysis_df %>% summarize(n(), n_distinct(pat_mrn_id))\n",
    "\n",
    "# Check that no columns have NAs\n",
    "analysis_df %>% map(~sum(is.na(.))) %>% keep(. > 0)"
   ]
  },
  {
   "cell_type": "markdown",
   "metadata": {},
   "source": [
    "### 1.2. Population blood group frequencies for meta-analysis\n",
    "\n",
    "#### 1.2.1. NYP/CUIMC general population\n",
    "\n",
    "Individuals not tested for SARS-CoV-2 infection."
   ]
  },
  {
   "cell_type": "code",
   "execution_count": 6,
   "metadata": {},
   "outputs": [],
   "source": [
    "general_population_blood_groups_df <- '\n",
    "    SELECT abo, rh, n\n",
    "    FROM user_mnz2108.blood_groups_general_population\n",
    "    WHERE date_retrieved = @date\n",
    "    ' %>%\n",
    "    sql_to_tibble %>%\n",
    "    mutate(n = n %>% as.double)"
   ]
  },
  {
   "cell_type": "code",
   "execution_count": 7,
   "metadata": {},
   "outputs": [],
   "source": [
    "nyp_meta_counts <- analysis_df %>% \n",
    "    group_by(abo) %>% \n",
    "    summarize(patients = sum(cov_pos), .groups = 'drop') %>%\n",
    "    inner_join(\n",
    "        general_population_blood_groups_df %>% \n",
    "            group_by(abo) %>% \n",
    "            summarize(controls = sum(n), .groups = 'drop'),\n",
    "        by = 'abo'\n",
    "    ) %>%\n",
    "    rename(blood_group = abo) %>%\n",
    "    mutate(site = 'NYP/CUIMC')"
   ]
  },
  {
   "cell_type": "markdown",
   "metadata": {},
   "source": [
    "#### 1.2.2 Zhao et al. data from China\n",
    "\n",
    "https://doi.org/10.1101/2020.03.11.20031096"
   ]
  },
  {
   "cell_type": "code",
   "execution_count": 8,
   "metadata": {},
   "outputs": [],
   "source": [
    "zhao_counts_df <- data.frame(\n",
    "        blood_group = c('A', 'B', 'AB', 'O'),\n",
    "        wuhan_controls = c(1188, 920, 336, 1250),\n",
    "        wuhan_jinyintan_pts = c(670, 469, 178, 458),\n",
    "        wuhan_jinyintan_died = c(85, 50, 19, 52),\n",
    "        wuhan_renmin_pts = c(45, 25, 15, 28),\n",
    "        shenzhen_controls = c(6728, 5880, 1712, 9066),\n",
    "        shenzhen_pts = c(82, 83, 39, 81)\n",
    "    ) %>%\n",
    "    mutate(wuhan_controls_copy = wuhan_controls) %>%\n",
    "    select(-wuhan_jinyintan_died) %>%\n",
    "    nest(\n",
    "        'Wuhan Jinyintan' = c(wuhan_jinyintan_pts, wuhan_controls),\n",
    "        'Wuhan Renmin' = c(wuhan_renmin_pts, wuhan_controls_copy),\n",
    "        'Shenzhen' = c(shenzhen_pts, shenzhen_controls)\n",
    "    ) %>%\n",
    "    pivot_longer(c('Wuhan Jinyintan', 'Wuhan Renmin', 'Shenzhen'), names_to = 'site', \n",
    "                 values_to = 'pts_controls') %>%\n",
    "    mutate(pts_controls = pts_controls %>% map(~set_names(., c('patients', 'controls'))))  %>%\n",
    "    unnest(pts_controls)"
   ]
  },
  {
   "cell_type": "markdown",
   "metadata": {},
   "source": [
    "#### 1.2.3 UK Biobank data\n",
    "\n",
    "Individuals tested for infection with genetic data available. Blood groups assigned using genetic data in the UK Biobank notebook."
   ]
  },
  {
   "cell_type": "code",
   "execution_count": 9,
   "metadata": {},
   "outputs": [],
   "source": [
    "ukb_counts_df <- read_tsv('../data/ukb_2020-05-07.tsv') %>% \n",
    "    mutate(site = 'UK Biobank') %>% \n",
    "    select(blood_group, site, patients = cov_pos, controls = general_pop)"
   ]
  },
  {
   "cell_type": "markdown",
   "metadata": {},
   "source": [
    "#### 1.2.4 Combine meta-analysis data sources"
   ]
  },
  {
   "cell_type": "code",
   "execution_count": 10,
   "metadata": {},
   "outputs": [],
   "source": [
    "meta_analysis_counts <- bind_rows(   \n",
    "        nyp_meta_counts,\n",
    "        zhao_counts_df, \n",
    "        ukb_counts_df\n",
    "    )"
   ]
  },
  {
   "cell_type": "markdown",
   "metadata": {},
   "source": [
    "## 2. Data prep\n",
    "\n",
    "### 2.1. Normalize, add derived fields"
   ]
  },
  {
   "cell_type": "code",
   "execution_count": 11,
   "metadata": {
    "scrolled": true
   },
   "outputs": [
    {
     "data": {
      "text/html": [
       "<ol class=list-inline>\n",
       "\t<li>'pat_mrn_id'</li>\n",
       "\t<li>'male_sex'</li>\n",
       "\t<li>'age'</li>\n",
       "\t<li>'ethnicity'</li>\n",
       "\t<li>'race'</li>\n",
       "\t<li>'abo'</li>\n",
       "\t<li>'rh'</li>\n",
       "\t<li>'abo_rh'</li>\n",
       "\t<li>'risk_factor_cardiovascular_disorders'</li>\n",
       "\t<li>'risk_factor_diabetes_mellitus'</li>\n",
       "\t<li>'risk_factor_hypertension'</li>\n",
       "\t<li>'risk_factor_obesity'</li>\n",
       "\t<li>'risk_factor_respiratory_disorders'</li>\n",
       "\t<li>'cov_pos'</li>\n",
       "\t<li>'intubated'</li>\n",
       "\t<li>'died'</li>\n",
       "\t<li>'age_normed'</li>\n",
       "</ol>\n"
      ],
      "text/latex": [
       "\\begin{enumerate*}\n",
       "\\item 'pat\\_mrn\\_id'\n",
       "\\item 'male\\_sex'\n",
       "\\item 'age'\n",
       "\\item 'ethnicity'\n",
       "\\item 'race'\n",
       "\\item 'abo'\n",
       "\\item 'rh'\n",
       "\\item 'abo\\_rh'\n",
       "\\item 'risk\\_factor\\_cardiovascular\\_disorders'\n",
       "\\item 'risk\\_factor\\_diabetes\\_mellitus'\n",
       "\\item 'risk\\_factor\\_hypertension'\n",
       "\\item 'risk\\_factor\\_obesity'\n",
       "\\item 'risk\\_factor\\_respiratory\\_disorders'\n",
       "\\item 'cov\\_pos'\n",
       "\\item 'intubated'\n",
       "\\item 'died'\n",
       "\\item 'age\\_normed'\n",
       "\\end{enumerate*}\n"
      ],
      "text/markdown": [
       "1. 'pat_mrn_id'\n",
       "2. 'male_sex'\n",
       "3. 'age'\n",
       "4. 'ethnicity'\n",
       "5. 'race'\n",
       "6. 'abo'\n",
       "7. 'rh'\n",
       "8. 'abo_rh'\n",
       "9. 'risk_factor_cardiovascular_disorders'\n",
       "10. 'risk_factor_diabetes_mellitus'\n",
       "11. 'risk_factor_hypertension'\n",
       "12. 'risk_factor_obesity'\n",
       "13. 'risk_factor_respiratory_disorders'\n",
       "14. 'cov_pos'\n",
       "15. 'intubated'\n",
       "16. 'died'\n",
       "17. 'age_normed'\n",
       "\n",
       "\n"
      ],
      "text/plain": [
       " [1] \"pat_mrn_id\"                          \n",
       " [2] \"male_sex\"                            \n",
       " [3] \"age\"                                 \n",
       " [4] \"ethnicity\"                           \n",
       " [5] \"race\"                                \n",
       " [6] \"abo\"                                 \n",
       " [7] \"rh\"                                  \n",
       " [8] \"abo_rh\"                              \n",
       " [9] \"risk_factor_cardiovascular_disorders\"\n",
       "[10] \"risk_factor_diabetes_mellitus\"       \n",
       "[11] \"risk_factor_hypertension\"            \n",
       "[12] \"risk_factor_obesity\"                 \n",
       "[13] \"risk_factor_respiratory_disorders\"   \n",
       "[14] \"cov_pos\"                             \n",
       "[15] \"intubated\"                           \n",
       "[16] \"died\"                                \n",
       "[17] \"age_normed\"                          "
      ]
     },
     "metadata": {},
     "output_type": "display_data"
    },
    {
     "data": {
      "text/html": [
       "<dl>\n",
       "</dl>\n"
      ],
      "text/latex": [
       "\\begin{description}\n",
       "\\end{description}\n"
      ],
      "text/markdown": [
       "\n",
       "\n"
      ],
      "text/plain": [
       "named list()"
      ]
     },
     "metadata": {},
     "output_type": "display_data"
    }
   ],
   "source": [
    "# This was the table on which the analysis was done. It's basically a wide-format table, one\n",
    "# row per individual, with all comorbidities, demographics, etc. in one table.\n",
    "\n",
    "regression_df <- analysis_df %>%\n",
    "    select(-date_retrieved, -version_hash) %>%\n",
    "    mutate(\n",
    "        age_normed = (age - mean(age)) / sd(age),\n",
    "    \n",
    "        abo_rh = str_c(abo, rh, sep = '_'),\n",
    "    ) %>%\n",
    "    relocate(abo_rh, .after = rh)\n",
    "\n",
    "regression_df %>% colnames\n",
    "\n",
    "# Check no NAs\n",
    "regression_df %>% map(~sum(is.na(.))) %>% keep(. > 0)                                  "
   ]
  },
  {
   "cell_type": "markdown",
   "metadata": {},
   "source": [
    "## 3. Analysis\n",
    "\n",
    "### 3.1. Tests for overall association\n",
    "\n",
    "#### 3.1.1 Setup contingency tables"
   ]
  },
  {
   "cell_type": "code",
   "execution_count": 12,
   "metadata": {},
   "outputs": [],
   "source": [
    "cuimc_contingency <- regression_df %>%\n",
    "    pivot_longer(c(abo, rh, abo_rh), names_to = 'blood_group_type', \n",
    "                 values_to = 'blood_group') %>%\n",
    "    mutate(\n",
    "        cov_tested = 1,\n",
    "        cov_neg = 1 - cov_pos,\n",
    "        intubated_cov_pos = intubated * cov_pos, \n",
    "        died_cov_pos = died * cov_pos,\n",
    "        not_intubated_cov_pos = cov_pos * (1 - intubated),\n",
    "        alive_cov_pos = cov_pos * (1 - died),\n",
    "    ) %>%\n",
    "\n",
    "    group_by(blood_group_type, blood_group) %>%\n",
    "    summarize(across(c(cov_pos, cov_neg, cov_tested, intubated, died, intubated_cov_pos, \n",
    "                       not_intubated_cov_pos, died_cov_pos, alive_cov_pos), sum), \n",
    "              .groups = 'drop') %>%\n",
    "    \n",
    "    inner_join(\n",
    "        general_population_blood_groups_df %>%\n",
    "            mutate(abo_rh = str_c(abo, rh, sep = '_')) %>%\n",
    "            pivot_longer(c(abo, rh, abo_rh), names_to = 'blood_group_type', \n",
    "                         values_to = 'blood_group') %>%\n",
    "            group_by(blood_group_type, blood_group) %>%\n",
    "            summarize(n = sum(n), .groups = 'drop'),\n",
    "        by = c('blood_group_type', 'blood_group')\n",
    "    ) %>%\n",
    "    rename('general_pop' = n) %>%\n",
    "    filter(blood_group != 'AB_neg')"
   ]
  },
  {
   "cell_type": "markdown",
   "metadata": {},
   "source": [
    "#### 3.1.2. Chi-squared tests"
   ]
  },
  {
   "cell_type": "code",
   "execution_count": 13,
   "metadata": {},
   "outputs": [],
   "source": [
    "# Test for independence between ABO and Rh\n",
    "abo_vs_rh_chisq_df <- regression_df %>%\n",
    "    select(abo, rh) %>%\n",
    "    table %>%\n",
    "    as_tibble %>%\n",
    "    group_by(rh) %>%\n",
    "    mutate(count = str_glue('{abo}: {n} ({round(100 * n / sum(n), 1)}%)')) %>%\n",
    "    summarize(count = paste(count, collapse = ', '), .groups = 'drop') %>%\n",
    "    pivot_wider(names_from = rh, values_from = count) %>%\n",
    "    rename(group_1 = neg, group_2 = pos) %>%\n",
    "    bind_cols(\n",
    "        regression_df %>%\n",
    "            select(abo, rh) %>%\n",
    "            table %>%\n",
    "            chisq.test %>%\n",
    "            tidy\n",
    "    ) %>%\n",
    "    mutate(test_id = 'Rh-neg vs Rh-pos', blood_group_type = 'ABO')"
   ]
  },
  {
   "cell_type": "code",
   "execution_count": 14,
   "metadata": {},
   "outputs": [],
   "source": [
    "contingency_tests <- list(\n",
    "    'COV+ vs COV-' = c('cov_pos', 'cov_neg'),\n",
    "    'COV+ vs general population' = c('cov_pos', 'general_pop'),\n",
    "    'COV+/Intubated vs COV+/Not intubated' = c('intubated_cov_pos', 'not_intubated_cov_pos'),\n",
    "    'COV+/Intubated vs COV+' = c('intubated_cov_pos', 'cov_pos'),\n",
    "    'COV+/Died vs COV+/Alive' = c('died_cov_pos', 'alive_cov_pos'),\n",
    "    'COV+/Died vs COV+' = c('died_cov_pos', 'cov_pos'),\n",
    "    'SARS-CoV-2 tested vs general population' = c('cov_tested', 'general_pop')\n",
    ")"
   ]
  },
  {
   "cell_type": "code",
   "execution_count": 15,
   "metadata": {},
   "outputs": [],
   "source": [
    "chi_squared_df <- cuimc_contingency %>%\n",
    "    mutate(test = list(contingency_tests)) %>%\n",
    "    unnest_longer(test) %>%\n",
    "    nest(data = c(-blood_group_type, -test_id, -test)) %>%\n",
    "    mutate(\n",
    "        # Keep only the columns in data needed for the relevant test\n",
    "        data = map2(data, test, ~select(.x, 'blood_group', all_of(.y))),\n",
    "        # Perform Chi-squared test\n",
    "        chisq = data %>% map(~select(., -'blood_group')) %>% map(chisq.test) %>% map(tidy),\n",
    "        nice_counts = data %>% \n",
    "            map(~set_names(.x, c('blood_group', 'group_1', 'group_2')) %>%\n",
    "                mutate(across(-blood_group, \n",
    "                              ~str_glue('{blood_group}: {.} ({round(100 * . / sum(.), 1)}%)'))) %>%\n",
    "                summarize(across(-blood_group, ~paste(., collapse = ', ')))\n",
    "            ),\n",
    "    ) %>%\n",
    "    select(-data, -test) %>%\n",
    "    unnest(c(nice_counts, chisq)) %>%\n",
    "    bind_rows(abo_vs_rh_chisq_df) %>%\n",
    "    relocate(c(group_1, group_2), .after = test_id)"
   ]
  },
  {
   "cell_type": "markdown",
   "metadata": {},
   "source": [
    "### 3.2. Tests for individual blood group associations\n",
    "\n",
    "Univariate and multivariate logistic regressions"
   ]
  },
  {
   "cell_type": "code",
   "execution_count": 16,
   "metadata": {},
   "outputs": [],
   "source": [
    "# Formulae for univariate and multivariate regressions\n",
    "# (outcome included later)\n",
    "formulae = list(\n",
    "    'univariate' = ' ~ had_blood_group',\n",
    "    'multivariate' = ' ~\n",
    "        age_normed + male_sex + \n",
    "        ethnicity_hs + ethnicity_other + ethnicity_missing + \n",
    "        race_asian + race_black_aa + race_other + race_missing + \n",
    "\n",
    "        risk_factor_cardiovascular_disorders + \n",
    "        risk_factor_diabetes_mellitus + \n",
    "        risk_factor_hypertension + \n",
    "        risk_factor_obesity + \n",
    "        risk_factor_respiratory_disorders + \n",
    "\n",
    "        had_blood_group'\n",
    ")\n",
    "\n",
    "# Criteria for inclusion in the comparison for each outcome\n",
    "strata <- list(\n",
    "    'cov_pos' = 'T',\n",
    "    'intubated' = 'cov_pos == 1',\n",
    "    'died' = 'cov_pos == 1'\n",
    ")"
   ]
  },
  {
   "cell_type": "code",
   "execution_count": 17,
   "metadata": {},
   "outputs": [],
   "source": [
    "individual_blood_group_associations_df <- regression_df %>%\n",
    "    # Define and enforce cohort entry conditions for each outcome\n",
    "    mutate(stratum = list(strata)) %>%\n",
    "    unnest_longer(stratum, indices_to = 'outcome') %>%\n",
    "    rowwise() %>%\n",
    "    filter(eval(rlang::parse_expr(stratum))) %>%\n",
    "    ungroup %>%\n",
    "    # Make blood group, race, ethnicity explicit dummy variables\n",
    "    recipes::recipe() %>%\n",
    "    recipes::step_dummy(abo, rh, abo_rh, race, ethnicity, one_hot = T) %>%\n",
    "    recipes::prep() %>%\n",
    "    recipes::juice() %>%\n",
    "    pivot_longer(c(starts_with('abo_'), starts_with('rh_')), names_to = 'blood_group', \n",
    "                 values_to = 'had_blood_group') %>%\n",
    "    mutate(\n",
    "        blood_group_type = blood_group %>% str_extract('abo_rh|abo|rh'),\n",
    "        blood_group = blood_group %>% str_replace_all(c('abo_rh_' = '', 'abo_' = '', 'rh_' = ''))\n",
    "    ) %>%\n",
    "    # Analysis\n",
    "    nest(data = c(-outcome, -blood_group_type, -blood_group)) %>%\n",
    "    mutate(formula = list(formulae)) %>%\n",
    "    unnest_longer(formula) %>%\n",
    "    mutate(\n",
    "        formula = str_c(outcome, formula),\n",
    "        reg = map2(formula, data, ~glm(as.formula(.x), data = .y, family = binomial())) %>% map(tidy)\n",
    "    ) %>%\n",
    "    select(-data, -formula) %>%\n",
    "    unnest(reg)"
   ]
  },
  {
   "cell_type": "markdown",
   "metadata": {},
   "source": [
    "### 3.3. Further multivariate analysis\n",
    "\n",
    "#### 3.3.1. Blood group ~ RF"
   ]
  },
  {
   "cell_type": "code",
   "execution_count": 18,
   "metadata": {},
   "outputs": [],
   "source": [
    "bg_rf_formula = '\n",
    "    had_blood_group ~ \n",
    "\n",
    "    age_normed + male_sex +\n",
    "\n",
    "    ethnicity_hs + ethnicity_other + ethnicity_missing +\n",
    "    race_asian + race_black_aa + race_other + race_missing +\n",
    "\n",
    "    risk_factor_cardiovascular_disorders + risk_factor_diabetes_mellitus + risk_factor_hypertension + \n",
    "    risk_factor_obesity + risk_factor_respiratory_disorders\n",
    "    '"
   ]
  },
  {
   "cell_type": "code",
   "execution_count": 19,
   "metadata": {
    "scrolled": true
   },
   "outputs": [],
   "source": [
    "bg_rf_df <- regression_df %>% \n",
    "    # Make blood group, race, ethnicity explicit dummy variables\n",
    "    recipes::recipe() %>%\n",
    "    recipes::step_dummy(abo, rh, abo_rh, race, ethnicity, one_hot = T) %>%\n",
    "    recipes::prep() %>%\n",
    "    recipes::juice() %>%\n",
    "    pivot_longer(c(starts_with('abo_'), starts_with('rh_')), names_to = 'blood_group', \n",
    "                 values_to = 'had_blood_group') %>%\n",
    "    mutate(\n",
    "        blood_group_type = blood_group %>% str_extract('abo_rh|abo|rh'),\n",
    "        blood_group = blood_group %>% str_replace_all(c('abo_rh_' = '', 'abo_' = '', 'rh_' = ''))\n",
    "    ) %>%\n",
    "    # Analysis\n",
    "    nest(data = c(-blood_group_type, -blood_group)) %>%\n",
    "    mutate(reg = data %>% map(~glm(bg_rf_formula, data = ., family = binomial())) %>% map(tidy)) %>%\n",
    "    select(-data) %>%\n",
    "    unnest(reg)"
   ]
  },
  {
   "cell_type": "markdown",
   "metadata": {},
   "source": [
    "#### 3.3.2. Model fits for groups of variables\n",
    "\n",
    "Reference groups (typically most common group)\n",
    "\n",
    "| Characteristic | Reference group |\n",
    "| -------------- | --------------- |\n",
    "| ABO            | O               |\n",
    "| ABO/Rh         | O-positive      |\n",
    "| Rh             | positive        |\n",
    "| Race           | White   |\n",
    "| Ethnicity      | Non-Hispanic |\n",
    "\n",
    "From now on, \"RF\" means age, sex, race, ethnicity, comorbid \"risk factors\".\n",
    "\n",
    "For this part of the analysis, I'm keeping the formatting separate from the statistics. I hope this will make reading the statistics code more clear."
   ]
  },
  {
   "cell_type": "code",
   "execution_count": 20,
   "metadata": {},
   "outputs": [],
   "source": [
    "# Risk factors\n",
    "rf <- '\n",
    "    age_normed + male_sex +\n",
    "\n",
    "    ethnicity_hs + ethnicity_other + ethnicity_missing +\n",
    "    race_asian + race_black_aa + race_other + race_missing +\n",
    "\n",
    "    risk_factor_cardiovascular_disorders + risk_factor_diabetes_mellitus + risk_factor_hypertension + \n",
    "    risk_factor_obesity + risk_factor_respiratory_disorders\n",
    "    '\n",
    "\n",
    "# Logistic regressions to be run. Specifying explicitly to ensure that the reference group\n",
    "#  is the one we want it to be (most common group).\n",
    "formulae <- list(\n",
    "        'null' = ' ~ 1',\n",
    "        'Risk factors' = ' ~ {rf}',\n",
    "        'ABO' = ' ~ abo_A + abo_B + abo_AB',\n",
    "        'ABO + Risk factors' = ' ~ {rf} + abo_A + abo_B + abo_AB',\n",
    "        'ABO/Rh' = ' ~ abo_rh_A_neg + abo_rh_A_pos + abo_rh_B_neg + abo_rh_B_pos + \n",
    "                       abo_rh_AB_pos + abo_rh_O_neg',\n",
    "        'ABO/Rh + Risk factors' = ' ~ {rf} + abo_rh_A_neg + abo_rh_A_pos + abo_rh_B_neg + abo_rh_B_pos + \n",
    "                          abo_rh_AB_pos + abo_rh_O_neg',\n",
    "        'Rh(D)' = ' ~ rh_neg',\n",
    "        'Rh(D) + Risk factors' = ' ~ {rf} + rh_neg'\n",
    "    ) %>%\n",
    "    map(str_glue) %>%\n",
    "    map(str_squish)\n",
    "\n",
    "# Map from outcome to criteria for inclusion in the comparison for that outcome\n",
    "strata <- list(\n",
    "    'cov_pos' = 'T',\n",
    "    'intubated' = 'cov_pos == 1',\n",
    "    'died' = 'cov_pos == 1'\n",
    ")\n",
    "\n",
    "# Model fits to compare\n",
    "comparisons <- list(\n",
    "        'Risk factors vs Null' = c('Risk factors', 'null'),\n",
    "        'ABO + Risk factors vs Risk factors' = c('ABO + Risk factors', 'Risk factors'),\n",
    "        'ABO/Rh + Risk factors vs Risk factors' = c('ABO/Rh + Risk factors', 'Risk factors'),\n",
    "        'Rh(D) + Risk factors vs Risk factors' = c('Rh(D) + Risk factors', 'Risk factors')\n",
    "    ) %>% \n",
    "    map(~set_names(.x, 'group_1', 'group_2'))"
   ]
  },
  {
   "cell_type": "code",
   "execution_count": 21,
   "metadata": {
    "scrolled": true
   },
   "outputs": [],
   "source": [
    "model_fit_regressions_df <- regression_df %>% \n",
    "    # One hot encode blood groups\n",
    "    recipes::recipe() %>%\n",
    "    recipes::step_dummy(abo, rh, abo_rh, race, ethnicity, one_hot = T) %>%\n",
    "    recipes::prep() %>%\n",
    "    recipes::juice() %>%\n",
    "    # Define and enforce cohort entry conditions for each outcome\n",
    "    mutate(\n",
    "        cov_tested = !is.na(cov_pos), \n",
    "        stratum = list(strata)\n",
    "    ) %>%\n",
    "    unnest_longer(stratum, indices_to = 'outcome') %>%\n",
    "    rowwise() %>%\n",
    "    filter(eval(rlang::parse_expr(stratum))) %>%\n",
    "    ungroup %>%\n",
    "    # Actual analyses\n",
    "    nest(data = c(-outcome)) %>%\n",
    "    mutate(formula = list(formulae)) %>%\n",
    "    unnest_longer(formula) %>%\n",
    "    mutate(\n",
    "        formula = str_c(outcome, formula),\n",
    "        reg = map2(formula, data, ~glm(as.formula(.x), data = .y, family = binomial()))\n",
    "    ) %>%\n",
    "    pivot_wider(names_from = formula_id, values_from = reg, id_cols = c(outcome, data)) %>%\n",
    "    select(-data)"
   ]
  },
  {
   "cell_type": "code",
   "execution_count": 22,
   "metadata": {},
   "outputs": [],
   "source": [
    "model_fits_df <- model_fit_regressions_df %>%\n",
    "    # Filter to the appropriate comparison \n",
    "    mutate(comparison = list(comparisons)) %>%\n",
    "    unnest_longer(comparison) %>%\n",
    "    unnest_wider(comparison) %>%\n",
    "    nest(data = c(-outcome, -group_1, -group_2, -comparison_id)) %>%\n",
    "    mutate(data = pmap(list(data, group_1, group_2), select) %>% map(~set_names(.x, 'reg_1', 'reg_2'))) %>%\n",
    "    unnest(data) %>%\n",
    "    # Perform comparison\n",
    "    mutate(anova = map2(reg_1, reg_2, ~anova(.x, object = .y, test = 'Chisq'))) %>%\n",
    "    unnest(anova) %>%\n",
    "    select(-reg_1, -reg_2, -group_1, -group_2) %>%\n",
    "    filter(!is.na(Df))"
   ]
  },
  {
   "cell_type": "markdown",
   "metadata": {},
   "source": [
    "### 3.4. Meta-analysis"
   ]
  },
  {
   "cell_type": "code",
   "execution_count": 23,
   "metadata": {},
   "outputs": [],
   "source": [
    "# Helper functions for converting meta-analysis results into dataframes\n",
    "augment.metabin <- function(metabin_result) {\n",
    "    data.frame(\n",
    "        site_name = metabin_result$studlab,\n",
    "        OR = exp(metabin_result$TE),\n",
    "        conf.low = exp(metabin_result$lower),\n",
    "        conf.high = exp(metabin_result$upper),\n",
    "        weight = metabin_result$w.random / sum(metabin_result$w.random)\n",
    "    )\n",
    "}\n",
    "\n",
    "glance.metabin <- function(metabin_result) {\n",
    "    data.frame(\n",
    "        tau_2 = metabin_result$tau2,\n",
    "        I_squared = metabin_result$I2,\n",
    "        I_squared_CI_lower = metabin_result$lower.I2,\n",
    "        I_squared_CI_upper = metabin_result$upper.I2,\n",
    "        H = metabin_result$H,\n",
    "        H_CI_lower = metabin_result$lower.H,\n",
    "        H_CI_upper = metabin_result$upper.H,\n",
    "        Q = metabin_result$Q,\n",
    "        Q_df = metabin_result$df.Q,\n",
    "        Q_p_value = metabin_result$pval.Q\n",
    "    )\n",
    "}\n",
    "\n",
    "tidy.metabin <- function(metabin_result) {\n",
    "    data.frame(\n",
    "        OR = exp(metabin_result$TE.random),\n",
    "        conf.low = exp(metabin_result$lower.random),\n",
    "        conf.high = exp(metabin_result$upper.random),\n",
    "        Z = metabin_result$zval.random,\n",
    "        p.value = metabin_result$pval.random\n",
    "    )\n",
    "}"
   ]
  },
  {
   "cell_type": "code",
   "execution_count": 24,
   "metadata": {},
   "outputs": [],
   "source": [
    "meta_analysis_df <- meta_analysis_counts %>%\n",
    "    # Add counts for patients and controls of other blood groups at the same site\n",
    "    group_by(site) %>%\n",
    "    mutate(\n",
    "        other_bg_patients = sum(patients) - patients, \n",
    "        other_bg_controls = sum(controls) - controls\n",
    "    ) %>%\n",
    "    ungroup %>%\n",
    "    nest(data = c(-blood_group)) %>%\n",
    "    mutate(\n",
    "        meta = data %>% \n",
    "            map(~meta::metabin(\n",
    "                event.e = patients, \n",
    "                n.e = patients + controls, \n",
    "                event.c = other_bg_patients, \n",
    "                n.c = other_bg_patients + other_bg_controls,\n",
    "                studlab = site,\n",
    "                data = .x,\n",
    "                comb.random = T,\n",
    "                comb.fixed = F,\n",
    "                sm = 'OR'\n",
    "            )),\n",
    "        meta_site_weights = meta %>% map(augment),\n",
    "        meta_overall = meta %>% map(tidy),\n",
    "        meta_heterogeneity = meta %>% map(glance)\n",
    "    ) %>%\n",
    "    select(-data)"
   ]
  },
  {
   "cell_type": "code",
   "execution_count": 25,
   "metadata": {},
   "outputs": [],
   "source": [
    "# Extract dataframe version of the meta-analysis results\n",
    "meta_pooled_effects <- meta_analysis_df %>%\n",
    "    select(blood_group, meta_overall) %>%\n",
    "    unnest(meta_overall)\n",
    "\n",
    "meta_site_weights <- meta_analysis_df %>%\n",
    "    select(blood_group, meta_site_weights) %>%\n",
    "    unnest(meta_site_weights)\n",
    "\n",
    "meta_sites_heterogeneity <- meta_analysis_df %>%\n",
    "    select(blood_group, meta_heterogeneity) %>%\n",
    "    unnest(meta_heterogeneity)"
   ]
  },
  {
   "cell_type": "markdown",
   "metadata": {},
   "source": [
    "### 3.5. Miscellaneous brief analyses"
   ]
  },
  {
   "cell_type": "code",
   "execution_count": 27,
   "metadata": {},
   "outputs": [
    {
     "data": {
      "text/html": [
       "<table>\n",
       "<caption>A tibble: 3 × 9</caption>\n",
       "<thead>\n",
       "\t<tr><th scope=col>statistic</th><th scope=col>p.value</th><th scope=col>parameter</th><th scope=col>method</th><th scope=col>site</th><th scope=col>log_p</th><th scope=col>b</th><th scope=col>a</th><th scope=col>formatted</th></tr>\n",
       "\t<tr><th scope=col>&lt;dbl&gt;</th><th scope=col>&lt;dbl&gt;</th><th scope=col>&lt;int&gt;</th><th scope=col>&lt;chr&gt;</th><th scope=col>&lt;chr&gt;</th><th scope=col>&lt;dbl&gt;</th><th scope=col>&lt;dbl&gt;</th><th scope=col>&lt;dbl&gt;</th><th scope=col>&lt;glue&gt;</th></tr>\n",
       "</thead>\n",
       "<tbody>\n",
       "\t<tr><td> 580.6443</td><td>1.5825e-125</td><td>3</td><td>Pearson's Chi-squared test</td><td>Wuhan     </td><td> -288.059</td><td> -126</td><td>7.9</td><td>7.9e-126 </td></tr>\n",
       "\t<tr><td>2036.2870</td><td> 0.0000e+00</td><td>3</td><td>Pearson's Chi-squared test</td><td>Shenzhen  </td><td>-1015.253</td><td> -441</td><td>1.2</td><td>1.2e-441 </td></tr>\n",
       "\t<tr><td>5289.8534</td><td> 0.0000e+00</td><td>3</td><td>Pearson's Chi-squared test</td><td>UK Biobank</td><td>-2641.559</td><td>-1148</td><td>6.1</td><td>6.1e-1148</td></tr>\n",
       "</tbody>\n",
       "</table>\n"
      ],
      "text/latex": [
       "A tibble: 3 × 9\n",
       "\\begin{tabular}{r|lllllllll}\n",
       " statistic & p.value & parameter & method & site & log\\_p & b & a & formatted\\\\\n",
       " <dbl> & <dbl> & <int> & <chr> & <chr> & <dbl> & <dbl> & <dbl> & <glue>\\\\\n",
       "\\hline\n",
       "\t  580.6443 & 1.5825e-125 & 3 & Pearson's Chi-squared test & Wuhan      &  -288.059 &  -126 & 7.9 & 7.9e-126 \\\\\n",
       "\t 2036.2870 &  0.0000e+00 & 3 & Pearson's Chi-squared test & Shenzhen   & -1015.253 &  -441 & 1.2 & 1.2e-441 \\\\\n",
       "\t 5289.8534 &  0.0000e+00 & 3 & Pearson's Chi-squared test & UK Biobank & -2641.559 & -1148 & 6.1 & 6.1e-1148\\\\\n",
       "\\end{tabular}\n"
      ],
      "text/markdown": [
       "\n",
       "A tibble: 3 × 9\n",
       "\n",
       "| statistic &lt;dbl&gt; | p.value &lt;dbl&gt; | parameter &lt;int&gt; | method &lt;chr&gt; | site &lt;chr&gt; | log_p &lt;dbl&gt; | b &lt;dbl&gt; | a &lt;dbl&gt; | formatted &lt;glue&gt; |\n",
       "|---|---|---|---|---|---|---|---|---|\n",
       "|  580.6443 | 1.5825e-125 | 3 | Pearson's Chi-squared test | Wuhan      |  -288.059 |  -126 | 7.9 | 7.9e-126  |\n",
       "| 2036.2870 |  0.0000e+00 | 3 | Pearson's Chi-squared test | Shenzhen   | -1015.253 |  -441 | 1.2 | 1.2e-441  |\n",
       "| 5289.8534 |  0.0000e+00 | 3 | Pearson's Chi-squared test | UK Biobank | -2641.559 | -1148 | 6.1 | 6.1e-1148 |\n",
       "\n"
      ],
      "text/plain": [
       "  statistic p.value     parameter method                     site      \n",
       "1  580.6443 1.5825e-125 3         Pearson's Chi-squared test Wuhan     \n",
       "2 2036.2870  0.0000e+00 3         Pearson's Chi-squared test Shenzhen  \n",
       "3 5289.8534  0.0000e+00 3         Pearson's Chi-squared test UK Biobank\n",
       "  log_p     b     a   formatted\n",
       "1  -288.059  -126 7.9 7.9e-126 \n",
       "2 -1015.253  -441 1.2 1.2e-441 \n",
       "3 -2641.559 -1148 6.1 6.1e-1148"
      ]
     },
     "metadata": {},
     "output_type": "display_data"
    }
   ],
   "source": [
    "# Whether blood groups are equivalent between meta-analysis sites\n",
    "meta_counts <- meta_analysis_counts %>%\n",
    "    pivot_wider(id_cols = blood_group, names_from = site, values_from = controls) %>%\n",
    "    select(-blood_group, 'Wuhan' = 'Wuhan Jinyintan', -'Wuhan Renmin')\n",
    "\n",
    "list('Wuhan', 'Shenzhen', 'UK Biobank') %>%\n",
    "    map(~chisq.test(meta_counts[c(.x, 'NYP/CUIMC')]) %>% tidy %>% mutate(site = .x)) %>%\n",
    "    bind_rows() %>%\n",
    "    mutate(\n",
    "        log_p = dchisq(x = statistic, df = parameter, log = T),\n",
    "        b = floor(log_p / log(10)),\n",
    "        a = exp(log_p - b * log(10)),\n",
    "        across(c(a, b), ~round(., 1)),\n",
    "        formatted = str_glue('{a}e{b}')\n",
    "    )"
   ]
  },
  {
   "cell_type": "markdown",
   "metadata": {},
   "source": [
    "### 3.6. Race/ethnicity stratified analysis"
   ]
  },
  {
   "cell_type": "code",
   "execution_count": 28,
   "metadata": {},
   "outputs": [],
   "source": [
    "# Formulae for univariate and multivariate regressions\n",
    "# (outcome included later)\n",
    "formulae = list(\n",
    "    'univariate' = ' ~ had_blood_group',\n",
    "    'multivariate' = ' ~\n",
    "        age_normed + male_sex + \n",
    "\n",
    "        risk_factor_cardiovascular_disorders + \n",
    "        risk_factor_diabetes_mellitus + \n",
    "        risk_factor_hypertension + \n",
    "        risk_factor_obesity + \n",
    "        risk_factor_respiratory_disorders + \n",
    "\n",
    "        had_blood_group'\n",
    ")\n",
    "\n",
    "# Criteria for inclusion in the comparison for each outcome\n",
    "strata <- list(\n",
    "    'cov_pos' = 'T',\n",
    "    'intubated' = 'cov_pos == 1',\n",
    "    'died' = 'cov_pos == 1'\n",
    ")"
   ]
  },
  {
   "cell_type": "code",
   "execution_count": 29,
   "metadata": {},
   "outputs": [
    {
     "name": "stderr",
     "output_type": "stream",
     "text": [
      "Warning message:\n",
      "“glm.fit: fitted probabilities numerically 0 or 1 occurred”Warning message:\n",
      "“glm.fit: fitted probabilities numerically 0 or 1 occurred”Warning message:\n",
      "“glm.fit: fitted probabilities numerically 0 or 1 occurred”Warning message:\n",
      "“glm.fit: fitted probabilities numerically 0 or 1 occurred”Warning message:\n",
      "“glm.fit: fitted probabilities numerically 0 or 1 occurred”Warning message:\n",
      "“glm.fit: fitted probabilities numerically 0 or 1 occurred”Warning message:\n",
      "“glm.fit: fitted probabilities numerically 0 or 1 occurred”Warning message:\n",
      "“glm.fit: fitted probabilities numerically 0 or 1 occurred”Warning message:\n",
      "“glm.fit: fitted probabilities numerically 0 or 1 occurred”Warning message:\n",
      "“glm.fit: fitted probabilities numerically 0 or 1 occurred”Warning message:\n",
      "“glm.fit: fitted probabilities numerically 0 or 1 occurred”Warning message:\n",
      "“glm.fit: fitted probabilities numerically 0 or 1 occurred”Warning message:\n",
      "“glm.fit: algorithm did not converge”Warning message:\n",
      "“glm.fit: fitted probabilities numerically 0 or 1 occurred”Warning message:\n",
      "“glm.fit: fitted probabilities numerically 0 or 1 occurred”Warning message:\n",
      "“glm.fit: algorithm did not converge”Warning message:\n",
      "“glm.fit: fitted probabilities numerically 0 or 1 occurred”Warning message:\n",
      "“glm.fit: algorithm did not converge”Warning message:\n",
      "“glm.fit: fitted probabilities numerically 0 or 1 occurred”Warning message:\n",
      "“glm.fit: fitted probabilities numerically 0 or 1 occurred”Warning message:\n",
      "“glm.fit: fitted probabilities numerically 0 or 1 occurred”Warning message:\n",
      "“glm.fit: fitted probabilities numerically 0 or 1 occurred”Warning message:\n",
      "“glm.fit: fitted probabilities numerically 0 or 1 occurred”Warning message:\n",
      "“glm.fit: fitted probabilities numerically 0 or 1 occurred”Warning message:\n",
      "“glm.fit: fitted probabilities numerically 0 or 1 occurred”Warning message:\n",
      "“glm.fit: fitted probabilities numerically 0 or 1 occurred”Warning message:\n",
      "“glm.fit: algorithm did not converge”Warning message:\n",
      "“glm.fit: fitted probabilities numerically 0 or 1 occurred”Warning message:\n",
      "“glm.fit: fitted probabilities numerically 0 or 1 occurred”Warning message:\n",
      "“glm.fit: fitted probabilities numerically 0 or 1 occurred”Warning message:\n",
      "“glm.fit: fitted probabilities numerically 0 or 1 occurred”Warning message:\n",
      "“glm.fit: fitted probabilities numerically 0 or 1 occurred”Warning message:\n",
      "“glm.fit: algorithm did not converge”Warning message:\n",
      "“glm.fit: fitted probabilities numerically 0 or 1 occurred”Warning message:\n",
      "“glm.fit: fitted probabilities numerically 0 or 1 occurred”Warning message:\n",
      "“glm.fit: fitted probabilities numerically 0 or 1 occurred”Warning message:\n",
      "“glm.fit: fitted probabilities numerically 0 or 1 occurred”Warning message:\n",
      "“glm.fit: fitted probabilities numerically 0 or 1 occurred”Warning message:\n",
      "“glm.fit: fitted probabilities numerically 0 or 1 occurred”Warning message:\n",
      "“glm.fit: fitted probabilities numerically 0 or 1 occurred”Warning message:\n",
      "“glm.fit: fitted probabilities numerically 0 or 1 occurred”Warning message:\n",
      "“glm.fit: fitted probabilities numerically 0 or 1 occurred”"
     ]
    }
   ],
   "source": [
    "race_stratified_bg_vs_rest <- regression_df %>%\n",
    "    # Define and enforce cohort entry conditions for each outcome\n",
    "    mutate(stratum = list(strata)) %>%\n",
    "    unnest_longer(stratum, indices_to = 'outcome') %>%\n",
    "    rowwise() %>%\n",
    "    filter(eval(rlang::parse_expr(stratum))) %>%\n",
    "    ungroup %>%\n",
    "    # Make blood group explicit dummy variables\n",
    "    recipes::recipe() %>%\n",
    "    recipes::step_dummy(abo, rh, abo_rh, one_hot = T) %>%\n",
    "    recipes::prep() %>%\n",
    "    recipes::juice() %>%\n",
    "    pivot_longer(c(starts_with('abo_'), starts_with('rh_')), names_to = 'blood_group', \n",
    "                 values_to = 'had_blood_group') %>%\n",
    "    pivot_longer(c(race, ethnicity), names_to = 'race_or_ethnicity', values_to = 'race_ethnicity') %>%\n",
    "    unite('race_ethnicity', c(race_or_ethnicity, race_ethnicity), sep = '_') %>%\n",
    "    mutate(\n",
    "        blood_group_type = blood_group %>% str_extract('abo_rh|abo|rh'),\n",
    "        blood_group = blood_group %>% str_replace_all(c('abo_rh_' = '', 'abo_' = '', 'rh_' = '')),\n",
    "    ) %>%\n",
    "    # Analysis\n",
    "    nest(data = c(-outcome, -blood_group_type, -blood_group, -race_ethnicity)) %>%\n",
    "    mutate(formula = list(formulae)) %>%\n",
    "    unnest_longer(formula) %>%\n",
    "    mutate(\n",
    "        formula = str_c(outcome, formula),\n",
    "        reg = map2(formula, data, ~glm(as.formula(.x), data = .y, family = binomial())) %>% map(tidy)\n",
    "    ) %>%\n",
    "    select(-data, -formula) %>%\n",
    "    unnest(reg)"
   ]
  },
  {
   "cell_type": "markdown",
   "metadata": {},
   "source": [
    "## 4. Formatted outputs"
   ]
  },
  {
   "cell_type": "code",
   "execution_count": 30,
   "metadata": {},
   "outputs": [],
   "source": [
    "characteristic_names <- c(\n",
    "    'n' = 'N', \n",
    "    'age' = 'Median age (IQR)', \n",
    "    'male_sex' = 'Male sex (%)', \n",
    "    'race_asian' = 'Race - Asian (%)',\n",
    "    'race_black_aa' = 'Race - Black/AA (%)',\n",
    "    'race_white' = 'Race - White (%)',\n",
    "    'race_other' = 'Race - Other (%)',\n",
    "    'race_missing' = 'Race - Missing (%)',\n",
    "    'ethnicity_hs' = 'Ethnicity - Hispanic (%)',\n",
    "    'ethnicity_nonhs' = 'Ethnicity - Non-Hispanic (%)',\n",
    "    'ethnicity_other' = 'Ethnicity - Other (%)',\n",
    "    'ethnicity_missing' = 'Ethnicity - Missing (%)',\n",
    "\n",
    "    'risk_factor_hypertension' = 'Hypertension (%)',\n",
    "    'risk_factor_cardiovascular_disorders' = 'Cardiovascular diseases (%)', \n",
    "    'risk_factor_respiratory_disorders' = 'Respiratory diseases (%)',\n",
    "    'risk_factor_diabetes_mellitus' = 'Diabetes mellitus (%)',\n",
    "    'risk_factor_obesity' = 'Obesity (%)',\n",
    "\n",
    "    'bg_abo_A' = 'A blood group (%)',\n",
    "    'bg_abo_AB' = 'AB blood group (%)',\n",
    "    'bg_abo_B' = 'B blood group (%)',\n",
    "    'bg_abo_O' = 'O blood group (%)',\n",
    "    'bg_rh_neg' = 'Rh-negative (%)',\n",
    "    \n",
    "    'cov_pos' = 'COV+ (%)',\n",
    "    'intubated_cov_pos' = 'COV+/Intubated (%)',\n",
    "    'died_cov_pos' = 'COV+/Died (%)'\n",
    ")"
   ]
  },
  {
   "cell_type": "markdown",
   "metadata": {},
   "source": [
    "### 4.1. Table 1\n",
    "\n",
    "#### 4.1.1. Basic table 1"
   ]
  },
  {
   "cell_type": "code",
   "execution_count": 31,
   "metadata": {},
   "outputs": [],
   "source": [
    "table_1_basic <- regression_df %>%\n",
    "    recipes::recipe() %>%\n",
    "    recipes::step_dummy(race, ethnicity, one_hot = T) %>%\n",
    "    recipes::prep() %>%\n",
    "    recipes::juice() %>%\n",
    "    pivot_longer(c(abo, rh), names_to = 'blood_group_type', values_to = 'blood_group') %>%\n",
    "    mutate(\n",
    "        blood_group = str_c(blood_group_type, blood_group, sep = '_'), \n",
    "        had_bg = 1,\n",
    "        intubated_cov_pos = intubated * cov_pos, \n",
    "        died_cov_pos = died * cov_pos,\n",
    "    ) %>%\n",
    "    pivot_wider(id_cols = c(-blood_group_type), names_from = blood_group, values_from = had_bg, \n",
    "                values_fill = list(had_bg = 0), names_prefix = 'bg_') %>%\n",
    "    summarize(\n",
    "        n = n(),\n",
    "        age = '{round(median(age), 0)} ({round(quantile(age, 0.25), 0)\n",
    "                }-{round(quantile(age, 0.75), 0)})' %>% str_squish %>% str_glue,\n",
    "        across(c(male_sex, starts_with('risk_factor_'), starts_with('race_'), \n",
    "                 starts_with('ethnicity_'), starts_with('bg_'), cov_pos, intubated_cov_pos, \n",
    "                 died_cov_pos), ~str_glue('{sum(.)} ({round(100 * sum(.) / n, 1)})')),\n",
    "    ) %>%\n",
    "    mutate(across(everything(), as.character)) %>%\n",
    "    pivot_longer(everything(), names_to = 'Characteristic') %>%\n",
    "    filter(Characteristic != 'bg_rh_pos') %>%\n",
    "    mutate(Characteristic = Characteristic %>% recode_factor(!!!characteristic_names, .default = 'ERROR')) %>%\n",
    "    arrange(Characteristic)"
   ]
  },
  {
   "cell_type": "markdown",
   "metadata": {},
   "source": [
    "#### 4.1.2. Stratified Table 1"
   ]
  },
  {
   "cell_type": "code",
   "execution_count": 32,
   "metadata": {},
   "outputs": [],
   "source": [
    "table_1_stratified <- regression_df %>%\n",
    "    recipes::recipe() %>%\n",
    "    recipes::step_dummy(race, ethnicity, one_hot = T) %>%\n",
    "    recipes::prep() %>%\n",
    "    recipes::juice() %>%\n",
    "    pivot_longer(c(abo, rh), names_to = 'blood_group_type', values_to = 'blood_group') %>%\n",
    "    mutate(\n",
    "        intubated_cov_pos = intubated * cov_pos, \n",
    "        died_cov_pos = died * cov_pos,\n",
    "    ) %>%\n",
    "    group_by(blood_group_type, blood_group) %>%\n",
    "    summarize(\n",
    "        n = n(),\n",
    "        age = '{round(median(age), 0)} ({round(quantile(age, 0.25), 0)\n",
    "                }-{round(quantile(age, 0.75), 0)})' %>% str_squish %>% str_glue,\n",
    "        across(c(male_sex, starts_with('risk_factor_'), starts_with('race_'), \n",
    "                 starts_with('ethnicity_'), cov_pos, intubated_cov_pos, \n",
    "                 died_cov_pos), ~str_glue('{sum(.)} ({sprintf(\"%.1f\", 100 * sum(.) / n)})')),\n",
    "        .groups = 'drop'\n",
    "    ) %>%\n",
    "    mutate(across(everything(), as.character)) %>%\n",
    "    pivot_longer(c(-blood_group_type, -blood_group), names_to = 'Characteristic') %>%\n",
    "    pivot_wider(id_cols = Characteristic, names_from = blood_group, values_from = value) %>%\n",
    "    mutate(Characteristic = Characteristic %>% recode_factor(!!!characteristic_names, .default = 'ERROR')) %>%\n",
    "    arrange(Characteristic) %>%\n",
    "    rename('Rh-negative' = 'neg', 'Rh-positive' = 'pos')"
   ]
  },
  {
   "cell_type": "markdown",
   "metadata": {},
   "source": [
    "#### 4.1.3. Supplementary Table 1: ABO/Rh stratified Table 1"
   ]
  },
  {
   "cell_type": "code",
   "execution_count": 33,
   "metadata": {},
   "outputs": [],
   "source": [
    "st1_abo_rh_table_1 <- regression_df %>%\n",
    "    recipes::recipe() %>%\n",
    "    recipes::step_dummy(race, ethnicity, one_hot = T) %>%\n",
    "    recipes::prep() %>%\n",
    "    recipes::juice() %>%\n",
    "    mutate(\n",
    "        intubated_cov_pos = intubated * cov_pos, \n",
    "        died_cov_pos = died * cov_pos,\n",
    "    ) %>%\n",
    "    group_by(abo_rh) %>%\n",
    "    summarize(\n",
    "        n = n(),\n",
    "        age = '{round(median(age), 0)} ({round(quantile(age, 0.25), 0)\n",
    "                }-{round(quantile(age, 0.75), 0)})' %>% str_squish %>% str_glue,\n",
    "        across(c(male_sex, starts_with('risk_factor_'), starts_with('race_'), \n",
    "                 starts_with('ethnicity_'), cov_pos, intubated_cov_pos, \n",
    "                 died_cov_pos), ~str_glue('{sum(.)} ({round(100 * sum(.) / n, 1)})')),\n",
    "        .groups = 'drop'\n",
    "    ) %>%\n",
    "    mutate(\n",
    "        across(everything(), as.character), \n",
    "        abo_rh = abo_rh %>% str_replace_all(c('_neg' = '-', '_pos' = '+'))\n",
    "    ) %>%\n",
    "    pivot_longer(-abo_rh, names_to = 'Characteristic') %>%\n",
    "    pivot_wider(id_cols = Characteristic, names_from = abo_rh, values_from = value) %>%\n",
    "    mutate(Characteristic = Characteristic %>% recode_factor(!!!characteristic_names, .default = 'ERROR')) %>%\n",
    "    arrange(Characteristic) "
   ]
  },
  {
   "cell_type": "markdown",
   "metadata": {},
   "source": [
    "### 4.2. Table 2 - formatted meta-analysis table"
   ]
  },
  {
   "cell_type": "code",
   "execution_count": 34,
   "metadata": {},
   "outputs": [],
   "source": [
    "table_2_meta <- meta_analysis_counts %>%\n",
    "    pivot_longer(c(patients, controls), names_to = 'arm', values_to = 'count') %>%\n",
    "    group_by(site, arm) %>%\n",
    "    mutate(\n",
    "        total = sum(count),\n",
    "        frac = formatC(100 * count / total, format = 'f', digits = 1),\n",
    "        count_formatted = str_glue('{frac}% ({count})') %>% as.character,\n",
    "        arm = arm %>% recode(patients = 'COV+'),\n",
    "        site_formatted = str_glue('{site} {arm}') %>% as.character %>% \n",
    "            # Same controls for both Wuhan hospitals\n",
    "            recode('Wuhan Jinyintan controls' = 'NA', 'Wuhan Renmin controls' = 'Wuhan controls'),\n",
    "    ) %>% \n",
    "    filter(site_formatted != 'NA') %>%\n",
    "    pivot_wider(id_cols = blood_group, names_from = site_formatted, values_from = count_formatted) %>%\n",
    "    # Add and format pooled effect size estimates from the random effects meta-analysis\n",
    "    inner_join(meta_pooled_effects, by = 'blood_group') %>%\n",
    "    mutate(\n",
    "        across(c(OR, conf.low, conf.high), ~round(., digits = 2)),\n",
    "        p = p.value %>% formatC(digits = 2, format = \"fg\", flag = \"#\"),\n",
    "        'Pooled OR, 95% CI, p-value' = str_glue('{OR}, [{conf.low}-{conf.high}], p={p}') %>% as.character\n",
    "    ) %>%\n",
    "    select(-OR, -conf.low, -conf.high, -Z, -p.value, -p) %>%\n",
    "    rename('Blood group' = blood_group) %>%\n",
    "    pivot_longer(-'Blood group', names_to = 'Site', values_to = 'count') %>%\n",
    "    pivot_wider(names_from = 'Blood group', values_from = count)"
   ]
  },
  {
   "cell_type": "markdown",
   "metadata": {},
   "source": [
    "### 4.3. Figure 1: Individual blood group effect sizes"
   ]
  },
  {
   "cell_type": "code",
   "execution_count": 41,
   "metadata": {},
   "outputs": [],
   "source": [
    "individual_blood_group_associations_plot <- individual_blood_group_associations_df %>%\n",
    "    filter(term == 'had_blood_group') %>%\n",
    "    mutate(\n",
    "        conf.low = estimate - 1.96 * std.error,\n",
    "        conf.high = estimate + 1.96 * std.error,\n",
    "        across(c(estimate, conf.low, conf.high), exp),\n",
    "        outcome = outcome %>% recode_factor(\n",
    "            'cov_pos' = 'COV+', 'intubated' = 'COV+/Intubated', 'died' = 'COV+/Died'),\n",
    "        blood_group_type = blood_group_type %>% recode('abo' = 'ABO', 'abo_rh' = 'ABO/Rh', 'rh' = 'Rh'),\n",
    "        blood_group = blood_group %>% \n",
    "            str_replace_all(c('abo_rh_' = '', 'abo_' = '', '_pos' = '+', '_neg' = '-',\n",
    "                              'pos' = 'Rh-pos', 'neg' = 'Rh-neg')),\n",
    "    ) %>%\n",
    "    filter(blood_group != 'AB-') %>%\n",
    "    mutate(\n",
    "        across(c(blood_group), fct_rev),\n",
    "        blood_group_type = blood_group_type %>% fct_relevel(c('ABO', 'Rh', 'ABO/Rh'))\n",
    "    ) %>%\n",
    "    ggplot(aes(x = estimate, xmin = conf.low, xmax = conf.high, y = blood_group, \n",
    "               group = formula_id, color = formula_id, shape = formula_id)) +\n",
    "    geom_vline(xintercept = 1, color = 'grey50', linetype = 'dashed') +\n",
    "    geom_errorbarh(height = 0.25, position = position_dodge(width = 0.55)) +\n",
    "    geom_point(size = 2, position = position_dodge(width = 0.55)) +\n",
    "    xlab('Odds ratio (95% CI)') +\n",
    "    facet_grid(cols = vars(outcome), rows = vars(blood_group_type), scales = 'free', space = \"free_y\") +\n",
    "    scale_x_continuous(n.breaks = 4) +\n",
    "    guides(color = guide_legend(reverse = T), shape = guide_legend(reverse = T)) +\n",
    "    scale_color_brewer(palette = 'Set1') +\n",
    "    theme_cowplot() +\n",
    "    theme(\n",
    "        panel.background = element_rect(color = 'black'),\n",
    "        axis.title.y = element_blank(),\n",
    "        legend.title = element_blank(),\n",
    "        legend.position = c(0.85, -0.105),\n",
    "        legend.text = element_text(size = 10, margin = margin(t = 0.2, l = -4)),\n",
    "        legend.key.height = unit(1, 'pt'),\n",
    "        legend.key.width = unit(12.5, 'pt'),\n",
    "        legend.background = element_blank(),\n",
    "        legend.box.background = element_rect(size = 0.5, colour = \"black\", fill = 'grey97'),\n",
    "        legend.margin = margin(t = -6, r = 1, b = 2),\n",
    "    )"
   ]
  },
  {
   "cell_type": "code",
   "execution_count": 42,
   "metadata": {},
   "outputs": [
    {
     "data": {
      "image/png": "[encoded data removed]",
      "text/plain": [
       "plot without title"
      ]
     },
     "metadata": {},
     "output_type": "display_data"
    }
   ],
   "source": [
    "options(repr.plot.width = 5.5, repr.plot.height = 4.75, repr.plot.res = 100)\n",
    "\n",
    "individual_blood_group_associations_plot"
   ]
  },
  {
   "cell_type": "code",
   "execution_count": 515,
   "metadata": {},
   "outputs": [],
   "source": [
    "ggsave('../img/figure_1.png', individual_blood_group_associations_plot, width = 5.5, height = 4.75, dpi = 400)\n",
    "ggsave('../img/figure_1.pdf', individual_blood_group_associations_plot, width = 5.5, height = 4.75)"
   ]
  },
  {
   "cell_type": "markdown",
   "metadata": {},
   "source": [
    "### 4.4. Figure 2: Small forest plots"
   ]
  },
  {
   "cell_type": "code",
   "execution_count": 33,
   "metadata": {},
   "outputs": [],
   "source": [
    "make_bg_forest <- function(bg) {\n",
    "    pdf(\"NULL\")\n",
    "    \n",
    "    meta_analysis_df %>% \n",
    "        filter(blood_group == bg) %>%\n",
    "        pull(meta) %>%\n",
    "        first %>%\n",
    "        forest(\n",
    "            leftcols = c('studlab'),\n",
    "            leftlabs = c('Source'),\n",
    "            smlab = \"\",\n",
    "            rightcols = c(\"effect\", \"ci\"),\n",
    "            rightlabs = c(\"OR\", \"95% CI\"),\n",
    "            hetstat = F,\n",
    "            overall.hetstat = F,\n",
    "            backtransf = TRUE,\n",
    "            plotwidth = \"2cm\",\n",
    "            calcwidth.pooled = F,\n",
    "            text.random = \"Random effects\",\n",
    "            col.diamond.random = \"red\",\n",
    "            squaresize = 0.5,\n",
    "            addrow = F,\n",
    "            colgap = \"1mm\"\n",
    "        )\n",
    "    grid.text(bg, x = 0.025, hjust = 0, y = 0.95, vjust = 1, \n",
    "              gp = gpar(cex = 1.5, fontface = \"bold\", fontfamily = \"sans\"))\n",
    "    ret <- grid.grab()\n",
    "    whatever <- dev.off()\n",
    "    ret\n",
    "}\n",
    "\n",
    "all_forest_plots <- list(\"A\", \"AB\", \"B\", \"O\") %>% map(make_bg_forest)"
   ]
  },
  {
   "cell_type": "raw",
   "metadata": {},
   "source": [
    "options(repr.plot.width = 7, repr.plot.height = 4.75)\n",
    "\n",
    "grid.arrange(all_forest_plots[[1]], all_forest_plots[[2]], \n",
    "             all_forest_plots[[3]], all_forest_plots[[4]], \n",
    "             ncol = 2, nrow = 2)"
   ]
  },
  {
   "cell_type": "code",
   "execution_count": 34,
   "metadata": {},
   "outputs": [
    {
     "data": {
      "text/html": [
       "<strong>png:</strong> 2"
      ],
      "text/latex": [
       "\\textbf{png:} 2"
      ],
      "text/markdown": [
       "**png:** 2"
      ],
      "text/plain": [
       "png \n",
       "  2 "
      ]
     },
     "metadata": {},
     "output_type": "display_data"
    },
    {
     "data": {
      "text/html": [
       "<strong>png:</strong> 2"
      ],
      "text/latex": [
       "\\textbf{png:} 2"
      ],
      "text/markdown": [
       "**png:** 2"
      ],
      "text/plain": [
       "png \n",
       "  2 "
      ]
     },
     "metadata": {},
     "output_type": "display_data"
    }
   ],
   "source": [
    "grid.newpage()\n",
    "pdf(\"../img/figure_2.pdf\", height = 4.75, width = 7)\n",
    "grid.arrange(all_forest_plots[[1]], all_forest_plots[[2]], \n",
    "             all_forest_plots[[3]], all_forest_plots[[4]], \n",
    "             ncol = 2, nrow = 2)\n",
    "dev.off()\n",
    "\n",
    "grid.newpage()\n",
    "png(\"../img/figure_2.png\", height = 4.75, width = 7, units = \"in\", res = 400)\n",
    "grid.arrange(all_forest_plots[[1]], all_forest_plots[[2]], \n",
    "             all_forest_plots[[3]], all_forest_plots[[4]], \n",
    "             ncol = 2, nrow = 2)\n",
    "dev.off()"
   ]
  },
  {
   "cell_type": "markdown",
   "metadata": {},
   "source": [
    "### 4.5. Supplementary Figure 1: larger meta-analysis plots"
   ]
  },
  {
   "cell_type": "code",
   "execution_count": 490,
   "metadata": {},
   "outputs": [],
   "source": [
    "plot_forest <- function(bg) {\n",
    "    pdf(\"NULL\")\n",
    "    meta_analysis_df %>% \n",
    "        filter(blood_group == bg) %>% \n",
    "        pull(meta) %>% \n",
    "        first %>%\n",
    "        forest(\n",
    "            JAMA.pval = T, \n",
    "            test.overall.random = T, \n",
    "            leftcols = c('studlab', 'event.e', 'n.e', 'event.c', 'n.c'),\n",
    "            leftlabs = c('Source', 'COV+', 'Total', 'COV+', 'Total'),\n",
    "            lab.e = str_c('ABO: ', bg),\n",
    "            lab.c = str_c('ABO: ¬', bg),\n",
    "            print.zval = F,\n",
    "            smlab = \"\",\n",
    "            plotwidth = \"2cm\",\n",
    "            text.random = \"Random effects\",\n",
    "            col.diamond.random = \"red\",\n",
    "            squaresize = 0.5,\n",
    "            addrow = F,\n",
    "            colgap = \"2mm\"\n",
    "        )\n",
    "    \n",
    "    grid.text(bg, x = 0.01, hjust = 0, \n",
    "              y = 0.975, vjust = 1, gp = gpar(cex = 2))\n",
    "    ret <- grid.grab()\n",
    "    whatever <- dev.off()\n",
    "    ret\n",
    "}\n",
    "\n",
    "all_forest_plots <- list(\"A\", \"AB\", \"B\", \"O\") %>% map(plot_forest)"
   ]
  },
  {
   "cell_type": "raw",
   "metadata": {},
   "source": [
    "options(repr.plot.width = 8, repr.plot.height = 9)\n",
    "\n",
    "grid.arrange(all_forest_plots[[1]], all_forest_plots[[2]], \n",
    "             all_forest_plots[[3]], all_forest_plots[[4]], \n",
    "             ncol = 1, nrow = 4)"
   ]
  },
  {
   "cell_type": "code",
   "execution_count": 493,
   "metadata": {},
   "outputs": [
    {
     "data": {
      "text/html": [
       "<strong>png:</strong> 2"
      ],
      "text/latex": [
       "\\textbf{png:} 2"
      ],
      "text/markdown": [
       "**png:** 2"
      ],
      "text/plain": [
       "png \n",
       "  2 "
      ]
     },
     "metadata": {},
     "output_type": "display_data"
    },
    {
     "data": {
      "text/html": [
       "<strong>png:</strong> 2"
      ],
      "text/latex": [
       "\\textbf{png:} 2"
      ],
      "text/markdown": [
       "**png:** 2"
      ],
      "text/plain": [
       "png \n",
       "  2 "
      ]
     },
     "metadata": {},
     "output_type": "display_data"
    }
   ],
   "source": [
    "grid.newpage()\n",
    "pdf(\"../img/figure_2_supplementary.pdf\", height = 9, width = 8)\n",
    "grid.arrange(all_forest_plots[[1]], all_forest_plots[[2]], \n",
    "             all_forest_plots[[3]], all_forest_plots[[4]], \n",
    "             ncol = 1, nrow = 4)\n",
    "dev.off()\n",
    "\n",
    "grid.newpage()\n",
    "png(\"../img/figure_2_supplementary.png\", height = 9, width = 8, units = \"in\", res = 400)\n",
    "grid.arrange(all_forest_plots[[1]], all_forest_plots[[2]], \n",
    "             all_forest_plots[[3]], all_forest_plots[[4]], \n",
    "             ncol = 1, nrow = 4)\n",
    "dev.off()"
   ]
  },
  {
   "cell_type": "markdown",
   "metadata": {},
   "source": [
    "### 4.6. Supplementary Table 2: Chi-squared tests for overall associations"
   ]
  },
  {
   "cell_type": "code",
   "execution_count": 37,
   "metadata": {},
   "outputs": [],
   "source": [
    "st2_chisq <- chi_squared_df %>%\n",
    "    mutate(\n",
    "        p.value = p.value %>% formatC(., digits = 2, format = 'g', flag = '#'),\n",
    "        blood_group_type = blood_group_type %>% \n",
    "            recode('abo' = 'ABO', 'abo_rh' = 'ABO/Rh', 'rh' = 'Rh'),\n",
    "        across(c(group_1, group_2), ~str_replace_all(\n",
    "            ., c('_neg' = '-', '_pos' = '+', 'neg' = 'Rh-neg', 'pos' = 'Rh-pos')))\n",
    "    ) %>%\n",
    "    select('Comparison' = test_id, 'Blood group type' = blood_group_type, \n",
    "           'Group 1 counts' = group_1, 'Group 2 counts' = group_2, 'p-value' = p.value)"
   ]
  },
  {
   "cell_type": "markdown",
   "metadata": {},
   "source": [
    "### 4.7. Supplementary Table 3:  Individual blood group associations"
   ]
  },
  {
   "cell_type": "code",
   "execution_count": 72,
   "metadata": {
    "scrolled": true
   },
   "outputs": [],
   "source": [
    "st3_one_vs_rest <- individual_blood_group_associations_df %>%\n",
    "    filter(term == 'had_blood_group', blood_group != 'AB_neg') %>%\n",
    "    mutate(\n",
    "        outcome = outcome %>% recode_factor(\n",
    "            'cov_pos' = 'COV+', 'intubated' = 'COV+/Intubated', 'died' = 'COV+/Died'),\n",
    "        blood_group = blood_group %>% \n",
    "            str_replace_all(c('_neg' = '-', '_pos' = '+', 'neg' = 'Rh-neg', 'pos' = 'Rh-pos')),\n",
    "        conf.low = estimate - 1.96 * std.error,\n",
    "        conf.high = estimate + 1.96 * std.error,\n",
    "        across(c(estimate, conf.low, conf.high), ~sprintf('%.3f', exp(.))),\n",
    "        p.value = p.value %>% sprintf('%.2g', .),\n",
    "        ci = str_c(conf.low, conf.high, sep = '-'),\n",
    "        formatted = str_glue('{estimate}, [{ci}], p={p.value}') %>% as.character\n",
    "    ) %>%\n",
    "    pivot_wider(id_cols = c(outcome, blood_group), \n",
    "                names_from = formula_id, values_from = formatted) %>%\n",
    "    select('Outcome' = outcome, 'Blood group' = blood_group,\n",
    "           'Raw estimate' = univariate, 'Adjusted estimate' = multivariate) "
   ]
  },
  {
   "cell_type": "markdown",
   "metadata": {},
   "source": [
    "### 4.8. Supplementary Table 4: Blood group ~ Risk factors"
   ]
  },
  {
   "cell_type": "code",
   "execution_count": 39,
   "metadata": {},
   "outputs": [],
   "source": [
    "st4_bg_vs_rf <- bg_rf_df %>%\n",
    "    filter(term != '(Intercept)') %>%\n",
    "    mutate(\n",
    "        blood_group = blood_group %>% \n",
    "            str_replace_all(c('_neg' = '-', '_pos' = '+', 'neg' = 'Rh-neg', 'pos' = 'Rh-pos')),\n",
    "        \n",
    "        term = term %>% \n",
    "            str_replace_all(c(\n",
    "                'risk_factor_' = '', 'male_sex' = 'sex (male)', 'ethn_' = 'ethnicity ', \n",
    "                'race_' = 'race ', 'hs$' = '(Hispanic)', 'asian' = '(Asian)',\n",
    "                'black_aa' = '(Black)', 'other' = '(Other)', 'missing' = '(Missing)',\n",
    "                '_' = ' ', 'normed' = '')),\n",
    "        \n",
    "        conf.low = estimate - 1.96 * std.error,\n",
    "        conf.high = estimate + 1.96 * std.error,\n",
    "        across(c(estimate, conf.low, conf.high), ~sprintf('%.3f', exp(.))),\n",
    "        p.value = p.value %>% sprintf('%.2g', .),\n",
    "        ci = str_c(conf.low, conf.high, sep = '-')\n",
    "    ) %>%\n",
    "    select('Blood group' = blood_group, 'Term' = term, 'OR' = estimate, '95% CI' = ci, 'p-value' = p.value) "
   ]
  },
  {
   "cell_type": "markdown",
   "metadata": {},
   "source": [
    "### 4.9. Supplementary Table 5: Model fits"
   ]
  },
  {
   "cell_type": "code",
   "execution_count": 401,
   "metadata": {},
   "outputs": [],
   "source": [
    "s5_model_fits <- model_fits_df %>%\n",
    "    mutate(\n",
    "        outcome = outcome %>% recode_factor(\n",
    "            'cov_pos' = 'COV+', 'intubated' = 'COV+/Intubated', 'died' = 'COV+/Died'),\n",
    "        across(c('Deviance', 'Resid. Dev'), ~round(., digits = 1)),\n",
    "        'Pr(>Chi)' = `Pr(>Chi)` %>% sprintf('%.2g', .)\n",
    "    ) %>%\n",
    "    select('Outcome' = outcome, 'Comparison' = comparison_id, 'df' = Df, \n",
    "           'Resid. df' = 'Resid. Df', 'Deviance', 'Resid. deviance' = 'Resid. Dev',\n",
    "           'p-value' = 'Pr(>Chi)')"
   ]
  },
  {
   "cell_type": "markdown",
   "metadata": {},
   "source": [
    "### 4.10. Supplementary figure: Correlation matrix"
   ]
  },
  {
   "cell_type": "code",
   "execution_count": 43,
   "metadata": {},
   "outputs": [],
   "source": [
    "options(repr.plot.width = 8, repr.plot.height = 6)\n",
    "\n",
    "matrix_order <- c(\n",
    "    'abo_A' = 'A',\n",
    "    'abo_AB' = 'AB',\n",
    "    'abo_B' = 'B',\n",
    "    'abo_O' = 'O',\n",
    "    'rh_neg' = 'Rh-neg',\n",
    "    'age' = 'age',\n",
    "    'male_sex' = 'sex (male)',\n",
    "    'risk_factor_cardiovascular_disorders' = 'CV dis.',\n",
    "    'risk_factor_diabetes_mellitus' = 'diabetes',\n",
    "    'risk_factor_hypertension' = 'HTN',\n",
    "    'risk_factor_obesity' = 'obesity',\n",
    "    'risk_factor_respiratory_disorders' = 'resp. dis.'\n",
    ") %>% rev\n",
    "\n",
    "correlation_matrix <- regression_df %>% \n",
    "    recipes::recipe() %>%\n",
    "    recipes::step_dummy(race, ethnicity, abo, rh, one_hot = T) %>%\n",
    "    recipes::prep() %>%\n",
    "    recipes::juice() %>%\n",
    "    select(age, male_sex, starts_with('risk_factor_'),\n",
    "           starts_with('abo_'), -abo_rh, rh_neg) %>%\n",
    "    cor(method = 'pearson')\n",
    "\n",
    "correlation_matrix <- correlation_matrix[names(matrix_order), names(matrix_order)]\n",
    "correlation_matrix[upper.tri(correlation_matrix)] <- NA\n",
    "correlation_matrix <- correlation_matrix %>%\n",
    "    as.data.frame %>%\n",
    "    rownames_to_column('var1') %>%\n",
    "    mutate(var1 = var1 %>% fct_reorder(row_number())) %>%\n",
    "    pivot_longer(-var1, names_to = 'var2') %>%\n",
    "    drop_na %>%\n",
    "    mutate(across(c(var1, var2), ~recode_factor(.x = ., !!!matrix_order)))\n",
    "\n",
    "\n",
    "full_correlation_matrix_plot <- correlation_matrix %>%\n",
    "    filter(!var2 %in% c('A', 'B', 'AB', 'O', 'Rh-neg'), var1 != var2) %>%\n",
    "    ggplot(aes(x = fct_rev(var1), y = var2, fill = value)) +\n",
    "    geom_tile() +\n",
    "    scale_fill_distiller(name = 'Spearman\\ncorrelation', palette = 'Blues', direction = 1, \n",
    "                         trans = 'pseudo_log', breaks = c(0, 0.25, 0.5, 0.75, 1)) +\n",
    "    theme_void() +\n",
    "    theme(\n",
    "        axis.text.y = element_text(),\n",
    "        axis.text.x = element_text(angle = 25, hjust = 1, vjust = 1),\n",
    "        legend.position = c(0.93, 0.68)\n",
    "    )\n",
    "\n",
    "bg_only_correlation_plot <- correlation_matrix %>%\n",
    "    filter(!var2 %in% c('A', 'B', 'AB', 'O', 'Rh-neg'), var1 %in% c('A', 'B', 'AB', 'O', 'Rh-neg')) %>%\n",
    "    ggplot(aes(x = fct_rev(var1), y = var2, fill = value)) +\n",
    "    geom_tile() +\n",
    "    scale_fill_distiller(name = 'Spearman\\ncorrelation', palette = 'Blues', direction = 1) +\n",
    "    theme_void() +\n",
    "    theme(\n",
    "        axis.text.y = element_text(size = 9, hjust = 1),\n",
    "        axis.text.x = element_text(size = 9, margin = margin(b = 1)),\n",
    "    )\n",
    "\n",
    "combined_plot <- plot_grid(\n",
    "    full_correlation_matrix_plot + theme(plot.margin = margin(t = 0.5, r = 0.2, unit = 'cm')), \n",
    "    bg_only_correlation_plot + theme(plot.margin = margin(t = 0.51, b = 0.7, unit = 'cm')), \n",
    "    rel_widths = c(1, 0.65), \n",
    "    labels = c('A', 'B'), label_x = 0, label_y = 1.01\n",
    ")\n",
    "\n",
    "ggsave('../img/correlation_matrix.png', combined_plot, height = 3, width = 8, dpi = 400)\n",
    "ggsave('../img/correlation_matrix.pdf', combined_plot, height = 3, width = 8)"
   ]
  },
  {
   "cell_type": "code",
   "execution_count": 46,
   "metadata": {},
   "outputs": [],
   "source": [
    "correlation_matrix %>%\n",
    "    filter(!var2 %in% c('A', 'B', 'AB', 'O', 'Rh-neg'), var1 != var2) %>%\n",
    "    write_tsv('../data/spearman_correlation_matrix.tsv')"
   ]
  },
  {
   "cell_type": "markdown",
   "metadata": {},
   "source": [
    "### 4.11. Race/ethnicity stratified analysis"
   ]
  },
  {
   "cell_type": "code",
   "execution_count": 54,
   "metadata": {},
   "outputs": [],
   "source": [
    "race_stratified_plot_df <- race_stratified_bg_vs_rest %>%\n",
    "    filter(\n",
    "        term == 'had_blood_group', blood_group_type %in% c('abo', 'rh'), blood_group != 'pos',\n",
    "        !race_ethnicity %in% c('race_asian', 'ethnicity_other'), blood_group != 'AB'\n",
    "    ) %>%\n",
    "    mutate(\n",
    "        conf.low = estimate - 1.96 * std.error,\n",
    "        conf.high = estimate + 1.96 * std.error,\n",
    "        across(c(estimate, conf.low, conf.high), exp),\n",
    "        outcome = outcome %>% recode_factor(\n",
    "            'cov_pos' = 'COV+', 'intubated' = 'COV+/Intubated', 'died' = 'COV+/Died'),\n",
    "        blood_group_type = blood_group_type %>% recode('abo' = 'ABO', 'rh' = 'Rh'),\n",
    "        blood_group = blood_group %>% str_replace_all(c('abo_' = '', 'pos' = 'Rh-pos', 'neg' = 'Rh-neg')),\n",
    "        blood_group_type = blood_group_type %>% fct_relevel(c('ABO', 'Rh')),\n",
    "        race_ethnicity = race_ethnicity %>% str_replace_all(c('race_' = 'Race ', 'ethnicity_' = 'Ethnicity ',\n",
    "                                                              'black_aa' = 'black/AA', 'nonhs' = 'non-Hispanic',\n",
    "                                                              'hs' = 'Hispanic')) %>% fct_rev\n",
    "    ) %>%\n",
    "    select(-term, -std.error, -statistic) %>%\n",
    "    relocate(c(conf.low, conf.high), .after = estimate)"
   ]
  },
  {
   "cell_type": "code",
   "execution_count": 55,
   "metadata": {},
   "outputs": [],
   "source": [
    "race_ethnicity_stratified_plot <- race_stratified_plot_df %>%\n",
    "    ggplot(aes(x = estimate, xmin = conf.low, xmax = conf.high, y = race_ethnicity,\n",
    "               group = formula_id, shape = formula_id, color = formula_id)) +\n",
    "    geom_vline(xintercept = 1, color = 'grey50', linetype = 'dashed') + \n",
    "    geom_errorbarh(height = 0.25, position = position_dodge(width = 0.55)) +\n",
    "    geom_point(size = 2, position = position_dodge(width = 0.55)) +\n",
    "    facet_grid(rows = vars(blood_group), cols = vars(outcome), scales = 'free') +\n",
    "    theme_cowplot() +\n",
    "    xlab('Odds ratio (95% CI)') +\n",
    "    guides(color = guide_legend(reverse = T), shape = guide_legend(reverse = T)) +\n",
    "    scale_color_brewer(palette = 'Set1') +\n",
    "    theme(\n",
    "        panel.background = element_rect(color = 'black'),\n",
    "        axis.title.y = element_blank(),\n",
    "        legend.title = element_blank()\n",
    "    )"
   ]
  },
  {
   "cell_type": "code",
   "execution_count": 56,
   "metadata": {},
   "outputs": [
    {
     "data": {
      "image/png": "[encoded data removed]",
      "text/plain": [
       "plot without title"
      ]
     },
     "metadata": {},
     "output_type": "display_data"
    }
   ],
   "source": [
    "options(repr.plot.width = 8, repr.plot.height = 5.5, repr.plot.res = 100)\n",
    "\n",
    "race_ethnicity_stratified_plot"
   ]
  },
  {
   "cell_type": "code",
   "execution_count": 57,
   "metadata": {},
   "outputs": [],
   "source": [
    "race_stratified_plot_df %>% write_tsv('../data/race_ethn_stratified_associations.tsv')"
   ]
  },
  {
   "cell_type": "code",
   "execution_count": 580,
   "metadata": {},
   "outputs": [],
   "source": [
    "ggsave('../img/race_ethnicity_stratified.png', race_ethnicity_stratified_plot, height = 5.5, width = 8, dpi = 400)\n",
    "ggsave('../img/race_ethnicity_stratified.pdf', race_ethnicity_stratified_plot, height = 5.5, width = 8)"
   ]
  },
  {
   "cell_type": "markdown",
   "metadata": {},
   "source": [
    "## 5. Export analysis to Google Drive\n",
    "\n",
    "#### Main text\n",
    "\n",
    "1. Table 1 (both basic and stratified)\n",
    "2. Table 2: Meta analysis\n",
    "3. Figure 1: Effect size estimates\n",
    "4. Figure 2: Small meta-analysis forest plots\n",
    "\n",
    "#### Supplementary materials\n",
    "\n",
    "1. Table 1: ABO/Rh stratified Table 1 \n",
    "2. Table 2: Chi-squared tests\n",
    "3. Table 3: One-vs-rest (uni/multi) regression coefficients\n",
    "4. Table 4: Blood group - risk factor association regression coefficients\n",
    "5. Table 5: Model fits ANOVA\n",
    "6. Figure 1: Larger meta-analysis forest plots"
   ]
  },
  {
   "cell_type": "code",
   "execution_count": 58,
   "metadata": {},
   "outputs": [
    {
     "name": "stderr",
     "output_type": "stream",
     "text": [
      "\n",
      "Attaching package: ‘googledrive’\n",
      "\n",
      "The following objects are masked from ‘package:googlesheets4’:\n",
      "\n",
      "    request_generate, request_make\n",
      "\n"
     ]
    }
   ],
   "source": [
    "library(googlesheets4)\n",
    "gs4_auth(email = 'michael.zietz@gmail.com', path = '~/.ssh/xswap-compute-5b866b2d1e2f.json', \n",
    "         use_oob = TRUE)\n",
    "\n",
    "library(googledrive)\n",
    "drive_auth(email = 'michael.zietz@gmail.com', path = '~/.ssh/xswap-compute-5b866b2d1e2f.json')"
   ]
  },
  {
   "cell_type": "code",
   "execution_count": 368,
   "metadata": {},
   "outputs": [],
   "source": [
    "all_tables = list(\n",
    "        # Main text tables\n",
    "        't1_basic' = table_1_basic, \n",
    "        't1_stratified' = table_1_stratified, \n",
    "        't2_meta' = table_2_meta,\n",
    "\n",
    "        # Supplementary tables\n",
    "        'st1_aborh_stratified' = st1_abo_rh_table_1,\n",
    "        'st2_chisq' = st2_chisq,\n",
    "        'st3_one_vs_rest' = st3_one_vs_rest,\n",
    "        'st4_bg_vs_rf' = st4_bg_vs_rf,\n",
    "        'st4_bg_vs_rf_filtered' = st4_bg_vs_rf %>%\n",
    "            filter(`Blood group` %in% c('A', 'B', 'AB', 'O'), as.numeric(`p-value`) < 0.05),\n",
    "        'st5_model_fits' = s5_model_fits\n",
    "    ) %>% \n",
    "    map(~mutate(.x, across(everything(), as.character)))"
   ]
  },
  {
   "cell_type": "code",
   "execution_count": null,
   "metadata": {},
   "outputs": [],
   "source": [
    "sheet_name <- str_glue('analysis_{date}') %>% as.character\n",
    "drive_rm(sheet_name)\n",
    "\n",
    "abo_sheet <- gs4_create(\n",
    "    name = sheet_name,\n",
    "    sheets = all_tables\n",
    ")\n",
    "\n",
    "drive_mkdir(name = 'analysis_revised_v1.1', path = 'ABO_COVID/', overwrite = T)\n",
    "drive_mv(file = sheet_name, path = 'ABO_COVID/analysis_revised_v1.1/', overwrite = T)"
   ]
  },
  {
   "cell_type": "code",
   "execution_count": 3,
   "metadata": {
    "scrolled": true
   },
   "outputs": [
    {
     "name": "stderr",
     "output_type": "stream",
     "text": [
      "Pre-existing file found at this filepath. Calling `drive_update()`.\n",
      "File updated:\n",
      "  * correlation_matrix.pdf: 1HFXBFDv_8paB0Da3F3JxZcWzLAvqSWOg\n",
      "Pre-existing file found at this filepath. Calling `drive_update()`.\n",
      "File updated:\n",
      "  * correlation_matrix.png: 1g01JeTXCrKHyh1DI1gMPtvhr6bU-T1Sm\n",
      "Pre-existing file found at this filepath. Calling `drive_update()`.\n",
      "File updated:\n",
      "  * figure_1.pdf: 1rBBLp4-XafJhVpAMHcaXLV_wrI06rADg\n",
      "Pre-existing file found at this filepath. Calling `drive_update()`.\n",
      "File updated:\n",
      "  * figure_1.png: 1HqVxttnbm-5CjtW0veaS5EG4GaIJ1k9s\n",
      "Pre-existing file found at this filepath. Calling `drive_update()`.\n",
      "File updated:\n",
      "  * figure_2_supplementary.pdf: 1qUQ-0kn0BN61IDeFCT-3e4-m8t0zu_Fs\n",
      "Pre-existing file found at this filepath. Calling `drive_update()`.\n",
      "File updated:\n",
      "  * figure_2_supplementary.png: 1__FeMJJ3NryjhZ9nqZhZdq3kKSI9_v1t\n",
      "Pre-existing file found at this filepath. Calling `drive_update()`.\n",
      "File updated:\n",
      "  * figure_2.pdf: 1TUwljyzjMQrpE0ZxD-C9uvmMM4CrxY1g\n",
      "Pre-existing file found at this filepath. Calling `drive_update()`.\n",
      "File updated:\n",
      "  * figure_2.png: 1GHvWiBGLdweSCv6xhvdrL4LSL116T_yn\n",
      "Pre-existing file found at this filepath. Calling `drive_update()`.\n",
      "File updated:\n",
      "  * race_ethnicity_stratified.pdf: 1vPBkEjN6-3IHV3KyWXW-a1UrQomypdvJ\n",
      "Pre-existing file found at this filepath. Calling `drive_update()`.\n",
      "File updated:\n",
      "  * race_ethnicity_stratified.png: 1jdTLiVFaY2DJ8O6TKzSx7rEUw9JhIVEj\n",
      "No pre-existing file at this filepath. Calling `drive_upload()`.\n",
      "Local file:\n",
      "  * ../img//ukb_forest.png\n",
      "uploaded into Drive file:\n",
      "  * ukb_forest.png: 1wzXfqHboS-DdSchUDSW8gHbnz_UARkHW\n",
      "with MIME type:\n",
      "  * image/png\n"
     ]
    }
   ],
   "source": [
    "for (file in list.files(path = '../img/', pattern = '*', full.names = T)) {\n",
    "    drive_put(file, path = 'ABO_COVID/analysis_revised_v1.1/')\n",
    "}"
   ]
  },
  {
   "cell_type": "code",
   "execution_count": 503,
   "metadata": {},
   "outputs": [],
   "source": [
    "st4_bg_vs_rf %>%\n",
    "    filter(!`Blood group` %in% c(\"AB-\", \"Rh-pos\")) %>% \n",
    "    write_tsv('../data/2020-06-15/blood_group_risk_factor_associations.tsv')"
   ]
  },
  {
   "cell_type": "code",
   "execution_count": 59,
   "metadata": {
    "scrolled": true
   },
   "outputs": [
    {
     "name": "stderr",
     "output_type": "stream",
     "text": [
      "No pre-existing file at this filepath. Calling `drive_upload()`.\n",
      "Local file:\n",
      "  * ../data/race_ethn_stratified_associations.tsv\n",
      "uploaded into Drive file:\n",
      "  * race_ethn_stratified_associations.tsv: 1i9a6LdRZ3RIA7ZhTGeXI1oLQH9e1HTJ8\n",
      "with MIME type:\n",
      "  * text/tab-separated-values\n",
      "No pre-existing file at this filepath. Calling `drive_upload()`.\n",
      "Local file:\n",
      "  * ../data/spearman_correlation_matrix.tsv\n",
      "uploaded into Drive file:\n",
      "  * spearman_correlation_matrix.tsv: 1VEfpW0lzLB1P9TU3KMeyUwsKPscEiNRQ\n",
      "with MIME type:\n",
      "  * text/tab-separated-values\n"
     ]
    }
   ],
   "source": [
    "for (file in c('../data/race_ethn_stratified_associations.tsv', '../data/spearman_correlation_matrix.tsv')) {\n",
    "    drive_put(file, path = 'ABO_COVID/analysis_revised_v1.1/')\n",
    "}"
   ]
  }
 ],
 "metadata": {
  "kernelspec": {
   "display_name": "R [conda env:nsides] *",
   "language": "R",
   "name": "conda-env-nsides-r"
  },
  "language_info": {
   "codemirror_mode": "r",
   "file_extension": ".r",
   "mimetype": "text/x-r-source",
   "name": "R",
   "pygments_lexer": "r",
   "version": "3.5.1"
  }
 },
 "nbformat": 4,
 "nbformat_minor": 2
}
