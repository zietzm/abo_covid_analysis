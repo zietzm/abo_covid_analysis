{
 "cells": [
  {
   "cell_type": "code",
   "execution_count": 1,
   "metadata": {
    "scrolled": true
   },
   "outputs": [
    {
     "name": "stderr",
     "output_type": "stream",
     "text": [
      "── \u001b[1mAttaching packages\u001b[22m ─────────────────────────────────────── tidyverse 1.3.0 ──\n",
      "\n",
      "\u001b[32m✔\u001b[39m \u001b[34mggplot2\u001b[39m 3.3.2     \u001b[32m✔\u001b[39m \u001b[34mpurrr  \u001b[39m 0.3.4\n",
      "\u001b[32m✔\u001b[39m \u001b[34mtibble \u001b[39m 3.0.3     \u001b[32m✔\u001b[39m \u001b[34mdplyr  \u001b[39m 1.0.0\n",
      "\u001b[32m✔\u001b[39m \u001b[34mtidyr  \u001b[39m 1.1.0     \u001b[32m✔\u001b[39m \u001b[34mstringr\u001b[39m 1.4.0\n",
      "\u001b[32m✔\u001b[39m \u001b[34mreadr  \u001b[39m 1.3.1     \u001b[32m✔\u001b[39m \u001b[34mforcats\u001b[39m 0.5.0\n",
      "\n",
      "── \u001b[1mConflicts\u001b[22m ────────────────────────────────────────── tidyverse_conflicts() ──\n",
      "\u001b[31m✖\u001b[39m \u001b[34mdplyr\u001b[39m::\u001b[32mfilter()\u001b[39m masks \u001b[34mstats\u001b[39m::filter()\n",
      "\u001b[31m✖\u001b[39m \u001b[34mdplyr\u001b[39m::\u001b[32mlag()\u001b[39m    masks \u001b[34mstats\u001b[39m::lag()\n",
      "\n"
     ]
    }
   ],
   "source": [
    "library(broom)\n",
    "library(sandwich)\n",
    "library(tidyverse)"
   ]
  },
  {
   "cell_type": "markdown",
   "metadata": {},
   "source": [
    "## Can we use linear regression to estimate risk differences?\n",
    "\n",
    "<img src='https://upload.wikimedia.org/wikipedia/commons/thumb/5/5d/Illustration_of_risk_reduction.svg/1024px-Illustration_of_risk_reduction.svg.png' width='400'>"
   ]
  },
  {
   "cell_type": "code",
   "execution_count": 2,
   "metadata": {},
   "outputs": [
    {
     "data": {
      "text/html": [
       "<table>\n",
       "<caption>A data.frame: 2 × 2</caption>\n",
       "<thead>\n",
       "\t<tr><th></th><th scope=col>experimental</th><th scope=col>control</th></tr>\n",
       "\t<tr><th></th><th scope=col>&lt;dbl&gt;</th><th scope=col>&lt;dbl&gt;</th></tr>\n",
       "</thead>\n",
       "<tbody>\n",
       "\t<tr><th scope=row>Outcome</th><td> 4</td><td>8</td></tr>\n",
       "\t<tr><th scope=row>No outcome</th><td>12</td><td>8</td></tr>\n",
       "</tbody>\n",
       "</table>\n"
      ],
      "text/latex": [
       "A data.frame: 2 × 2\n",
       "\\begin{tabular}{r|ll}\n",
       "  & experimental & control\\\\\n",
       "  & <dbl> & <dbl>\\\\\n",
       "\\hline\n",
       "\tOutcome &  4 & 8\\\\\n",
       "\tNo outcome & 12 & 8\\\\\n",
       "\\end{tabular}\n"
      ],
      "text/markdown": [
       "\n",
       "A data.frame: 2 × 2\n",
       "\n",
       "| <!--/--> | experimental &lt;dbl&gt; | control &lt;dbl&gt; |\n",
       "|---|---|---|\n",
       "| Outcome |  4 | 8 |\n",
       "| No outcome | 12 | 8 |\n",
       "\n"
      ],
      "text/plain": [
       "           experimental control\n",
       "Outcome     4           8      \n",
       "No outcome 12           8      "
      ]
     },
     "metadata": {},
     "output_type": "display_data"
    },
    {
     "name": "stdout",
     "output_type": "stream",
     "text": [
      "Risk difference: -0.25, standard error: 0.17, \n",
      "95% CI: -0.57 - 0.07, NNT: -4\n"
     ]
    }
   ],
   "source": [
    "ee <- 4\n",
    "en <- 12\n",
    "ce <- 8\n",
    "cn <- 8\n",
    "\n",
    "df <- data.frame(\n",
    "    treated = c(rep(1, ee + en), rep(0, ce + cn)),\n",
    "    outcome = c(rep(1, ee), rep(0, en), rep(1, ce), rep(0, cn))\n",
    ")\n",
    "\n",
    "rd = ee / (ee + en) - ce / (ce + cn)\n",
    "std.error = sqrt(ee * en / (ee + en)^3 + ce * cn / (ce + cn)^3)\n",
    "conf.low = rd - 1.96 * std.error\n",
    "conf.high = rd + 1.96 * std.error\n",
    "NNT = 1 / rd\n",
    "\n",
    "table <- data.frame(experimental = c(ee, en), control = c(ce, cn))\n",
    "rownames(table) <- c('Outcome', 'No outcome')\n",
    "table\n",
    "\n",
    "'Risk difference: {rd}, standard error: {round(std.error, 2)}, \n",
    "          95% CI: {round(conf.low, 2)} - {round(conf.high, 2)}, NNT: {NNT}' %>%\n",
    "    str_glue() %>%\n",
    "    print"
   ]
  },
  {
   "cell_type": "code",
   "execution_count": 3,
   "metadata": {},
   "outputs": [
    {
     "data": {
      "text/plain": [
       "\n",
       "Call:\n",
       "lm(formula = outcome ~ treated, data = df)\n",
       "\n",
       "Coefficients:\n",
       "(Intercept)      treated  \n",
       "       0.50        -0.25  \n"
      ]
     },
     "metadata": {},
     "output_type": "display_data"
    }
   ],
   "source": [
    "lm(outcome ~ treated, data = df)"
   ]
  },
  {
   "cell_type": "markdown",
   "metadata": {},
   "source": [
    "## Uncertainties?\n",
    "\n",
    "Sandwich robust variance estimator for Gaussian link GLM (OLS).\n",
    "https://doi.org/10.1093/aje/kwaa044\n",
    "\n",
    "Implementation example:\n",
    "http://thestatsgeek.com/2014/02/14/the-robust-sandwich-variance-estimator-for-linear-regression-using-r/"
   ]
  },
  {
   "cell_type": "code",
   "execution_count": 4,
   "metadata": {},
   "outputs": [
    {
     "data": {
      "text/html": [
       "<table>\n",
       "<caption>A tibble: 1 × 9</caption>\n",
       "<thead>\n",
       "\t<tr><th scope=col>term</th><th scope=col>estimate</th><th scope=col>std.error</th><th scope=col>statistic</th><th scope=col>p.value</th><th scope=col>sandwich.std.error</th><th scope=col>sandwich.conf.low</th><th scope=col>sandwich.conf.high</th><th scope=col>NNT</th></tr>\n",
       "\t<tr><th scope=col>&lt;chr&gt;</th><th scope=col>&lt;dbl&gt;</th><th scope=col>&lt;dbl&gt;</th><th scope=col>&lt;dbl&gt;</th><th scope=col>&lt;dbl&gt;</th><th scope=col>&lt;dbl&gt;</th><th scope=col>&lt;dbl&gt;</th><th scope=col>&lt;dbl&gt;</th><th scope=col>&lt;dbl&gt;</th></tr>\n",
       "</thead>\n",
       "<tbody>\n",
       "\t<tr><td>treated</td><td>-0.25</td><td>0.1707825</td><td>-1.46385</td><td>0.1536353</td><td>0.1653595</td><td>-0.5741045</td><td>0.07410454</td><td>-4</td></tr>\n",
       "</tbody>\n",
       "</table>\n"
      ],
      "text/latex": [
       "A tibble: 1 × 9\n",
       "\\begin{tabular}{lllllllll}\n",
       " term & estimate & std.error & statistic & p.value & sandwich.std.error & sandwich.conf.low & sandwich.conf.high & NNT\\\\\n",
       " <chr> & <dbl> & <dbl> & <dbl> & <dbl> & <dbl> & <dbl> & <dbl> & <dbl>\\\\\n",
       "\\hline\n",
       "\t treated & -0.25 & 0.1707825 & -1.46385 & 0.1536353 & 0.1653595 & -0.5741045 & 0.07410454 & -4\\\\\n",
       "\\end{tabular}\n"
      ],
      "text/markdown": [
       "\n",
       "A tibble: 1 × 9\n",
       "\n",
       "| term &lt;chr&gt; | estimate &lt;dbl&gt; | std.error &lt;dbl&gt; | statistic &lt;dbl&gt; | p.value &lt;dbl&gt; | sandwich.std.error &lt;dbl&gt; | sandwich.conf.low &lt;dbl&gt; | sandwich.conf.high &lt;dbl&gt; | NNT &lt;dbl&gt; |\n",
       "|---|---|---|---|---|---|---|---|---|\n",
       "| treated | -0.25 | 0.1707825 | -1.46385 | 0.1536353 | 0.1653595 | -0.5741045 | 0.07410454 | -4 |\n",
       "\n"
      ],
      "text/plain": [
       "  term    estimate std.error statistic p.value   sandwich.std.error\n",
       "1 treated -0.25    0.1707825 -1.46385  0.1536353 0.1653595         \n",
       "  sandwich.conf.low sandwich.conf.high NNT\n",
       "1 -0.5741045        0.07410454         -4 "
      ]
     },
     "metadata": {},
     "output_type": "display_data"
    }
   ],
   "source": [
    "reg <- lm(outcome ~ treated, data = df)\n",
    "\n",
    "# Heteroskedasticity-consistent estimation of the covariance matrix \n",
    "# of the coefficient estimates in regression models.\n",
    "# Standard errors are square roots of coefficient variances.\n",
    "sandwich_se <- vcovHC(reg, type = \"HC\") %>% diag() %>% sqrt()\n",
    "\n",
    "reg %>%\n",
    "    tidy %>%\n",
    "    mutate(\n",
    "        sandwich.std.error = sandwich_se,\n",
    "        sandwich.conf.low = estimate - 1.96 * sandwich.std.error,\n",
    "        sandwich.conf.high = estimate + 1.96 * sandwich.std.error,\n",
    "        NNT = 1 / estimate\n",
    "    ) %>%\n",
    "    filter(term == 'treated')"
   ]
  },
  {
   "cell_type": "markdown",
   "metadata": {},
   "source": [
    "## Can we estimate risk differences using Nelson-Aalen models?"
   ]
  },
  {
   "cell_type": "code",
   "execution_count": null,
   "metadata": {},
   "outputs": [],
   "source": []
  },
  {
   "cell_type": "code",
   "execution_count": null,
   "metadata": {},
   "outputs": [],
   "source": []
  }
 ],
 "metadata": {
  "kernelspec": {
   "display_name": "R [conda env:covid] *",
   "language": "R",
   "name": "conda-env-covid-r"
  },
  "language_info": {
   "codemirror_mode": "r",
   "file_extension": ".r",
   "mimetype": "text/x-r-source",
   "name": "R",
   "pygments_lexer": "r",
   "version": "4.0.2"
  }
 },
 "nbformat": 4,
 "nbformat_minor": 4
}
